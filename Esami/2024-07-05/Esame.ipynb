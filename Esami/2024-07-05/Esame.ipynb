{
 "cells": [
  {
   "cell_type": "markdown",
   "metadata": {},
   "source": [
    "# Esercizio 1\n",
    "\n",
    "Una ditta produce un certo tipo di apparecchiature sofisticate; l’8% degli \n",
    "apparecchi  prodotti,  mediamente,  presenta  qualche  tipo  di  malfunzionamento. \n",
    "Perciò la ditta ha messo a punto un test di collaudo che tiene conto dei difetti più \n",
    "frequenti  in  modo  tale  che:  il  90%  degli  apparecchi  imperfetti  non  supera  il  test; \n",
    "l’1% degli apparecchi funzionanti non supera il test per qualche errore \n",
    "nell’esecuzione  del  collaudo.  Se  vengono  messi  in  commercio  tutti  e  soli  gli \n",
    "apparecchi  che  superano  il  test,  qual  è  la  probabilità  che  uno  di  questi  risulti \n",
    "difettoso? "
   ]
  },
  {
   "cell_type": "code",
   "execution_count": 7,
   "metadata": {},
   "outputs": [
    {
     "name": "stdout",
     "output_type": "stream",
     "text": [
      "0.0087070091423596\n"
     ]
    }
   ],
   "source": [
    "P_D = 0.08         # Probabilità che un apparecchio sia difettoso\n",
    "P_not_D = 0.92     # Probabilità che un apparecchio sia funzionante\n",
    "P_T_given_D = 0.10 # Probabilità che un apparecchio difettoso superi il test\n",
    "P_T_given_not_D = 0.99 # Probabilità che un apparecchio funzionante superi il test\n",
    "\n",
    "P_T = (P_T_given_D * P_D) + (P_T_given_not_D * P_not_D)\n",
    "\n",
    "P_D_given_T = (P_T_given_D * P_D) / P_T\n",
    "print(P_D_given_T)"
   ]
  },
  {
   "cell_type": "markdown",
   "metadata": {},
   "source": [
    "# Esercizio 2\n",
    "\n",
    "Di un campione di 22 stati sono di seguito elencati la durata media della vita e il numero di persone per ogni apparecchio televisivo.\n",
    "\n",
    "Esiste una correlazione tra le due grandezze? Può essere descritta da un legame lineare? Scrivere la retta di regressione.\n",
    "\n",
    "| Stato          | Vita | Persona/TV | Stato        | Vita | Persona/TV |\n",
    "|----------------|------|------------|--------------|------|------------|\n",
    "| Angola         | 44   | 200        | Madagascar   | 52.5 | 92         |\n",
    "| Australia      | 76.5 | 2          | Marocco      | 64.5 | 21         |\n",
    "| Cambogia       | 49.5 | 177        | Messico      | 72   | 6.6        |\n",
    "| Canada         | 76.5 | 1.7        | Pakistan     | 56.5 | 73         |\n",
    "| Cina           | 70   | 8          | Russia       | 69   | 3.2        |\n",
    "| Egitto         | 60.5 | 15         | Sri Lanka    | 71.5 | 28         |\n",
    "| Francia        | 78   | 2.6        | Sud Africa   | 64   | 11         |\n",
    "| Giappone       | 79   | 1.8        | Uganda       | 51   | 191        |\n",
    "| Gran Bretagna  | 76   | 3          | USA          | 75.5 | 1.3        |\n",
    "| Haiti          | 53.5 | 234        | Vietnam      | 65   | 29         |\n",
    "| Iraq           | 67   | 18         | Yemen        | 50   | 38         |\n",
    "\n",
    "1. Verificare se esiste una correlazione tra la durata media della vita e il numero di persone per ogni apparecchio televisivo.\n",
    "2. Verificare se tale correlazione può essere descritta da un legame lineare.\n",
    "3. Scrivere l'equazione della retta di regressione.\n"
   ]
  },
  {
   "cell_type": "code",
   "execution_count": 8,
   "metadata": {},
   "outputs": [
    {
     "name": "stdout",
     "output_type": "stream",
     "text": [
      "Coefficiente di determinazione:  0.6461100983728438\n"
     ]
    },
    {
     "data": {
      "image/png": "[encoded data removed]",
      "text/plain": [
       "<Figure size 640x480 with 1 Axes>"
      ]
     },
     "metadata": {},
     "output_type": "display_data"
    }
   ],
   "source": [
    "import numpy as np\n",
    "import matplotlib.pyplot as plt\n",
    "\n",
    "X = np.array([44, 76.5, 49.5, 76.5, 70, 60.5, 78, 79, 76, 53.5, 67, 52.5, 64.5, 72, 56.5, 69, 71.5, 64, 51, 75.5, 65, 50])\n",
    "Y = np.array([200, 2, 177, 1.7, 8, 15, 2.6, 1.8, 3, 234, 18, 92, 21, 6.6, 73, 3.2, 28, 11, 191, 1.3, 29, 38])\n",
    "n = 22\n",
    "\n",
    "# Coefficienti della retta di regressione\n",
    "\n",
    "x_bar = np.mean(X)\n",
    "y_bar = np.mean(Y)\n",
    "\n",
    "sig_bar_xy = np.sum((X - x_bar) * (Y - y_bar)) / n\n",
    "sig_bar_x2 = np.sum((X - x_bar) ** 2) / n\n",
    "\n",
    "b0 = y_bar - sig_bar_xy / sig_bar_x2 * x_bar\n",
    "b1 = sig_bar_xy / sig_bar_x2\n",
    "\n",
    "# Coefficente di determinazione\n",
    "\n",
    "sig_y_2 = np.sum((Y - y_bar) ** 2) / n\n",
    "R2 = sig_bar_xy**2 / (sig_bar_x2 * sig_y_2)\n",
    "print(\"Coefficiente di determinazione: \", R2)\n",
    "\n",
    "# Rappresentazione dei dati\n",
    "\n",
    "min = np.round(np.min(X))\n",
    "max = np.round(np.max(X))\n",
    "assex = np.linspace(min, max, 1000)\n",
    "assey = b0 + b1 * assex\n",
    "plt.plot(X, Y, \"*\")\n",
    "plt.plot(assex, assey, color=\"green\")\n",
    "plt.title(\"Retta di Regressione\")\n",
    "plt.xlabel(\"Vita\")\n",
    "plt.ylabel(\"Persona/TV\")\n",
    "plt.show()"
   ]
  },
  {
   "cell_type": "markdown",
   "metadata": {},
   "source": [
    "# Esercizio 3\n",
    "\n",
    "La precisione di una macchina che produce componenti di dimensioni specificate \n",
    "viene tenuta sotto controllo con verifiche campionarie: la dimensione specificata è \n",
    "mu = 3.5mm.  Se,  su  150  pezzi  prodotti,  si  è  riscontrata  una  media  campionaria pari  a   3.42mm e  una  varianza  campionaria  pari  a 0.2209 $mm^2$,  il  processo  va  considerato \"sotto controllo\" o \"fuori controllo\"? \n",
    "\n",
    "Rispondere poi alla stessa domanda, supponendo che le stesse statistiche siano state rilevate su un campione di ampiezza 60."
   ]
  },
  {
   "cell_type": "code",
   "execution_count": null,
   "metadata": {},
   "outputs": [
    {
     "name": "stdout",
     "output_type": "stream",
     "text": [
      "Risutati con n = 150: \n",
      "|Z0|:  2.0846721215176 t:  1.959963984540054\n",
      "Si può rigettare l'ipotesi nulla\n",
      "Risutati con n = 60: \n",
      "|Z0|:  1.3184624157301856 t:  1.959963984540054\n",
      "Non è possibile rigettare l'ipotesi nulla\n"
     ]
    }
   ],
   "source": [
    "from scipy.stats import norm\n",
    "\n",
    "mu = 3.5  \n",
    "x_bar = 3.42 \n",
    "sigma_2 = 0.2209  \n",
    "sigma = np.sqrt(sigma_2)  \n",
    "alpha = 0.05  \n",
    "n = 150\n",
    "\n",
    "Z0 = np.abs(((x_bar - mu) / sigma) * np.sqrt(n))\n",
    "t = norm.ppf(1-alpha/2)\n",
    "\n",
    "print(\"Risutati con n = 150: \")\n",
    "print(\"|Z0|: \", Z0, \"t: \", t)\n",
    "\n",
    "if (Z0 > t): \n",
    "    print(\"Si può rigettare l'ipotesi nulla\")\n",
    "else:\n",
    "    print(\"Non è possibile rigettare l'ipotesi nulla\")\n",
    "\n",
    "n = 60\n",
    "\n",
    "Z0 = np.abs(((x_bar - mu) / sigma) * np.sqrt(n))\n",
    "\n",
    "print(\"Risutati con n = 60: \")\n",
    "print(\"|Z0|: \", Z0, \"t: \", t)\n",
    "\n",
    "if (Z0 > t): \n",
    "    print(\"Si può rigettare l'ipotesi nulla\")\n",
    "else:\n",
    "    print(\"Non è possibile rigettare l'ipotesi nulla\")\n"
   ]
  }
 ],
 "metadata": {
  "kernelspec": {
   "display_name": "Python 3",
   "language": "python",
   "name": "python3"
  },
  "language_info": {
   "codemirror_mode": {
    "name": "ipython",
    "version": 3
   },
   "file_extension": ".py",
   "mimetype": "text/x-python",
   "name": "python",
   "nbconvert_exporter": "python",
   "pygments_lexer": "ipython3",
   "version": "3.11.3"
  }
 },
 "nbformat": 4,
 "nbformat_minor": 2
}
