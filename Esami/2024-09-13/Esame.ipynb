{
 "cells": [
  {
   "cell_type": "markdown",
   "metadata": {},
   "source": [
    "# Esercizio 1\n",
    "\n",
    "In una strada di montagna si ha durante il giorno un traffico molto ridotto, con il passaggio mediamente di 3 auto l'ora, che segue una distribuzione poissiana con lambda_a = 3\n",
    "\n",
    "1. Qual è la probabilità che in un'ora non passi nessuna auto?\n",
    "2. Qual è la probabilità che passino in un'ora più di 3 auto?\n",
    "\n",
    "Sulla stessa strada transitano anche bicilette, secondo una analoga distribuzione di Poisson avente lambda_b = 4\n",
    "\n",
    "3. Qual è la probabilità che in un'ora passino solo auto (cioè nessuna bicicletta e almeno un'auto)?\n",
    "4. Qual è la probabilità che passino in un'ora 8 veicoli (in totale tra auto e bici)?"
   ]
  },
  {
   "cell_type": "code",
   "execution_count": 17,
   "metadata": {},
   "outputs": [
    {
     "name": "stdout",
     "output_type": "stream",
     "text": [
      "Probabilità che in un'ora non passi nessuna auto:  0.049787068367863944\n",
      "Probabilità che passino in un'ora più di 3 auto:  0.35276811121776874\n",
      "Probabilità che in un'ora passino solo auto:  0.017403756923179664\n",
      "Probabilità che passino in un'ora 8 veicoli:  0.1303774322150455\n"
     ]
    }
   ],
   "source": [
    "from scipy.stats import poisson\n",
    "\n",
    "lambda_a = 3\n",
    "lambda_b = 4\n",
    "\n",
    "quesito1 = poisson.pmf(0, lambda_a)\n",
    "print(\"Probabilità che in un'ora non passi nessuna auto: \", quesito1)\n",
    "\n",
    "quesito2 = 1 - poisson.cdf(3, lambda_a)\n",
    "print(\"Probabilità che passino in un'ora più di 3 auto: \", quesito2)\n",
    "\n",
    "nessunaBici = poisson.pmf(0, lambda_b)\n",
    "almenoUnAuto = 1 - poisson.pmf(0, lambda_a)\n",
    "quesito3 = nessunaBici * almenoUnAuto\n",
    "print(\"Probabilità che in un'ora passino solo auto: \", quesito3)\n",
    "\n",
    "# 4. Probabilità che passino in un'ora 8 veicoli (totale tra auto e bici)\n",
    "quesito4 = poisson.pmf(8, lambda_a + lambda_b)\n",
    "print(f\"Probabilità che passino in un'ora 8 veicoli: \", quesito4)"
   ]
  },
  {
   "cell_type": "markdown",
   "metadata": {},
   "source": [
    "# Esercizio 2\n",
    "\n",
    "Una compagnia aerea ha stimato il peso medio del bagaglio a mano dei propri passeggeri sia m = 5.5kg. Viene effettuata una misurazione su un campione di 100 passeggeri ottenendo un peso medio dei babgagli di mu = 5.7kg con una varianza camionaria di 1.5kg.\n",
    "\n",
    "1. Si può ritenere che il peso medio reale sia maggiore di m con una confidenza del 95%\n",
    "2. Si calcoli il p-value del test precedente"
   ]
  },
  {
   "cell_type": "code",
   "execution_count": 18,
   "metadata": {},
   "outputs": [
    {
     "name": "stdout",
     "output_type": "stream",
     "text": [
      "Z0:  1.6329931618554536 phi:  1.6448536269514722\n",
      "Non è possibile rigettare l'ipotesi nulla\n",
      "p_value:  0.05123521742987458\n"
     ]
    }
   ],
   "source": [
    "import numpy as np\n",
    "from scipy.stats import norm\n",
    "\n",
    "m = 5.5\n",
    "n = 100\n",
    "mu = 5.7\n",
    "var = 1.5\n",
    "\n",
    "alpha = 0.05\n",
    "# Test unilatero a destra\n",
    "\n",
    "Z0 = ((mu - m) / np.sqrt(var)) * np.sqrt(n)\n",
    "phi = norm.ppf(1-alpha)\n",
    "\n",
    "print(\"Z0: \", Z0, \"phi: \", phi)\n",
    "\n",
    "if (Z0 > phi):\n",
    "    print(\"Si rigetta l'ipotesi nulla\")\n",
    "else:\n",
    "    print(\"Non è possibile rigettare l'ipotesi nulla\")\n",
    "\n",
    "p_value = 1-norm.cdf(Z0)\n",
    "print(\"p_value: \", p_value)"
   ]
  },
  {
   "cell_type": "markdown",
   "metadata": {},
   "source": [
    "# Esercizio 3\n",
    "\n",
    "Sia dato un grafo E di vertici V con i = 1,2,3,4, su cui si realizza una passeggiata aleatoria in cui sono possibili le transizioni: da V1 a V2 V3, da V2 a V3 V4, da V3 a V2 V4 e da V4 a V1 V2, tutte con uguale probabilità p=1/2\n",
    "\n",
    "1. Scrivere la matrice di transizione del processo, e verificare che la corrispondente catena di Markov sia regolare.\n",
    "2. Trovare sia analiticamente che attraverso un metodo Monte Carlo lo stato stazionario del processo.\n"
   ]
  },
  {
   "cell_type": "code",
   "execution_count": 19,
   "metadata": {},
   "outputs": [
    {
     "name": "stdout",
     "output_type": "stream",
     "text": [
      "[[0.25 0.   0.25 0.5 ]\n",
      " [0.5  0.25 0.   0.25]\n",
      " [0.25 0.5  0.25 0.  ]\n",
      " [0.   0.25 0.5  0.25]]\n",
      "La catena di Markov è regolare perché tutti i valori di P^2 sono positivi\n",
      "[0.25 0.25 0.25 0.25]\n",
      "[0.24976 0.25037 0.24972 0.25016]\n"
     ]
    }
   ],
   "source": [
    "import numpy as np\n",
    "\n",
    "P = np.array([[0,   1/2, 1/2, 0],   \n",
    "              [0,   0,   1/2, 1/2], \n",
    "              [1/2, 0,   0,   1/2], \n",
    "              [1/2, 1/2, 0,   0]])  \n",
    "\n",
    "P_squared = np.dot(P, P)\n",
    "print(P_squared)\n",
    "\n",
    "print(\"La catena di Markov è regolare perché tutti i valori di P^2 sono positivi\")\n",
    "\n",
    "# Metodo analiticp\n",
    "\n",
    "lam, V = np.linalg.eig(P.T)  \n",
    "v = np.real(V[:, 0]) / np.sum(np.real(V[:, 0]))  \n",
    "print(v)\n",
    "\n",
    "# Metodo Monte Carlo\n",
    " \n",
    "n=4\n",
    "F=np.zeros(n)\n",
    "j=np.random.randint(n)\n",
    "F[j]=1\n",
    "N=100000\n",
    "\n",
    "for i in range(N):\n",
    "    j_multi=np.random.multinomial(1,P[j,:])\n",
    "    j=np.nonzero(j_multi)[0][0]\n",
    "    F[j]=F[j]+1\n",
    " \n",
    "vv=F/N\n",
    "print(vv)"
   ]
  }
 ],
 "metadata": {
  "kernelspec": {
   "display_name": "Python 3",
   "language": "python",
   "name": "python3"
  },
  "language_info": {
   "codemirror_mode": {
    "name": "ipython",
    "version": 3
   },
   "file_extension": ".py",
   "mimetype": "text/x-python",
   "name": "python",
   "nbconvert_exporter": "python",
   "pygments_lexer": "ipython3",
   "version": "3.11.3"
  }
 },
 "nbformat": 4,
 "nbformat_minor": 2
}
