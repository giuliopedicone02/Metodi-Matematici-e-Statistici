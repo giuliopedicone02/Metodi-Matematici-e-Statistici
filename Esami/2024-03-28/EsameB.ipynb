{
 "cells": [
  {
   "cell_type": "markdown",
   "metadata": {},
   "source": [
    "# Esercizio 1\n",
    "\n",
    "In un processo chiamato mitosi, il tempo che impiega una cellula a dividersi segue una distribuzione normale di media 60 minuti e deviazione standard di 5 minuti.\n",
    "\n",
    "1. Qual è la probabilità che una cellula si divida in meno di 45 minuti?\n",
    "2. Qual è la probabilità che una cellula si divida in più di 65 minuti?\n",
    "3. Qual è il tempo impiegato approssimativamente dal 99% delle cellule per completare la mitosi?\n",
    "4. Su un campione di 20 cellule, qual è la probabilità che il tempo medio di divisione sia minore di 58 minuti?\n"
   ]
  },
  {
   "cell_type": "code",
   "execution_count": 22,
   "metadata": {},
   "outputs": [
    {
     "name": "stdout",
     "output_type": "stream",
     "text": [
      "Probabiità che una cellula si divida in meno di 45 minuti:  0.001349898031630093\n",
      "Probabiità che una cellula si divida in più di 65 minuti:  0.15865525393145707\n",
      "Tempo impiegato dal 99% delle cellule per compleatre la mitosi:  71.6317393702042\n",
      "Probabiità che 20 cellule si dividano in meno di 58 minuti:  0.0\n"
     ]
    }
   ],
   "source": [
    "import numpy as np\n",
    "from scipy.stats import norm\n",
    "\n",
    "media = 60\n",
    "dev_std = 5\n",
    "\n",
    "# Quesito 1\n",
    "\n",
    "punto1 = norm.cdf(45, media, dev_std)\n",
    "print(\"Probabiità che una cellula si divida in meno di 45 minuti: \", punto1)\n",
    "\n",
    "# Quesito 2\n",
    "\n",
    "punto2 = 1 - norm.cdf(65, media, dev_std)\n",
    "print(\"Probabiità che una cellula si divida in più di 65 minuti: \", punto2)\n",
    "\n",
    "# Quesito 3\n",
    "\n",
    "punto3 = norm.ppf(0.99, media, dev_std)\n",
    "print(\"Tempo impiegato dal 99% delle cellule per compleatre la mitosi: \", punto3)\n",
    "\n",
    "# Quesito 4\n",
    "\n",
    "media = 20 * media\n",
    "dev_std = np.sqrt(20) * dev_std\n",
    "\n",
    "punto4 = norm.cdf(58, media, dev_std)\n",
    "print(\"Probabiità che 20 cellule si dividano in meno di 58 minuti: \", punto4)"
   ]
  },
  {
   "cell_type": "markdown",
   "metadata": {},
   "source": [
    "# Esercizio 2\n",
    "\n",
    "Il costo unitario (y) di un certo prodotto varia in funzione del numero (x) di pezzi richiesti. I dati sono riportati nella seguente tabella:\n",
    "\n",
    "| x   | 20   | 25   | 30   | 35   | 40   | 50   | 60   | 65   | 70   | 75   | 80   | 90   |\n",
    "| --- | ---- | ---- | ---- | ---- | ---- | ---- | ---- | ---- | ---- | ---- | ---- | ---- |\n",
    "| y   | 1.81 | 1.70 | 1.65 | 1.55 | 1.48 | 1.40 | 1.30 | 1.26 | 1.24 | 1.21 | 1.20 | 1.18 |\n",
    "\n",
    "1. Si determinino i coefficienti della retta di regressione e i loro intervalli di confidenza al 95%. Si giustifichi mediante il coefficiente di determinazione se il modello è adeguato oppure no.\n",
    "2. Si rappresentino i dati e la retta di regressione in uno stesso grafico.\n",
    "3. Si determinino i coefficienti per un modello di regressione lineare del tipo y = a0 + a1x + a2x^2 e si calcoli nuovamente il coefficiente di determinazione.\n",
    "4. Si determinino gli intervalli di confidenza al 95% per i nuovi coefficienti.\n"
   ]
  },
  {
   "cell_type": "code",
   "execution_count": 23,
   "metadata": {},
   "outputs": [
    {
     "name": "stdout",
     "output_type": "stream",
     "text": [
      "Coefficienti della retta di regressione: \n",
      "1.90036312849162 -0.009100558659217878\n",
      "Intervalli di confidenza per b0: [1.8055375100652273, 1.9951887469180127]\n",
      "Intervalli di confidenza per b1: [-0.010740937355530429, -0.007460179962905328]\n",
      "Coefficiente di determinazione:  0.93857613522418\n"
     ]
    }
   ],
   "source": [
    "import numpy as np\n",
    "from scipy.stats import t\n",
    "\n",
    "x = np.array([20, 25, 30, 35, 40, 50, 60, 65, 70, 75, 80, 90])\n",
    "y = np.array([1.81, 1.70, 1.65, 1.55, 1.48, 1.40, 1.30, 1.26, 1.24, 1.21, 1.20, 1.18])\n",
    "n = x.size\n",
    "\n",
    "# Quesito 1\n",
    "\n",
    "x_bar = np.mean(x)\n",
    "y_bar = np.mean(y)\n",
    "\n",
    "sig_bar_xy = np.sum((x - x_bar) * (y - y_bar)) / n\n",
    "sig2_bar_x = np.sum((x - x_bar) ** 2) / n\n",
    "sig2_bar_y = np.sum((y - y_bar) ** 2) / n\n",
    "\n",
    "b0 = y_bar - (sig_bar_xy / sig2_bar_x) * x_bar\n",
    "b1 = sig_bar_xy / sig2_bar_x\n",
    "\n",
    "print(\"Coefficienti della retta di regressione: \")\n",
    "print(b0, b1)\n",
    "\n",
    "y_hat = b0 + b1 * x\n",
    "r = y - y_hat\n",
    "s2 = np.sum(r**2) / (n - 2)\n",
    "\n",
    "alpha = 0.05\n",
    "s = np.sqrt(s2)\n",
    "T = t.ppf(1 - alpha / 2, n - 2)\n",
    "\n",
    "b0_left = b0 - s * np.sqrt(1 / n + x_bar**2 / (n * sig2_bar_x)) * T\n",
    "b0_right = b0 + s * np.sqrt(1 / n + x_bar**2 / (n * sig2_bar_x)) * T\n",
    "\n",
    "b1_left = b1 - (s / np.sqrt(sig2_bar_x * n)) * T\n",
    "b1_right = b1 + (s / np.sqrt(sig2_bar_x * n)) * T\n",
    "\n",
    "print(\"Intervalli di confidenza per b0: [{}, {}]\".format(b0_left, b0_right))\n",
    "print(\"Intervalli di confidenza per b1: [{}, {}]\".format(b1_left, b1_right))\n",
    "\n",
    "R2 = sig_bar_xy**2 / (sig2_bar_x * sig2_bar_y)\n",
    "\n",
    "print(\"Coefficiente di determinazione: \", R2)"
   ]
  },
  {
   "cell_type": "code",
   "execution_count": 24,
   "metadata": {},
   "outputs": [
    {
     "data": {
      "image/png": "[encoded data removed]",
      "text/plain": [
       "<Figure size 640x480 with 1 Axes>"
      ]
     },
     "metadata": {},
     "output_type": "display_data"
    }
   ],
   "source": [
    "# Quesito 2\n",
    "\n",
    "import matplotlib.pyplot as plt\n",
    "\n",
    "assex = np.linspace(20, 90, 1000)\n",
    "assey = b0 + b1 * assex\n",
    "\n",
    "plt.plot(x, y, \"*\")\n",
    "plt.plot(assex, assey)\n",
    "plt.title(\"Retta di regressione\")\n",
    "plt.xlabel(\"Tempo (ore)\")\n",
    "plt.ylabel(\"Viscosità\")\n",
    "plt.show()"
   ]
  },
  {
   "cell_type": "markdown",
   "metadata": {},
   "source": [
    "# Esercizio 3\n",
    "\n",
    "Il tempo di vita in ore di una batteria segue approssimativamente una distribuzione normale con deviazione standard σ = 1.25. Viene estratto un campione casuale di 10 batterie e si testa per ciascuna di esse il tempo di vita ottenendo i seguenti valori:\n",
    "\n",
    "39.5, 41.5, 38.5, 42.5, 37.5, 43.5, 36.5, 44.5, 35.5, 45.5.\n",
    "\n",
    "1. Si calcoli la media campionaria e l’intervallo di confidenza per la media con livello di fiducia 0.05.\n",
    "2. Vi è evidenza nel supportare l’ipotesi che il tempo di vita ecceda le 40 ore? Si usi α = 0.05.\n",
    "3. Calcolare il p-value del test precedente.\n",
    "4. Se il tempo di vita reale fosse di 42 ore quale sarebbe l’errore di secondo tipo del test precedente?\n"
   ]
  },
  {
   "cell_type": "code",
   "execution_count": 25,
   "metadata": {},
   "outputs": [
    {
     "name": "stdout",
     "output_type": "stream",
     "text": [
      "Media campionaria: 40.5\n",
      "Intervallo di confidenza per la media [39.725256209619296, 41.274743790380704]\n",
      "Z0:  1.264911064067352\n",
      "PHI:  1.959963984540054\n",
      "Z0 < PHI: NON è possibile rigettare l'ipotesi nulla\n",
      "p-value: 0.2059032107320682\n"
     ]
    }
   ],
   "source": [
    "import numpy as np\n",
    "from scipy.stats import norm\n",
    "\n",
    "X = np.array([39.5, 41.5, 38.5, 42.5, 37.5, 43.5, 36.5, 44.5, 35.5, 45.5])\n",
    "dev_std = 1.25\n",
    "n = X.size\n",
    "\n",
    "# Quesito 1\n",
    "\n",
    "media = np.mean(X)\n",
    "alpha = 0.05\n",
    "PHI = norm.ppf(1 - alpha / 2)\n",
    "\n",
    "int_left = media - (dev_std / np.sqrt(n)) * PHI\n",
    "int_right = media + (dev_std / np.sqrt(n)) * PHI\n",
    "\n",
    "print(\"Media campionaria:\", media)\n",
    "print(\"Intervallo di confidenza per la media [{}, {}]\".format(int_left, int_right))\n",
    "\n",
    "# Quesito 2\n",
    "\n",
    "mu_0 = 40\n",
    "Z0 = ((media - mu_0) / dev_std) * np.sqrt(n)\n",
    "PHI = norm.ppf(1 - alpha / 2)\n",
    "\n",
    "print(\"Z0: \", Z0)\n",
    "print(\"PHI: \", PHI)\n",
    "print(\"Z0 < PHI: NON è possibile rigettare l'ipotesi nulla\")\n",
    "\n",
    "# Quesito 3\n",
    "\n",
    "p_value = 2 * (1 - norm.cdf(abs(Z0)))\n",
    "print(\"p-value:\", p_value)"
   ]
  }
 ],
 "metadata": {
  "kernelspec": {
   "display_name": "Python 3",
   "language": "python",
   "name": "python3"
  },
  "language_info": {
   "codemirror_mode": {
    "name": "ipython",
    "version": 3
   },
   "file_extension": ".py",
   "mimetype": "text/x-python",
   "name": "python",
   "nbconvert_exporter": "python",
   "pygments_lexer": "ipython3",
   "version": "3.11.3"
  }
 },
 "nbformat": 4,
 "nbformat_minor": 2
}
