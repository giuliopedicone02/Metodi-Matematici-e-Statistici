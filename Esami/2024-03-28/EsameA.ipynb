{
 "cells": [
  {
   "cell_type": "markdown",
   "metadata": {},
   "source": [
    "# Esercizio 1\n",
    "\n",
    "Un macchinario riempie automaticamente delle confezioni alimentari il cui peso segue una distribuzione normale di media 220 g e deviazione standard 8 g.\n",
    "\n",
    "1. Qual è la probabilità che la confezione pesi più di 230 g?\n",
    "2. Qual è la probabilità che il peso della confezione sia compreso tra 210 g e 225 g?\n",
    "3. Le confezioni vengono imballate in scatole da 10 unità. Dopo aver calcolato la distribuzione del peso della scatola, calcolare la probabilità che il peso totale superi i 2250 g (si trascuri il peso della scatola).\n"
   ]
  },
  {
   "cell_type": "code",
   "execution_count": 9,
   "metadata": {},
   "outputs": [
    {
     "name": "stdout",
     "output_type": "stream",
     "text": [
      "Probabilità che la confezioni pesi più di 230g:  0.10564977366685535\n",
      "Probabilità che il peso della confezione sia compreso tra 210g e 225g:  0.6283646972844441\n",
      "Probabilità che il peso totale della scatola superi i 2250g: 0.02405341394425975\n"
     ]
    }
   ],
   "source": [
    "import numpy as np\n",
    "from scipy.stats import norm\n",
    "\n",
    "media = 220\n",
    "dev_std = 8\n",
    "\n",
    "# Quesito 1\n",
    "\n",
    "punto1 = 1 - norm.cdf(230, media, dev_std)\n",
    "print(\"Probabilità che la confezioni pesi più di 230g: \", punto1)\n",
    "\n",
    "# Quesito 2\n",
    "\n",
    "a = norm.cdf(210, media, dev_std)\n",
    "b = norm.cdf(225, media, dev_std)\n",
    "\n",
    "punto2 = b - a\n",
    "\n",
    "print(\"Probabilità che il peso della confezione sia compreso tra 210g e 225g: \", punto2)\n",
    "\n",
    "# Quesito 3\n",
    "\n",
    "media_totale = 10 * media\n",
    "dev_std_totale = np.sqrt(10) * dev_std\n",
    "\n",
    "punto3 = 1 - norm.cdf(2250, media_totale, dev_std_totale)\n",
    "\n",
    "print(\"Probabilità che il peso totale della scatola superi i 2250g:\", punto3)"
   ]
  },
  {
   "cell_type": "markdown",
   "metadata": {},
   "source": [
    "# Esercizio 2\n",
    "\n",
    "Si considerino i seguenti dati, ottenuti sperimentalmente per determinare l’effetto del tempo in ore (x) a una particolare temperatura e il cambiamento della viscosità (y) di un olio.\n",
    "\n",
    "| x   | 0.25  | 0.5   | 0.75  | 1     | 1.25  | 1.5   | 1.75  | 2     | 2.25  | 2.5   |\n",
    "| --- | ----- | ----- | ----- | ----- | ----- | ----- | ----- | ----- | ----- | ----- |\n",
    "| y   | -1.42 | -1.39 | -1.55 | -1.89 | -2.43 | -3.15 | -4.05 | -5.15 | -6.43 | -7.89 |\n",
    "\n",
    "1. Si determinino i coefficienti della retta di regressione e i loro intervalli di confidenza al 95%. Si calcoli il coefficiente di determinazione.\n",
    "2. Si rappresentino i dati e la retta di regressione in uno stesso grafico.\n",
    "3. Si determinino i coefficienti per un modello di regressione lineare del tipo y = a0 + a1x + a2x^2 e si calcoli nuovamente il coefficiente di determinazione. Si può affermare che il secondo modello si adatta meglio ai dati? Giustificare la risposta.\n",
    "4. Si rappresentino i dati, la retta di regressione e il modello quadratico in uno stesso grafico.\n"
   ]
  },
  {
   "cell_type": "code",
   "execution_count": 10,
   "metadata": {},
   "outputs": [
    {
     "name": "stdout",
     "output_type": "stream",
     "text": [
      "Coefficienti della retta di regressione: \n",
      "0.4219999999999997 -2.877818181818182\n",
      "Intervalli di confidenza per b0: [-0.7734427558000845, 1.617442755800084]\n",
      "Intervalli di confidenza per b1: [-3.648470361659376, -2.107166001976988]\n",
      "Coefficiente di determinazione:  0.9026209868993411\n"
     ]
    }
   ],
   "source": [
    "import numpy as np\n",
    "from scipy.stats import t\n",
    "\n",
    "x = np.array([0.25, 0.5, 0.75, 1, 1.25, 1.5, 1.75, 2, 2.25, 2.5])\n",
    "y = np.array([-1.42, -1.39, -1.55, -1.89, -2.43, -3.15, -4.05, -5.15, -6.43, -7.89])\n",
    "n = x.size\n",
    "\n",
    "# Quesito 1\n",
    "\n",
    "x_bar = np.mean(x)\n",
    "y_bar = np.mean(y)\n",
    "\n",
    "sig_bar_xy = np.sum((x - x_bar) * (y - y_bar)) / n\n",
    "sig2_bar_x = np.sum((x - x_bar) ** 2) / n\n",
    "sig2_bar_y = np.sum((y - y_bar) ** 2) / n\n",
    "\n",
    "b0 = y_bar - (sig_bar_xy / sig2_bar_x) * x_bar\n",
    "b1 = sig_bar_xy / sig2_bar_x\n",
    "\n",
    "print(\"Coefficienti della retta di regressione: \")\n",
    "print(b0, b1)\n",
    "\n",
    "y_hat = b0 + b1 * x\n",
    "r = y - y_hat\n",
    "s2 = np.sum(r**2) / (n - 2)\n",
    "\n",
    "alpha = 0.05\n",
    "s = np.sqrt(s2)\n",
    "T = t.ppf(1 - alpha / 2, n - 2)\n",
    "\n",
    "b0_left = b0 - s * np.sqrt(1 / n + x_bar**2 / (n * sig2_bar_x)) * T\n",
    "b0_right = b0 + s * np.sqrt(1 / n + x_bar**2 / (n * sig2_bar_x)) * T\n",
    "\n",
    "b1_left = b1 - (s / np.sqrt(sig2_bar_x * n)) * T\n",
    "b1_right = b1 + (s / np.sqrt(sig2_bar_x * n)) * T\n",
    "\n",
    "print(\"Intervalli di confidenza per b0: [{}, {}]\".format(b0_left, b0_right))\n",
    "print(\"Intervalli di confidenza per b1: [{}, {}]\".format(b1_left, b1_right))\n",
    "\n",
    "R2 = sig_bar_xy**2 / (sig2_bar_x * sig2_bar_y)\n",
    "\n",
    "print(\"Coefficiente di determinazione: \", R2)"
   ]
  },
  {
   "cell_type": "code",
   "execution_count": 11,
   "metadata": {},
   "outputs": [
    {
     "data": {
      "image/png": "[encoded data removed]",
      "text/plain": [
       "<Figure size 640x480 with 1 Axes>"
      ]
     },
     "metadata": {},
     "output_type": "display_data"
    }
   ],
   "source": [
    "# Quesito 2\n",
    "\n",
    "import matplotlib.pyplot as plt\n",
    "\n",
    "assex = np.linspace(0, 3, 1000)\n",
    "assey = b0 + b1 * assex\n",
    "\n",
    "plt.plot(x, y, \"*\")\n",
    "plt.plot(assex, assey)\n",
    "plt.title(\"Retta di regressione\")\n",
    "plt.xlabel(\"Tempo (ore)\")\n",
    "plt.ylabel(\"Viscosità\")\n",
    "plt.show()"
   ]
  },
  {
   "cell_type": "markdown",
   "metadata": {},
   "source": [
    "# Esercizio 3\n",
    "\n",
    "Si effettua uno studio su quale sia la temperatura corporea limite per cui essa si possa considerare normale. Si estrae un campione di 25 soggetti riportando le seguenti misurazioni in °C:\n",
    "\n",
    "36.6, 36.2, 36.3, 36.4, 36.6, 36.6, 36.7, 36.7, 36.7, 36.7,\n",
    "36.8, 36.8, 36.8, 36.9, 36.9, 36.9, 36.9, 37.0, 37.0, 37.1,\n",
    "37.1, 37.1, 37.2, 37.2, 37.2.\n",
    "\n",
    "1. Si calcolino la media e la deviazione standard campionarie, e l’intervallo di confidenza per la media con livello di fiducia 0.01.\n",
    "2. Si testi l’ipotesi che la temperatura limite normale media sia di 37 °C. Si utilizzi α = 0.05.\n",
    "3. Calcolare il p-value del test.\n",
    "4. Quale sarebbe la dimensione campionaria richiesta per determinare una temperatura limite reale di 36.8 °C richiedendo una potenza del test del 90%?\n"
   ]
  },
  {
   "cell_type": "code",
   "execution_count": 12,
   "metadata": {},
   "outputs": [
    {
     "name": "stdout",
     "output_type": "stream",
     "text": [
      "Media campionaria: 36.816\n",
      "Deviazione standard campionaria: 8\n",
      "Intervallo di confidenza per la media [36.66307790275085, 36.968922097249155]\n",
      "|T0|:  3.365353197057517\n",
      "T:  2.796939504772804\n",
      "T0 > T: Si rigetta l'ipotesi nulla\n",
      "p-value: 0.0025669012584850215\n",
      "Dimensione campionaria:  4.804202726939552\n"
     ]
    }
   ],
   "source": [
    "import numpy as np\n",
    "from scipy.stats import t\n",
    "\n",
    "X = np.array([\n",
    "    36.6, 36.2, 36.3, 36.4, 36.6, 36.6, 36.7, 36.7, 36.7, 36.7,\n",
    "    36.8, 36.8, 36.8, 36.9, 36.9, 36.9, 36.9, 37.0, 37.0, 37.1,\n",
    "    37.1, 37.1, 37.2, 37.2, 37.2,\n",
    "])\n",
    "\n",
    "n = X.size\n",
    "\n",
    "# Quesito 1\n",
    "\n",
    "media = np.mean(X)\n",
    "S = np.std(X, ddof=1)\n",
    "\n",
    "\n",
    "alpha = 0.01\n",
    "T = t.ppf(1 - alpha / 2, n - 1)\n",
    "\n",
    "int_left = media - (S / np.sqrt(n)) * T\n",
    "int_right = media + (S / np.sqrt(n)) * T\n",
    "\n",
    "print(\"Media campionaria:\", media)\n",
    "print(\"Deviazione standard campionaria:\", dev_std)\n",
    "print(\"Intervallo di confidenza per la media [{}, {}]\".format(int_left, int_right))\n",
    "\n",
    "# Quesito 2 (Test bilatero)\n",
    "\n",
    "mu_0 = 37\n",
    "alpha = 0.05\n",
    "\n",
    "T0 = ((media - mu_0) / S) * np.sqrt(n)\n",
    "\n",
    "print(\"|T0|: \", np.abs(T0))\n",
    "print(\"T: \", T)\n",
    "print(\"T0 > T: Si rigetta l'ipotesi nulla\")\n",
    "\n",
    "# Quesito 3\n",
    "\n",
    "p_value = 2 * (1 - t.cdf(abs(T0), n - 1))\n",
    "\n",
    "print(\"p-value:\", p_value)\n",
    "\n",
    "# Quesito 4\n",
    "\n",
    "alpha = 0.05\n",
    "beta = 0.90\n",
    "delta = 36.8\n",
    "\n",
    "T_alpha = t.ppf(1 - alpha / 2, n - 1)\n",
    "T_beta = t.ppf(1 - beta / 2, n - 1)\n",
    "\n",
    "dimensione_campionaria = (T_alpha + T_beta) ** 2 * (media**2 / delta**2)\n",
    "\n",
    "print(\"Dimensione campionaria: \", dimensione_campionaria)"
   ]
  }
 ],
 "metadata": {
  "kernelspec": {
   "display_name": "Python 3",
   "language": "python",
   "name": "python3"
  },
  "language_info": {
   "codemirror_mode": {
    "name": "ipython",
    "version": 3
   },
   "file_extension": ".py",
   "mimetype": "text/x-python",
   "name": "python",
   "nbconvert_exporter": "python",
   "pygments_lexer": "ipython3",
   "version": "3.11.3"
  }
 },
 "nbformat": 4,
 "nbformat_minor": 2
}
