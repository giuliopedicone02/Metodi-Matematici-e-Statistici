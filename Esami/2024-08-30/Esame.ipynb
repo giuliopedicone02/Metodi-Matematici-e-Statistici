{
 "cells": [
  {
   "cell_type": "markdown",
   "metadata": {},
   "source": [
    "# Esercizio 1\n",
    "\n",
    "Vengono lanciati tre comuni dadi a sei facce (numerate da 1 a 6), che supponiamo\n",
    "equilibrati.\n",
    "1. Quali sono le probabilità che si ottengano esattamente uno, due o tre 6?\n",
    "2. Realizzare una simulazione del lancio dei dadi p er il calcolo delle probabilità descritte al punto 2 (minimo 1000 lanci) e confrontarle col valore teorico calcolato"
   ]
  },
  {
   "cell_type": "code",
   "execution_count": 18,
   "metadata": {},
   "outputs": [
    {
     "name": "stdout",
     "output_type": "stream",
     "text": [
      "Probabilità che si ottenga un 6:  0.3472222222222223\n",
      "Probabilità che si ottengano due 6:  0.06944444444444445\n",
      "Probabilità che si ottengano tre 6:  0.004629629629629629\n",
      "Probabilità simulata che si ottenga un 6: 0.342\n",
      "Probabilità simulata che si ottengano due 6: 0.071\n",
      "Probabilità simulata che si ottengano tre 6: 0.006\n"
     ]
    }
   ],
   "source": [
    "from scipy.stats import binom\n",
    "import numpy as np\n",
    "\n",
    "n = 3\n",
    "p = 1/6\n",
    "\n",
    "p1 = binom.pmf(1,n,p)\n",
    "p2 = binom.pmf(2,n,p)\n",
    "p3 = binom.pmf(3,n,p)\n",
    "\n",
    "print(\"Probabilità che si ottenga un 6: \", p1)\n",
    "print(\"Probabilità che si ottengano due 6: \", p2)\n",
    "print(\"Probabilità che si ottengano tre 6: \", p3)\n",
    "\n",
    "# Simulazione\n",
    "\n",
    "count_sixes = np.sum(np.random.randint(1, 7, (1000, 3)) == 6, axis=1)\n",
    "freq_one_6 = np.mean(count_sixes == 1)\n",
    "freq_two_6 = np.mean(count_sixes == 2)\n",
    "freq_three_6 = np.mean(count_sixes == 3)\n",
    "\n",
    "print(\"Probabilità simulata che si ottenga un 6:\", freq_one_6)\n",
    "print(\"Probabilità simulata che si ottengano due 6:\", freq_two_6)\n",
    "print(\"Probabilità simulata che si ottengano tre 6:\", freq_three_6)"
   ]
  },
  {
   "cell_type": "markdown",
   "metadata": {},
   "source": [
    "# Esercizio 2\n",
    "\n",
    "Un mulino confeziona sacchetti di farina dal peso medio di 1 kg, secondo una\n",
    "distribuzione gaussiana avente deviazione standard di 6 grammi.\n",
    "\n",
    "1. Qual è la probabilità che il peso di un sacchetto differisca di meno dell'1% dal\n",
    "peso dichiarato di 1 kg?\n",
    "2. Se la legge impedisce di mettere in commercio confezioni che contengono meno\n",
    "di 980 grammi di farina, qual è la percentuale di sacchetti che non potranno\n",
    "essere messi in commercio?\n",
    "3. Trovare la distribuzione di probabilità del peso di confezioni da 40 sacchetti, e\n",
    "calcolare la probabilità che il peso di una confezione superi di oltre 50 grammi\n",
    "il peso medio."
   ]
  },
  {
   "cell_type": "code",
   "execution_count": 19,
   "metadata": {},
   "outputs": [
    {
     "name": "stdout",
     "output_type": "stream",
     "text": [
      "Probabilità che il peso differisca di meno dell'1%:  0.9044192954543706\n",
      "Percentuale di sacchetti che non potranno essere messi in commercio:  0.0004290603331968372\n",
      "Probabilità che il peso di una confezione superi di oltre 50 grammi il peso medio:  0.09381616499744216\n"
     ]
    }
   ],
   "source": [
    "from scipy.stats import norm\n",
    "\n",
    "mu = 1000\n",
    "dev_std = 6\n",
    "\n",
    "quesito1 = norm.cdf(1010, mu, dev_std) - norm.cdf(990, mu, dev_std)\n",
    "print(\"Probabilità che il peso differisca di meno dell'1%: \", quesito1)\n",
    "\n",
    "quesito2 = norm.cdf(980, mu, dev_std)\n",
    "print(\"Percentuale di sacchetti che non potranno essere messi in commercio: \", quesito2)\n",
    "\n",
    "mu40 = mu*40\n",
    "dev_std40 = np.sqrt(dev_std**2 * 40)\n",
    "\n",
    "quesito3 = 1- norm.cdf(mu40+50, mu40, dev_std40)\n",
    "print(\"Probabilità che il peso di una confezione superi di oltre 50 grammi il peso medio: \", quesito3)\n"
   ]
  },
  {
   "cell_type": "markdown",
   "metadata": {},
   "source": [
    "# Esercizio 3\n",
    "\n",
    "Una variabile aleatoria  X  ha la seguente densità di probabilità:\n",
    "\n",
    "$$\n",
    "f(x) =\n",
    "\\begin{cases} \n",
    "\\frac{x}{2} & \\text{se } x \\in [0, 2] \\\\\n",
    "0 & \\text{altrove}\n",
    "\\end{cases}\n",
    "$$\n",
    "\n",
    "\n",
    "\n",
    "1. Descrivere e implementare un algoritmo per generare numeri pseudo-casuali con distribuzione X utilizzando il metodo dell'inversione.\n",
    "\n",
    "2. Generare con l'algoritmo implementato un insieme di numeri casuali e confrontare graficamente la loro distribuzione costruendo un istogramma e sovrapponendolo alla f(x)  data\n"
   ]
  },
  {
   "cell_type": "code",
   "execution_count": null,
   "metadata": {},
   "outputs": [
    {
     "data": {
      "image/png": "[encoded data removed]",
      "text/plain": [
       "<Figure size 640x480 with 1 Axes>"
      ]
     },
     "metadata": {},
     "output_type": "display_data"
    }
   ],
   "source": [
    "import matplotlib.pyplot as plt\n",
    "\n",
    "\n",
    "def function(x):\n",
    "    return x / 2\n",
    "\n",
    "\n",
    "def rigetto(a, b, M):\n",
    "    while True:\n",
    "        r1 = np.random.rand()\n",
    "        r2 = np.random.rand()\n",
    "        xi = a + r1 * (b - a)\n",
    "        eta = M * r2\n",
    "        if eta <= function(xi):\n",
    "            break\n",
    "    return xi\n",
    "\n",
    "\n",
    "a = 0\n",
    "b = 2\n",
    "M = function(2)\n",
    "\n",
    "N = 100000\n",
    "X = np.zeros(N)\n",
    "for i in range(N):\n",
    "    X[i] = rigetto(a, b, M)\n",
    "\n",
    "assex = np.linspace(a, b, 1000)\n",
    "assey = function(assex)\n",
    "\n",
    "plt.hist(X, bins=100, density=True)\n",
    "plt.plot(assex, assey)\n",
    "plt.title(\"Distribuzione F(x)\")\n",
    "plt.show()"
   ]
  }
 ],
 "metadata": {
  "kernelspec": {
   "display_name": "Python 3",
   "language": "python",
   "name": "python3"
  },
  "language_info": {
   "codemirror_mode": {
    "name": "ipython",
    "version": 3
   },
   "file_extension": ".py",
   "mimetype": "text/x-python",
   "name": "python",
   "nbconvert_exporter": "python",
   "pygments_lexer": "ipython3",
   "version": "3.11.3"
  }
 },
 "nbformat": 4,
 "nbformat_minor": 2
}
