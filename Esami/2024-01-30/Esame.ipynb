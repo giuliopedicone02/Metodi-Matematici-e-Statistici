{
 "cells": [
  {
   "cell_type": "markdown",
   "metadata": {},
   "source": [
    "# Esercizio 1\n",
    "\n",
    "Il tempo di vita di un dispositivo meccanico sottoposto a vibrazioni durante un test segue una\n",
    "distribuzione esponenziale con media 400 ore.\n",
    "\n",
    "1. Qual `e la probabilit`a che il dispositivo fallisca il test in meno di 100 ore?\n",
    "2. Qual `e la probabilit`a che il dispositivo operi per pi`u di 500 ore prima di rompersi?\n",
    "3. Sapendo che il dispositivo ha operato per 400 ore senza fallire il test, qual `e la probabilit`a che\n",
    "   fallisca nelle prossime 100 ore?\n",
    "4. Quante ore di funzionamento sono necessarie per affermare che il dispositivo fallisca il test con\n",
    "   probabilit`a superiore al 95%\n"
   ]
  },
  {
   "cell_type": "code",
   "execution_count": 550,
   "metadata": {},
   "outputs": [
    {
     "name": "stdout",
     "output_type": "stream",
     "text": [
      "0.22119921692859515\n"
     ]
    }
   ],
   "source": [
    "# Punto 1\n",
    "from scipy.stats import expon\n",
    "\n",
    "media = 400\n",
    "punto1 = expon.cdf(100, 0, media)\n",
    "print(punto1)"
   ]
  },
  {
   "cell_type": "code",
   "execution_count": 551,
   "metadata": {},
   "outputs": [
    {
     "name": "stdout",
     "output_type": "stream",
     "text": [
      "0.28650479686019015\n"
     ]
    }
   ],
   "source": [
    "# Punto 2\n",
    "from scipy.stats import expon\n",
    "\n",
    "punto2 = 1 - expon.cdf(500, 0, media)\n",
    "print(punto2)"
   ]
  },
  {
   "cell_type": "code",
   "execution_count": 552,
   "metadata": {},
   "outputs": [
    {
     "name": "stdout",
     "output_type": "stream",
     "text": [
      "0.4723665527410147\n"
     ]
    }
   ],
   "source": [
    "# Punto 3\n",
    "from scipy.stats import expon\n",
    "\n",
    "punto3 = 1 - expon.cdf(300, 0, media)\n",
    "print(punto3)"
   ]
  },
  {
   "cell_type": "code",
   "execution_count": 553,
   "metadata": {},
   "outputs": [
    {
     "name": "stdout",
     "output_type": "stream",
     "text": [
      "Le ore di funzionamento che sono necessarie per affermare che il dispositivo fallisca il test con probabilità superiore al 95% sono : 1198.292909421596\n"
     ]
    }
   ],
   "source": [
    "# Punto 4\n",
    "from scipy.stats import expon\n",
    "\n",
    "media = 400\n",
    "\n",
    "print(\n",
    "    \"Le ore di funzionamento che sono necessarie per affermare che il dispositivo fallisca il test con probabilità superiore al 95% sono :\",\n",
    "    expon.ppf(0.95, 0, media),\n",
    ")"
   ]
  },
  {
   "cell_type": "markdown",
   "metadata": {},
   "source": [
    "# Esercizio 2\n",
    "\n",
    "Si ritiene che i grammi di solidi rimossi da un materiale (y) siano correlati al tempo di asciugatura\n",
    "(x) espresso in ore. Da uno studio sperimentale si ottengono le 10 misurazioni riportate nella seguente\n",
    "tabella.\n",
    "\n",
    "x 2.5 3.0 3.5 4.0 4.5 5.0 5.5 6.0 6.5 7.0\n",
    "\n",
    "y 4.3 1.5 1.8 4.9 4.2 4.8 5.8 6.2 7.0 7.9\n",
    "\n",
    "1. Si determinino i coefficienti della retta di regressione e i loro intervalli di confidenza al 95%. Si\n",
    "   calcoli il coefficiente di determinazione.\n",
    "2. Si rappresentino i dati e la retta di regressione in uno stesso grafico.\n",
    "3. Si stimi la quantità in grammi di solidi rimossi a 4.25 ore.\n",
    "4. Si effettui il test di indipendenza con un livello di significativit`a α = 0.05 commentandone l’esito\n"
   ]
  },
  {
   "cell_type": "code",
   "execution_count": 554,
   "metadata": {},
   "outputs": [
    {
     "name": "stdout",
     "output_type": "stream",
     "text": [
      "Intervallo di confidenza di b_0: [-3.4961586033066223,2.098582845730862]\n",
      "Intervallo di confidenza di b_1: [0.6023426015180314,1.729778610603181]\n",
      "Coefficiente di determinazione:  0.7398627473553604\n"
     ]
    }
   ],
   "source": [
    "# Punto 1\n",
    "import numpy as np\n",
    "\n",
    "X = np.array([2.5, 3.0, 3.5, 4.0, 4.5, 5.0, 5.5, 6.0, 6.5, 7.0])\n",
    "Y = np.array([4.3, 1.5, 1.8, 4.9, 4.2, 4.8, 5.8, 6.2, 7.0, 7.9])\n",
    "\n",
    "x_bar = np.mean(X)\n",
    "y_bar = np.mean(Y)\n",
    "n = X.size\n",
    "\n",
    "sig_bar_xy = np.sum((X - x_bar) * (Y - y_bar)) / n\n",
    "sig_bar_x2 = np.sum((X - x_bar) ** 2) / n\n",
    "\n",
    "b0 = y_bar - sig_bar_xy / sig_bar_x2 * x_bar\n",
    "b1 = sig_bar_xy / sig_bar_x2\n",
    "\n",
    "# valori stimati\n",
    "y_hat = b0 + b1 * X\n",
    "r = Y - y_hat\n",
    "s2 = np.sum(r**2) / (n - 2)\n",
    "\n",
    "# Intervalli di confidenza al 95%\n",
    "from scipy.stats import t\n",
    "\n",
    "alpha = 0.05\n",
    "s = np.sqrt(s2)\n",
    "T = t.ppf(1 - alpha / 2, (n - 2))\n",
    "\n",
    "sig_x = np.sqrt(sig_bar_x2)\n",
    "\n",
    "b_0_sx = b0 - s * np.sqrt(1 / n + x_bar**2 / (n * sig_bar_x2)) * T\n",
    "b_0_dx = b0 + s * np.sqrt(1 / n + x_bar**2 / (n * sig_bar_x2)) * T\n",
    "\n",
    "b_1_sx = b1 - s / (sig_x * np.sqrt(n)) * T\n",
    "b_1_dx = b1 + s / (sig_x * np.sqrt(n)) * T\n",
    "\n",
    "\n",
    "print(\"Intervallo di confidenza di b_0: [{},{}]\".format(b_0_sx, b_0_dx))\n",
    "print(\"Intervallo di confidenza di b_1: [{},{}]\".format(b_1_sx, b_1_dx))\n",
    "\n",
    "# Coefficente di determinazione\n",
    "sig_y_2 = np.sum((Y - y_bar) ** 2) / n\n",
    "R2 = sig_bar_xy**2 / (sig_bar_x2 * sig_y_2)\n",
    "print(\"Coefficiente di determinazione: \", R2)"
   ]
  },
  {
   "cell_type": "code",
   "execution_count": 555,
   "metadata": {},
   "outputs": [
    {
     "data": {
      "image/png": "[encoded data removed]",
      "text/plain": [
       "<Figure size 640x480 with 1 Axes>"
      ]
     },
     "metadata": {},
     "output_type": "display_data"
    }
   ],
   "source": [
    "# Punto 2\n",
    "\n",
    "import matplotlib.pyplot as plt\n",
    "\n",
    "min = np.round(np.min(X))\n",
    "max = np.round(np.max(X))\n",
    "assex = np.linspace(min, max, 1000)\n",
    "assey = b0 + b1 * assex\n",
    "\n",
    "plt.plot(X, Y, \"*\")\n",
    "plt.plot(assex, assey, color=\"green\")\n",
    "plt.xlabel(\"ore\")\n",
    "plt.ylabel(\"grammi\")\n",
    "plt.title(\"Retta di Regressione\")\n",
    "plt.show()"
   ]
  },
  {
   "cell_type": "code",
   "execution_count": 556,
   "metadata": {},
   "outputs": [
    {
     "name": "stdout",
     "output_type": "stream",
     "text": [
      "4.256969696969697\n"
     ]
    }
   ],
   "source": [
    "# Punto 3\n",
    "\n",
    "punto3 = b0 + b1 * 4.25\n",
    "print(punto3)"
   ]
  },
  {
   "cell_type": "code",
   "execution_count": 557,
   "metadata": {},
   "outputs": [
    {
     "name": "stdout",
     "output_type": "stream",
     "text": [
      "T0 :  4.770010107193931\n",
      "t: 2.3060041350333704\n",
      "Siccome T0>t possiamo rigettare l'ipotesi\n"
     ]
    }
   ],
   "source": [
    "# Punto 4\n",
    "from scipy.stats import t\n",
    "\n",
    "alpha = 0.05\n",
    "\n",
    "t = t.ppf(1 - alpha / 2, n - 2)\n",
    "T = np.abs(np.sqrt(n) * b1 / s * sig_x)\n",
    "print(\"T0 : \", T)\n",
    "print(\"t:\", t)\n",
    "print(\"Siccome T0>t possiamo rigettare l'ipotesi\")"
   ]
  },
  {
   "cell_type": "markdown",
   "metadata": {},
   "source": [
    "# Esercizio 3\n"
   ]
  },
  {
   "cell_type": "code",
   "execution_count": 558,
   "metadata": {},
   "outputs": [],
   "source": [
    "import numpy as np\n",
    "\n",
    "def fun(x):\n",
    "    return (-3 / 4) * (x**2) + 3 / 2 * x\n",
    "\n",
    "def rigetto(a, b, M):\n",
    "    while True:\n",
    "        r1 = np.random.rand()\n",
    "        r2 = np.random.rand()\n",
    "        xi = a + r1 * (b - a)\n",
    "        eta = M * r2\n",
    "        if eta <= fun(xi):\n",
    "            break\n",
    "    return xi\n",
    "\n",
    "def find_maximum(a, b):\n",
    "    fa = fun(a)\n",
    "    fb = fun(b)\n",
    "    maximum_value = max(fa, fb)  # Rename M to maximum_value or any other name\n",
    "    return maximum_value\n",
    "\n",
    "a = 0\n",
    "b = 2\n",
    "Maximum=2\n",
    "N = 100000\n",
    "X = np.zeros(N)\n",
    "for i in range(N):\n",
    "    X[i] = rigetto(a, b, Maximum)\n"
   ]
  },
  {
   "cell_type": "code",
   "execution_count": 559,
   "metadata": {},
   "outputs": [
    {
     "data": {
      "image/png": "[encoded data removed]",
      "text/plain": [
       "<Figure size 640x480 with 1 Axes>"
      ]
     },
     "metadata": {},
     "output_type": "display_data"
    }
   ],
   "source": [
    "assex = np.linspace(a, b, 100000)\n",
    "assey = fun(assex)\n",
    "\n",
    "plt.hist(X, bins=100, density=True)\n",
    "plt.plot(assex, assey)\n",
    "plt.title(\"Distribuzione F(x)\")\n",
    "plt.show()"
   ]
  }
 ],
 "metadata": {
  "kernelspec": {
   "display_name": "Python 3",
   "language": "python",
   "name": "python3"
  },
  "language_info": {
   "codemirror_mode": {
    "name": "ipython",
    "version": 3
   },
   "file_extension": ".py",
   "mimetype": "text/x-python",
   "name": "python",
   "nbconvert_exporter": "python",
   "pygments_lexer": "ipython3",
   "version": "3.11.3"
  }
 },
 "nbformat": 4,
 "nbformat_minor": 2
}
