{
 "cells": [
  {
   "cell_type": "markdown",
   "metadata": {},
   "source": [
    "# Esercizio 1\n",
    "\n",
    "Si esaminano 50 pezzi prodotti da due macchine A, B, e si contano i pezzi difettosi. I risultati sono i seguenti:\n",
    "\n",
    "|                          | Pezzi prodotti da A | Pezzi prodotti da B | Totale |\n",
    "|--------------------------|---------------------|---------------------|--------|\n",
    "| Pezzi difettosi      | 4                   | 6                   | 10     |\n",
    "| Pezzi non difettosi  | 16                  | 24                  | 40     |\n",
    "| Totale               | 20                  | 30                  | 50     |\n",
    "\n",
    "1. Si calcoli la probabilità che un pezzo scelto a caso tra questi 50 sia difettoso;\n",
    "2. Si calcoli la probabilità che un pezzo a caso, scelto tra quelli difettosi, provenga dalla macchina B;\n",
    "3. Si dica se gli eventi “il pezzo è difettoso” e “il pezzo proviene dalla macchina A” si possono ritenere indipendenti.\n"
   ]
  },
  {
   "cell_type": "code",
   "execution_count": 1,
   "metadata": {},
   "outputs": [
    {
     "name": "stdout",
     "output_type": "stream",
     "text": [
      "Probabilità che un pezzo scelto a caso tra questi 50 sia difettoso:  0.2\n",
      "Probabilità che un pezzo scelto a caso tra quelli difettosi provenga dalla macchina B:  0.6\n",
      "I due eventi sono dipendenti\n"
     ]
    }
   ],
   "source": [
    "quesito1 = 10/50\n",
    "print(\"Probabilità che un pezzo scelto a caso tra questi 50 sia difettoso: \", quesito1)\n",
    "\n",
    "quesito2 = 6/10\n",
    "print(\"Probabilità che un pezzo scelto a caso tra quelli difettosi provenga dalla macchina B: \", quesito2)\n",
    "\n",
    "# Probabilità che un pezzo sia difettoso e provenga dalla macchina A\n",
    "P_D_and_A = quesito1 / quesito2\n",
    "\n",
    "if (P_D_and_A == quesito1*quesito2):\n",
    "    print(\"I due eventi sono indipendenti\")\n",
    "else:\n",
    "    print(\"I due eventi sono dipendenti\")"
   ]
  },
  {
   "cell_type": "markdown",
   "metadata": {},
   "source": [
    "# Esercizio 2\n",
    "\n",
    "Si considerino i seguenti dati campionari raccolti per stimare il tempo che impiega un computer a processare dati: x è il numero di dati e y il tempo, in secondi, impiegato per processarli.\n",
    "\n",
    "| x  | 211 | 332 | 322 | 435 | 275 |\n",
    "|----------|-----|-----|-----|-----|-----|\n",
    "| y  | 112 | 155 | 131 | 208 | 138 |\n",
    "\n",
    "1. Si calcoli il coefficiente di correlazione delle variabili x e y;\n",
    "2. Scrivere la retta di regressione. Fare un plot dei dati e della retta di regressione;\n",
    "3. Si calcoli il tempo previsto per processare 200, 300, 400, 500 dati."
   ]
  },
  {
   "cell_type": "code",
   "execution_count": 2,
   "metadata": {},
   "outputs": [
    {
     "name": "stdout",
     "output_type": "stream",
     "text": [
      "Coefficiente di correlazione:  0.8890091542101485\n"
     ]
    },
    {
     "data": {
      "image/png": "[encoded data removed]",
      "text/plain": [
       "<Figure size 640x480 with 1 Axes>"
      ]
     },
     "metadata": {},
     "output_type": "display_data"
    },
    {
     "name": "stdout",
     "output_type": "stream",
     "text": [
      "Tempo previsto per processare 200 dati:  100.756986079399\n",
      "Tempo previsto per processare 300 dati:  142.53351992339987\n",
      "Tempo previsto per processare 400 dati:  184.31005376740077\n",
      "Tempo previsto per processare 500 dati:  226.08658761140165\n"
     ]
    }
   ],
   "source": [
    "import numpy as np\n",
    "import matplotlib.pyplot as plt\n",
    "\n",
    "X = np.array([211,332,322,435,275])\n",
    "Y = np.array([112,155,131,208,138])\n",
    "\n",
    "x_bar = np.mean(X)\n",
    "y_bar = np.mean(Y)\n",
    "n = X.size\n",
    "sig_bar_xy = np.sum((X- x_bar) * (Y- y_bar)) / n\n",
    "sig_bar_x2 = np.sum((X- x_bar) ** 2) / n\n",
    "b0 = y_bar- sig_bar_xy / sig_bar_x2 * x_bar\n",
    "b1 = sig_bar_xy / sig_bar_x2\n",
    "\n",
    "# Coefficiente di correlazione\n",
    "sig_y_2 = np.sum((Y- y_bar) ** 2) / n\n",
    "R2 = sig_bar_xy**2 / (sig_bar_x2 * sig_y_2)\n",
    "print(\"Coefficiente di correlazione: \", R2)\n",
    "\n",
    "min = np.round(np.min(X))\n",
    "max = np.round(np.max(X))\n",
    "assex = np.linspace(min, max, 1000)\n",
    "assey = b0 + b1 * assex\n",
    "plt.plot(X, Y, \"*\")\n",
    "plt.plot(assex, assey, color=\"green\")\n",
    "\n",
    "plt.title(\"Retta di Regressione\")\n",
    "plt.show()\n",
    "\n",
    "print(\"Tempo previsto per processare 200 dati: \", b0 + b1 * 200)\n",
    "print(\"Tempo previsto per processare 300 dati: \", b0 + b1 * 300)\n",
    "print(\"Tempo previsto per processare 400 dati: \", b0 + b1 * 400)\n",
    "print(\"Tempo previsto per processare 500 dati: \", b0 + b1 * 500)"
   ]
  },
  {
   "cell_type": "markdown",
   "metadata": {},
   "source": [
    "# Esercizio 3\n",
    "\n",
    "Da due popolazioni normali indipendenti X, Y, si sono estratti due campioni di ampiezza rispettivamente n = 40 e m = 50, con media campionaria Xn = 2.91 e Ym = 1.98. La varianza dei dati è nota ed è var_X = 9.3 e var_Y = 2.1. In base a questi dati si può affermare al livello di significatività del 5% che mu_X > mu_Y?"
   ]
  },
  {
   "cell_type": "code",
   "execution_count": 3,
   "metadata": {},
   "outputs": [
    {
     "name": "stdout",
     "output_type": "stream",
     "text": [
      "Si rigetta l'ipotesi nulla\n"
     ]
    }
   ],
   "source": [
    "from scipy.stats import norm\n",
    "\n",
    "n = 40\n",
    "m = 50\n",
    "Xn = 2.91\n",
    "Ym = 1.98\n",
    "varX = 9.3\n",
    "varY = 2.1\n",
    "alpha = 0.05\n",
    "\n",
    "# Test unilatero a destra\n",
    "\n",
    "Z0 = (Xn - Ym) / (varX/n + varY/m)\n",
    "test = norm.ppf(1-alpha)\n",
    "\n",
    "if(Z0 > test):\n",
    "    print(\"Si rigetta l'ipotesi nulla\")\n",
    "else:\n",
    "    print(\"Non si può rigettare l'ipotesi nulla\")"
   ]
  }
 ],
 "metadata": {
  "kernelspec": {
   "display_name": "Python 3",
   "language": "python",
   "name": "python3"
  },
  "language_info": {
   "codemirror_mode": {
    "name": "ipython",
    "version": 3
   },
   "file_extension": ".py",
   "mimetype": "text/x-python",
   "name": "python",
   "nbconvert_exporter": "python",
   "pygments_lexer": "ipython3",
   "version": "3.11.3"
  }
 },
 "nbformat": 4,
 "nbformat_minor": 2
}
