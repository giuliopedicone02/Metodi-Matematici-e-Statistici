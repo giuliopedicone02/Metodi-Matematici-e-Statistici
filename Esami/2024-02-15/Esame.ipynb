{
 "cells": [
  {
   "cell_type": "markdown",
   "metadata": {},
   "source": [
    "# Esercizio 1\n",
    "\n",
    "È noto che il numero di pezzi guasti fabbricati in una giornata di lavoro di una catena di produzione A segue una distribuzione di Poisson di media 2.\n",
    "\n",
    "1. Qual è la probabilità che in un giorno siano stati prodotti esattamente 3 pezzi guasti?\n",
    "2. Qual è la probabilità che in un giorno siano stati prodotti tra 2 e 5 pezzi guasti (estremi inclusi)?\n",
    "\n",
    "Si mette in opera una nuova catena di produzione B. È noto che il numero di pezzi guasti fabbricati in una giornata di lavoro mediante B segue una distribuzione di Poisson di media 1.5.\n",
    "\n",
    "3. Si trovi la legge della variabile aleatoria che conta complessivamente il numero di pezzi guasti prodotti (cioè provenienti indifferentemente da A o da B) e si calcoli la sua media e la sua varianza.\n",
    "4. Qual è la probabilità che in un giorno siano stati prodotti complessivamente un numero di pezzi guasti compreso tra 3 e 6 (estremi inclusi)?"
   ]
  },
  {
   "cell_type": "code",
   "execution_count": 2,
   "metadata": {},
   "outputs": [
    {
     "name": "stdout",
     "output_type": "stream",
     "text": [
      "Probabilità di trovare 3 pezzi guasti:  0.18044704431548356\n",
      "0.5774305418095474\n",
      "0.6138647041089124\n"
     ]
    }
   ],
   "source": [
    "import numpy as np\n",
    "from scipy.stats import poisson\n",
    "\n",
    "lam = 2\n",
    "\n",
    "# Punto 1\n",
    "\n",
    "punto1 = poisson.pmf(3, lam)\n",
    "print(\"Probabilità di trovare 3 pezzi guasti: \", punto1)\n",
    "\n",
    "# Punto 2\n",
    "\n",
    "punto2 = (\n",
    "    poisson.pmf(2, lam)\n",
    "    + poisson.pmf(3, lam)\n",
    "    + poisson.pmf(4, lam)\n",
    "    + poisson.pmf(5, lam)\n",
    ")\n",
    "\n",
    "\"\"\"\n",
    "for i in range(2,6):\n",
    "    punto2 += poisson.pmf(i,lam)\n",
    "\"\"\"\n",
    "\n",
    "print(punto2)\n",
    "\n",
    "# Punto 3\n",
    "\n",
    "mu = 1.5\n",
    "\n",
    "# lam>0 e mu>0 -> X+Y Poisson(lam+mu)\n",
    "# quindi la nuova v.a. sarà Z Poisson (4.5)\n",
    "# la cui media e varianza sarà uguale a 4.5\n",
    "\n",
    "# Punto 4\n",
    "\n",
    "punto4 = 0\n",
    "\"\"\"\n",
    "for i in range(3, 7):\n",
    "    punto4 += poisson.pmf(i, lam + mu)\n",
    "print(punto4)\n",
    "\"\"\"\n",
    "\n",
    "punto4 = 0\n",
    "punto4 = (\n",
    "    poisson.pmf(3, lam + mu)\n",
    "    + poisson.pmf(4, lam + mu)\n",
    "    + poisson.pmf(5, lam + mu)\n",
    "    + poisson.pmf(6, lam + mu)\n",
    ")\n",
    "print(punto4)"
   ]
  },
  {
   "cell_type": "markdown",
   "metadata": {},
   "source": [
    "# Esercizio 2\n",
    "\n",
    "Il contenuto di sodio (in milligrammi) di 30 scatole di cereali è riportato di seguito:\n",
    "\n",
    "131.15, 130.69, 130.91, 129.54, 129.64, 128.77, 130.72, 128.33, 128.24, 129.65, 130.14, 129.29, 128.71, 129.00, 129.39, 130.42, 129.53, 130.12, 129.78, 130.92, 131.15, 130.69, 130.91, 129.54, 129.64, 128.77, 130.72, 128.33, 128.24, 129.65.\n",
    "\n",
    "1. Si calcoli la media campionaria, la deviazione standard e l’intervallo di confidenza per la media con livello di fiducia 0.01.\n",
    "2. Rappresentare graficamente i dati mediante un istogramma e mediante un box-plot.\n",
    "3. Si testi l’ipotesi che il contenuto medio di sodio sia di 130 mg utilizzando \\( \\alpha = 0.05 \\). Si calcoli il p-value del test precedente.\n",
    "4. È possibile affermare che il contenuto di sodio è distribuito normalmente nelle scatole? Giustificare la risposta."
   ]
  },
  {
   "cell_type": "code",
   "execution_count": 3,
   "metadata": {},
   "outputs": [
    {
     "name": "stdout",
     "output_type": "stream",
     "text": [
      "129.31560733504844\n",
      "130.18972599828484\n"
     ]
    }
   ],
   "source": [
    "import numpy as np\n",
    "from scipy.stats import norm\n",
    "\n",
    "A = np.array(\n",
    "    [\n",
    "        131.15,\n",
    "        130.69,\n",
    "        130.91,\n",
    "        129.54,\n",
    "        129.64,\n",
    "        128.77,\n",
    "        130.72,\n",
    "        128.33,\n",
    "        128.24,\n",
    "        129.65,\n",
    "        130.14,\n",
    "        129.29,\n",
    "        128.71,\n",
    "        129.00,\n",
    "        129.39,\n",
    "        130.42,\n",
    "        129.53,\n",
    "        130.12,\n",
    "        129.78,\n",
    "        130.92,\n",
    "        131.15,\n",
    "        130.69,\n",
    "        130.91,\n",
    "        129.54,\n",
    "        129.64,\n",
    "        128.77,\n",
    "        130.72,\n",
    "        128.33,\n",
    "        128.24,\n",
    "        129.65,\n",
    "    ]\n",
    ")\n",
    "n = A.size\n",
    "# Punto 1\n",
    "media = np.mean(A)\n",
    "deviazione_standard = np.std(A, ddof=1)\n",
    "alpha = 0.01\n",
    "PHI = norm.ppf(1 - alpha / 2)\n",
    "\n",
    "il = media - ((deviazione_standard / np.sqrt(n)) * PHI)\n",
    "ir = media + ((deviazione_standard / np.sqrt(n)) * PHI)\n",
    "print(il)\n",
    "print(ir)"
   ]
  },
  {
   "cell_type": "code",
   "execution_count": 4,
   "metadata": {},
   "outputs": [
    {
     "data": {
      "image/png": "[encoded data removed]",
      "text/plain": [
       "<Figure size 640x480 with 1 Axes>"
      ]
     },
     "metadata": {},
     "output_type": "display_data"
    }
   ],
   "source": [
    "# Punto 2\n",
    "import matplotlib.pyplot as plt\n",
    "\n",
    "plt.hist(A, bins=10, edgecolor=\"black\")\n",
    "plt.xlabel(\"contenuto di sodio in ml\")\n",
    "plt.ylabel(\"Quantità\")\n",
    "plt.title(\"Istogramma\")\n",
    "plt.show()"
   ]
  },
  {
   "cell_type": "code",
   "execution_count": 5,
   "metadata": {},
   "outputs": [
    {
     "data": {
      "image/png": "[encoded data removed]",
      "text/plain": [
       "<Figure size 640x480 with 1 Axes>"
      ]
     },
     "metadata": {},
     "output_type": "display_data"
    }
   ],
   "source": [
    "import matplotlib.pyplot as plt\n",
    "\n",
    "plt.boxplot(A)\n",
    "plt.title(\"Boxplot\")\n",
    "plt.show()"
   ]
  },
  {
   "cell_type": "code",
   "execution_count": 6,
   "metadata": {},
   "outputs": [
    {
     "name": "stdout",
     "output_type": "stream",
     "text": [
      "T0:  1.4576703931379382\n",
      "t:  2.045229642132703\n",
      "T0 < t: Non si può rigettare l'ipotesi\n"
     ]
    }
   ],
   "source": [
    "from scipy.stats import t\n",
    "\n",
    "# Punto 3\n",
    "alpha = 0.05\n",
    "mu = 130\n",
    "T = ((media - mu) / deviazione_standard) * np.sqrt(n)\n",
    "t = t.ppf(1 - alpha / 2, n - 1)\n",
    "print(\"T0: \", np.abs(T))\n",
    "print(\"t: \", t)\n",
    "\n",
    "print(\"T0 < t: Non si può rigettare l'ipotesi\")"
   ]
  },
  {
   "cell_type": "code",
   "execution_count": 7,
   "metadata": {},
   "outputs": [
    {
     "name": "stdout",
     "output_type": "stream",
     "text": [
      "p-value:  1.844323633977642\n"
     ]
    }
   ],
   "source": [
    "from scipy.stats import t\n",
    "\n",
    "# p-value\n",
    "p_value = 2 * (1 - t.cdf(T, n - 1))\n",
    "print(\"p-value: \", p_value)"
   ]
  },
  {
   "cell_type": "code",
   "execution_count": 8,
   "metadata": {},
   "outputs": [
    {
     "data": {
      "image/png": "[encoded data removed]",
      "text/plain": [
       "<Figure size 640x480 with 1 Axes>"
      ]
     },
     "metadata": {},
     "output_type": "display_data"
    }
   ],
   "source": [
    "# Punto 4\n",
    "from scipy.stats import norm\n",
    "\n",
    "assex = np.arange(media - (3 * deviazione_standard), media + (3 * deviazione_standard))\n",
    "assey = norm.pdf(assex, media, deviazione_standard)\n",
    "\n",
    "plt.hist(A, 20, edgecolor=\"black\", density=\"True\")\n",
    "plt.plot(assex, assey)\n",
    "\n",
    "plt.title(\"Indagine sull'altezza di una popolazione\")\n",
    "plt.xlabel(\"Altezza (cm)\")\n",
    "plt.ylabel(\"Frequenze\")\n",
    "\n",
    "plt.show()\n",
    "\n",
    "# Non segue una normale"
   ]
  },
  {
   "cell_type": "markdown",
   "metadata": {},
   "source": [
    "# Esercizio 3"
   ]
  },
  {
   "cell_type": "markdown",
   "metadata": {},
   "source": [
    "Si consideri la catena di Markov sui vertici di un triangolo equilatero definita come segue. Ad ogni istante ci si può spostare da un vertice a quello adiacente in senso orario con probabilità \\( p \\) e in senso antiorario con probabilità 1 - p , con  0 < p < 1 .\n",
    "\n",
    "1. Determinare la matrice di transizione.\n",
    "2. Fissato p=1/3, mostrare che la catena è regolare.\n",
    "3. Fissato p=1/3, determinare la distribuzione stazionaria.\n",
    "4. Indicato con  E = {1, 2, 3}  l'insieme degli stati, determinare il valore di  p  per cui la distribuzione uniforme su E  sia reversibile."
   ]
  },
  {
   "cell_type": "code",
   "execution_count": 9,
   "metadata": {},
   "outputs": [],
   "source": [
    "# Punto 1 Questa è la matrice di transizione\n",
    "# [0 p 1-p]\n",
    "# [1-p 0 p]\n",
    "# [p 1-p 0]"
   ]
  },
  {
   "cell_type": "code",
   "execution_count": 10,
   "metadata": {},
   "outputs": [
    {
     "name": "stdout",
     "output_type": "stream",
     "text": [
      "[[0.44444444 0.44444444 0.11111111]\n",
      " [0.11111111 0.44444444 0.44444444]\n",
      " [0.44444444 0.11111111 0.44444444]]\n"
     ]
    }
   ],
   "source": [
    "import numpy as np\n",
    "M = np.array([[0,1/3,2/3],[2/3,0,1/3],[1/3,2/3,0]])\n",
    "print(np.dot(M,M))\n",
    "#Sono tutti positivi quindi è regolare"
   ]
  },
  {
   "cell_type": "code",
   "execution_count": 11,
   "metadata": {},
   "outputs": [
    {
     "name": "stdout",
     "output_type": "stream",
     "text": [
      "[0.33333333 0.33333333 0.33333333]\n"
     ]
    }
   ],
   "source": [
    "#Punto 3\n",
    "#primo metodo\n",
    "lam, V = np.linalg.eig(M.T)\n",
    "v = np.real(V[:, 0]) / np.sum(np.real(V[:, 0]))\n",
    "print(v)"
   ]
  },
  {
   "cell_type": "code",
   "execution_count": 12,
   "metadata": {},
   "outputs": [
    {
     "name": "stdout",
     "output_type": "stream",
     "text": [
      "[0.33313 0.33375 0.33313]\n"
     ]
    }
   ],
   "source": [
    "#secondo metodo\n",
    "import numpy as np\n",
    "n=3\n",
    "F=np.zeros(n)\n",
    "j=np.random.randint(n)\n",
    "F[j]=1\n",
    "N=100000\n",
    "for i in range(N):\n",
    "        j_multi=np.random.multinomial(1,M[j,:])\n",
    "        j=np.nonzero(j_multi)[0][0]\n",
    "        F[j]=F[j]+1\n",
    "\n",
    "vv=F/N\n",
    "print(vv)"
   ]
  },
  {
   "cell_type": "code",
   "execution_count": 13,
   "metadata": {},
   "outputs": [],
   "source": [
    "#Punto 4\n",
    "import numpy as np\n",
    "\n",
    "# Definisci la tua matrice di transizione in funzione di p\n",
    "def M(p):\n",
    "    return np.array([[0, p, 1-p], [1-p, 0, p], [p, 1-p, 0]])\n",
    "\n",
    "# Per una catena di Markov con un insieme di stati E = {1, 2, 3},\n",
    "# la distribuzione uniforme su E è π = (1/3, 1/3, 1/3).\n",
    "# La distribuzione π è reversibile per la catena di Markov se e solo se\n",
    "# πi Pij = πj Pji per ogni coppia di stati i, j in E.\n",
    "# Sostituendo π e P in questa equazione otteniamo 1/3 Pij = 1/3 Pji,\n",
    "# da cui segue che Pij = Pji per ogni coppia di stati i, j in E.\n",
    "# Quindi, la distribuzione uniforme su E è reversibile per la catena di Markov\n",
    "# se e solo se la matrice di transizione P è simmetrica.\n",
    "\n",
    "# Dato che la matrice di transizione P è definita in termini di p,\n",
    "# possiamo risolvere l'equazione Pij = Pji per p per trovare il valore di p\n",
    "# per cui la matrice di transizione P è simmetrica.\n",
    "# In particolare, abbiamo p = P12 = P21 = 1 - P13 = 1 - P31 = P23 = P32 = 1 - p.\n",
    "\n",
    "# Risolvendo queste equazioni per p otteniamo p = 1/2.\n",
    "# Quindi, la distribuzione uniforme su E è reversibile per la catena di Markov\n",
    "# se e solo se p = 1/2.\n",
    "\n",
    "# Ricorda che questa soluzione è valida solo se 0 < p < 1,\n",
    "# come specificato nel problema.\n",
    "# Se p = 1/2 non soddisfa questa condizione,\n",
    "# allora non esiste un valore di p per cui la distribuzione uniforme su E\n",
    "# sia reversibile per la catena di Markov."
   ]
  }
 ],
 "metadata": {
  "kernelspec": {
   "display_name": "Python 3",
   "language": "python",
   "name": "python3"
  },
  "language_info": {
   "codemirror_mode": {
    "name": "ipython",
    "version": 3
   },
   "file_extension": ".py",
   "mimetype": "text/x-python",
   "name": "python",
   "nbconvert_exporter": "python",
   "pygments_lexer": "ipython3",
   "version": "3.12.2"
  }
 },
 "nbformat": 4,
 "nbformat_minor": 2
}
