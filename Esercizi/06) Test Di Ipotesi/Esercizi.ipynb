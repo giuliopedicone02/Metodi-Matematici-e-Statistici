{
 "cells": [
  {
   "cell_type": "markdown",
   "metadata": {},
   "source": [
    "# Esercizio 1\n",
    "\n",
    "Le specifiche tecniche per la velocità di combustione di un propellente richiedono che essa sia di 50 cm/s. Sappiamo che la deviazione standard è di 2 cm/s. Si effettuano 24 misurazioni: 51.0, 50.2, 49.5, 48.7, 50.2, 50.5, 49.6, 51.1, 50.6, 49.1, 53.1, 50.4, 49.3, 48.9, 50.3, 51.8, 51.3, 48.5, 49.3, 55.1, 53.1, 52.5, 55.1, 50.6.\n",
    "\n",
    "Si può rigettare l'ipotesi nulla con un livello di significatività del 5%? E se invece si richiedesse l'1%? Calcolare infine il p-value.\n",
    "\n",
    "Supponiamo che lo sperimentatore voglia impostare il test in modo che la reale velocità di combustione media differisca da 50 cm/s per al più 1 cm/s. Si vuole inoltre che il test affermerà questo fatto (cioè rigetterà H0 : µ = 50) con una probabilità del 90% e un livello di significatività del 5%. Determinare la dimensione campionaria.\n"
   ]
  },
  {
   "cell_type": "code",
   "execution_count": 91,
   "metadata": {},
   "outputs": [
    {
     "name": "stdout",
     "output_type": "stream",
     "text": [
      "Z0:  2.020829037796111\n",
      "PHI:  1.959963984540054\n",
      "Z0 > PHI: Si rigetta l'ipotesi nulla\n"
     ]
    }
   ],
   "source": [
    "import numpy as np\n",
    "from scipy.stats import norm\n",
    "\n",
    "X = np.array(\n",
    "    [\n",
    "        51.0,\n",
    "        50.2,\n",
    "        49.5,\n",
    "        48.7,\n",
    "        50.2,\n",
    "        50.5,\n",
    "        49.6,\n",
    "        51.1,\n",
    "        50.6,\n",
    "        49.1,\n",
    "        53.1,\n",
    "        50.4,\n",
    "        49.3,\n",
    "        48.9,\n",
    "        50.3,\n",
    "        51.8,\n",
    "        51.3,\n",
    "        48.5,\n",
    "        49.3,\n",
    "        55.1,\n",
    "        53.1,\n",
    "        52.5,\n",
    "        55.1,\n",
    "        50.6,\n",
    "    ]\n",
    ")\n",
    "n = X.size\n",
    "\n",
    "sigma = 2\n",
    "mu_0 = 50\n",
    "\n",
    "media = np.mean(X)\n",
    "\n",
    "Z_0 = (media - mu_0) / sigma * np.sqrt(n)\n",
    "\n",
    "# Test con livello di significatività del 5%\n",
    "\n",
    "alpha = 0.05\n",
    "PHI = norm.ppf(1 - alpha / 2)\n",
    "\n",
    "print(\"Z0: \", Z_0)\n",
    "print(\"PHI: \", PHI)\n",
    "\n",
    "print(\"Z0 > PHI: Si rigetta l'ipotesi nulla\")"
   ]
  },
  {
   "cell_type": "code",
   "execution_count": 92,
   "metadata": {},
   "outputs": [
    {
     "name": "stdout",
     "output_type": "stream",
     "text": [
      "Z0:  2.020829037796111\n",
      "PHI:  2.5758293035489004\n",
      "Z0 < PHI: Non abbiamo elementi sufficienti per rigettare l'ipotesi nulla\n"
     ]
    }
   ],
   "source": [
    "# Test con livello di significatività del 1%\n",
    "\n",
    "alpha = 0.01\n",
    "PHI = norm.ppf(1 - alpha / 2)\n",
    "\n",
    "print(\"Z0: \", Z_0)\n",
    "print(\"PHI: \", PHI)\n",
    "\n",
    "print(\"Z0 < PHI: Non abbiamo elementi sufficienti per rigettare l'ipotesi nulla\")"
   ]
  },
  {
   "cell_type": "code",
   "execution_count": 93,
   "metadata": {},
   "outputs": [
    {
     "name": "stdout",
     "output_type": "stream",
     "text": [
      "p-value:  0.04329746577930438\n"
     ]
    }
   ],
   "source": [
    "# Calcolo del p-value\n",
    "\n",
    "p_value = 2 * (1 - norm.cdf(np.abs(Z_0)))\n",
    "print(\"p-value: \", p_value)"
   ]
  },
  {
   "cell_type": "code",
   "execution_count": 94,
   "metadata": {},
   "outputs": [
    {
     "name": "stdout",
     "output_type": "stream",
     "text": [
      "-4.409453727323232 < -3\n",
      "Dimensione campionaria:  42.029692245762476\n"
     ]
    }
   ],
   "source": [
    "# Determiniamo la dimensione campionaria\n",
    "\n",
    "alpha = 0.05\n",
    "beta = 0.1\n",
    "delta = 1\n",
    "\n",
    "PHI = norm.ppf(1.0 - alpha / 2)\n",
    "print(-PHI - delta * np.sqrt(n) / sigma, \"< -3\")\n",
    "\n",
    "dimensione_campionaria = (PHI + norm.ppf(1 - beta)) ** 2 * sigma**2 / delta**2\n",
    "\n",
    "print(\"Dimensione campionaria: \", dimensione_campionaria)"
   ]
  },
  {
   "cell_type": "markdown",
   "metadata": {},
   "source": [
    "# Esercizio 2\n",
    "\n",
    "Si vuole testare ad un livello di significatività α = 0.05 se il carico di rottura di un materiale supera 10 MPa, tenendo presente che 22 prove hanno fornito i seguenti risultati\n",
    "\n",
    "19.8 18.5 17.6 16.7 15.8\n",
    "15.4 14.1 13.6 11.9 11.4\n",
    "11.4 8.8 7.5 15.4 15.4\n",
    "19.5 14.9 12.7 11.9 11.4\n",
    "10.1 7.9\n",
    "\n",
    "Calcolare inoltre il p-value.\n"
   ]
  },
  {
   "cell_type": "code",
   "execution_count": 95,
   "metadata": {},
   "outputs": [
    {
     "name": "stdout",
     "output_type": "stream",
     "text": [
      "T0:  4.901682101212391\n",
      "t:  1.7207429028118775\n",
      "T0 > T: Si può rigettare l'ipotesi\n"
     ]
    }
   ],
   "source": [
    "import numpy as np\n",
    "from scipy.stats import t\n",
    "\n",
    "X = np.array(\n",
    "    [\n",
    "        19.8,\n",
    "        18.5,\n",
    "        17.6,\n",
    "        16.7,\n",
    "        15.8,\n",
    "        15.4,\n",
    "        14.1,\n",
    "        13.6,\n",
    "        11.9,\n",
    "        11.4,\n",
    "        11.4,\n",
    "        8.8,\n",
    "        7.5,\n",
    "        15.4,\n",
    "        15.4,\n",
    "        19.5,\n",
    "        14.9,\n",
    "        12.7,\n",
    "        11.9,\n",
    "        11.4,\n",
    "        10.1,\n",
    "        7.9,\n",
    "    ]\n",
    ")\n",
    "n = X.size\n",
    "\n",
    "media = np.mean(X)\n",
    "S = np.std(X, ddof=1)\n",
    "mu_0 = 10\n",
    "\n",
    "T_0 = (media - mu_0) / S * np.sqrt(n)\n",
    "\n",
    "alpha = 0.05\n",
    "t = t.ppf(1 - alpha, n - 1)\n",
    "\n",
    "print(\"T0: \", T_0)\n",
    "print(\"t: \", t)\n",
    "\n",
    "print(\"T0 > T: Si può rigettare l'ipotesi\")"
   ]
  },
  {
   "cell_type": "code",
   "execution_count": 96,
   "metadata": {},
   "outputs": [
    {
     "name": "stdout",
     "output_type": "stream",
     "text": [
      "p-value:  3.781272593450513e-05\n"
     ]
    }
   ],
   "source": [
    "# Calcolo del p-value\n",
    "from scipy.stats import t\n",
    "\n",
    "\n",
    "\n",
    "p_value = 1 - t.cdf(T_0, n - 1)\n",
    "print(\"p-value: \", p_value)"
   ]
  },
  {
   "cell_type": "markdown",
   "metadata": {},
   "source": [
    "# Esercizio 3\n",
    "\n",
    "Un macchinario riempie automaticamente delle bottiglie. Da un campione di 20 misurazioni si ottengono i seguenti valori (in litri)\n",
    "\n",
    "2.05, 2.04, 1.98, 1.96, 2.03, 2.01, 1.97, 1.99, 2.01, 2.05\n",
    "1.96, 1.95, 2.04, 2.01, 1.97, 1.96, 2.02, 2.04, 1.98, 1.94\n",
    "\n",
    "Se la deviazione standard fosse superiore a 0.05 litri, la proporzione di bottiglie sotto o sovrariempite sarebbe non accettabile.\n",
    "\n",
    "I dati del campione contengono prove che suggeriscono che il produttore abbia un problema con le bottiglie riempite troppo o troppo poco? Utilizzare α = 0.05 e assumere che il volume di riempimento abbia una distribuzione normale.\n"
   ]
  },
  {
   "cell_type": "code",
   "execution_count": 97,
   "metadata": {},
   "outputs": [
    {
     "name": "stdout",
     "output_type": "stream",
     "text": [
      "W0:  9.967999999999988\n",
      "CHI:  10.117013063859044\n",
      "W0 < CHI: Si può rigettare l'ipotesi\n"
     ]
    }
   ],
   "source": [
    "import numpy as np\n",
    "from scipy.stats import chi2\n",
    "\n",
    "# Test unilatero a sinistra\n",
    "\n",
    "X = np.array(\n",
    "    [\n",
    "        2.05,\n",
    "        2.04,\n",
    "        1.98,\n",
    "        1.96,\n",
    "        2.03,\n",
    "        2.01,\n",
    "        1.97,\n",
    "        1.99,\n",
    "        2.01,\n",
    "        2.05,\n",
    "        1.96,\n",
    "        1.95,\n",
    "        2.04,\n",
    "        2.01,\n",
    "        1.97,\n",
    "        1.96,\n",
    "        2.02,\n",
    "        2.04,\n",
    "        1.98,\n",
    "        1.94,\n",
    "    ]\n",
    ")\n",
    "n = X.size\n",
    "\n",
    "sig0 = 0.05\n",
    "S = np.std(X, ddof=1)\n",
    "\n",
    "W0 = S**2 / sig0**2 * (n - 1)\n",
    "\n",
    "alpha = 0.05\n",
    "CHI = chi2.ppf(alpha, n - 1)\n",
    "\n",
    "print(\"W0: \", W0)\n",
    "print(\"CHI: \", CHI)\n",
    "\n",
    "print(\"W0 < CHI: Si può rigettare l'ipotesi\")"
   ]
  },
  {
   "cell_type": "markdown",
   "metadata": {},
   "source": [
    "# Esercizio 4\n",
    "\n",
    "In una catena di produzione si vuole mantenere il numero di pezzi difettosi al di sotto del 5%.\n",
    "\n",
    "Si analizza un campione di 200 pezzi e si trovano 4 pezzi difettosi.\n",
    "Si può asserire ad un livello di significativit`a α = 0.05 che la produzione rispetta le aspettative?\n",
    "\n",
    "Supponendo che il valore vero sia p∗ = 0.03 e supponendo che il costruttore voglia\n",
    "accettare un valore dell’errore di secondo tipo β = 0.1, quale ampiezza dovrebbe avere il campione?\n"
   ]
  },
  {
   "cell_type": "code",
   "execution_count": 98,
   "metadata": {},
   "outputs": [
    {
     "name": "stdout",
     "output_type": "stream",
     "text": [
      "Z0:  -1.946657053569151\n",
      "PHI:  -1.6448536269514729\n",
      "Z0 < PHI: Si può rigettare l'ipotesi\n"
     ]
    }
   ],
   "source": [
    "import numpy as np\n",
    "from scipy.stats import norm\n",
    "\n",
    "# Test unilatero a sinistra\n",
    "\n",
    "p0 = 0.05\n",
    "n = 200\n",
    "p = 4 / n\n",
    "\n",
    "Z_0 = (p - p0) / (np.sqrt(p0 * (1 - p0))) * np.sqrt(n)\n",
    "\n",
    "alpha = 0.05\n",
    "PHI = norm.ppf(alpha)\n",
    "\n",
    "print(\"Z0: \", Z_0)\n",
    "print(\"PHI: \", PHI)\n",
    "\n",
    "print(\"Z0 < PHI: Si può rigettare l'ipotesi\")"
   ]
  },
  {
   "cell_type": "code",
   "execution_count": 99,
   "metadata": {},
   "outputs": [
    {
     "name": "stdout",
     "output_type": "stream",
     "text": [
      "Dimensione campionaria:  832.6221546780524\n"
     ]
    }
   ],
   "source": [
    "p_star = 0.03\n",
    "beta = 0.1\n",
    "\n",
    "dimensione_campionaria = (\n",
    "    (norm.ppf(beta) * np.sqrt(p_star * (1.0 - p_star)) + PHI * np.sqrt(p0 * (1.0 - p0)))\n",
    "    / (p0 - p_star)\n",
    ") ** 2.0\n",
    "print(\"Dimensione campionaria: \", dimensione_campionaria)"
   ]
  },
  {
   "cell_type": "markdown",
   "metadata": {},
   "source": [
    "Si desidera confrontare due tipi di preparati per pittura, presumendo che abbiano tempi di essiccamento diversi. Si ipotizza che la deviazione standard del tempo di essiccamento per ciascun tipo di preparato sia di 8 minuti. Sono state tinteggiate 10 pareti con il trattamento 1 e altrettante con il trattamento 2. Le medie campionarie rilevate sono X¯ = 121 minuti e Y¯ = 112 minuti. Si intende stabilire se il tempo di essiccamento del campione 1 sia maggiore di quello del campione 2, con un livello di significatività α = 0.05.\n",
    "\n",
    "Inoltre, si procede al calcolo dell'intervallo di confidenza per la differenza dei tempi medi di essiccamento.\n"
   ]
  },
  {
   "cell_type": "code",
   "execution_count": 100,
   "metadata": {},
   "outputs": [
    {
     "name": "stdout",
     "output_type": "stream",
     "text": [
      "Z0:  2.5155764746872635\n",
      "PHI:  1.6448536269514722\n",
      "Z0 > PHI: Si può rigettare l'ipotesi\n"
     ]
    }
   ],
   "source": [
    "import numpy as np\n",
    "from scipy.stats import norm\n",
    "\n",
    "# Test unilatero a destra\n",
    "\n",
    "X_1 = 121\n",
    "X_2 = 112\n",
    "n1 = n2 = 10\n",
    "sig1 = sig2 = 8\n",
    "alpha = 0.05\n",
    "\n",
    "Z_0 = (X_1 - X_2) / np.sqrt(sig1**2 / n1 + sig2**2 / n2)\n",
    "PHI = norm.ppf(1 - alpha)\n",
    "\n",
    "print(\"Z0: \", Z_0)\n",
    "print(\"PHI: \", PHI)\n",
    "\n",
    "print(\"Z0 > PHI: Si può rigettare l'ipotesi\")"
   ]
  },
  {
   "cell_type": "code",
   "execution_count": 101,
   "metadata": {},
   "outputs": [
    {
     "name": "stdout",
     "output_type": "stream",
     "text": [
      "Intervallo di confidenza:  3.115192763359085\n"
     ]
    }
   ],
   "source": [
    "# Intervallo di confidenza per la differenza dei tempi medi di essiccamento\n",
    "\n",
    "intervallo = X_1 - X_2 - PHI * np.sqrt(sig1**2 / n1 + sig2**2 / n2)\n",
    "print(\"Intervallo di confidenza: \", intervallo)"
   ]
  },
  {
   "cell_type": "markdown",
   "metadata": {},
   "source": [
    "Quindici adulti, con età compresa tra 35 e 50 anni, hanno partecipato a uno studio per valutare gli effetti di dieta alimentare ed esercizio fisico sul livello di colesterolo nel sangue. In ciascun individuo, il livello di colesterolo è stato misurato inizialmente e tre mesi dopo l'adozione della dieta e dell'allenamento. Con un livello di significatività α = 0.05, si desidera stabilire se la dieta ed esercizio fisico portino effettivamente a una riduzione del livello medio di colesterolo.\n",
    "\n",
    "![Immagine](img/test.png)\n"
   ]
  },
  {
   "cell_type": "code",
   "execution_count": 102,
   "metadata": {},
   "outputs": [
    {
     "name": "stdout",
     "output_type": "stream",
     "text": [
      "T0:  5.4658739941050065\n",
      "T:  1.7613101357748562\n",
      "T0 > T: Si può rigettare l'ipotesi\n"
     ]
    }
   ],
   "source": [
    "import numpy as np\n",
    "from scipy.stats import t\n",
    "\n",
    "# Test unilatero a destra\n",
    "\n",
    "X = np.array(\n",
    "    [\n",
    "        [\n",
    "            265.0,\n",
    "            240.0,\n",
    "            258.0,\n",
    "            295.0,\n",
    "            251.0,\n",
    "            245.0,\n",
    "            287.0,\n",
    "            314.0,\n",
    "            260.0,\n",
    "            279.0,\n",
    "            283.0,\n",
    "            240.0,\n",
    "            238.0,\n",
    "            225.0,\n",
    "            247.0,\n",
    "        ],\n",
    "        [\n",
    "            229.0,\n",
    "            231.0,\n",
    "            227.0,\n",
    "            240.0,\n",
    "            238.0,\n",
    "            241.0,\n",
    "            234.0,\n",
    "            256.0,\n",
    "            247.0,\n",
    "            239.0,\n",
    "            246.0,\n",
    "            218.0,\n",
    "            219.0,\n",
    "            226.0,\n",
    "            233.0,\n",
    "        ],\n",
    "    ]\n",
    ")\n",
    "\n",
    "D = X[0, :] - X[1, :]\n",
    "n = D.size\n",
    "\n",
    "D_bar = np.mean(D)\n",
    "S = np.std(D, ddof=1)\n",
    "\n",
    "T_0 = D_bar / S * np.sqrt(n)\n",
    "\n",
    "alpha = 0.05\n",
    "t = t.ppf(1 - alpha, n - 1)\n",
    "\n",
    "print(\"T0: \", T_0)\n",
    "print(\"T: \", t)\n",
    "\n",
    "print(\"T0 > T: Si può rigettare l'ipotesi\")"
   ]
  },
  {
   "cell_type": "markdown",
   "metadata": {},
   "source": [
    "Si vuole testare se un dado sia equilibrato o meno ad un livello di significatività α = 0.05.\n",
    "Si effettuano 100 lanci, registrando i risultati riportati nella seguente tabella.\n",
    "\n",
    "![Immagine](img/tabella1.png)\n",
    "\n",
    "Dopo aver aumentato la dimensione campionaria, si registrano i risultati riportati nella seguente\n",
    "tabella. Si ripeta il test di cui sopra con i nuovi dati.\n",
    "\n",
    "![Immagine](img/tabella2.png)\n",
    "\n",
    "Si ripeta quest’ultimo test con α = 0.01.\n"
   ]
  },
  {
   "cell_type": "code",
   "execution_count": 103,
   "metadata": {},
   "outputs": [
    {
     "name": "stdout",
     "output_type": "stream",
     "text": [
      "T:  10.760000000000002\n",
      "CHI:  11.070497693516351\n",
      "T < CHI: NON è possibile rigettare l'ipotesi\n"
     ]
    }
   ],
   "source": [
    "import numpy as np\n",
    "from scipy.stats import chi2\n",
    "\n",
    "X = np.array([20.0, 7.0, 12.0, 18.0, 20.0, 23.0])\n",
    "N = np.sum(X)\n",
    "p = 1 / 6\n",
    "\n",
    "E = np.ones(6) * p * N\n",
    "\n",
    "T = np.sum((X - E) ** 2.0 / E)\n",
    "\n",
    "alpha = 0.05\n",
    "CHI = chi2.ppf(1.0 - alpha, 6 - 1)\n",
    "\n",
    "print(\"T: \", T)\n",
    "print(\"CHI: \", CHI)\n",
    "\n",
    "print(\"T < CHI: NON è possibile rigettare l'ipotesi\")"
   ]
  },
  {
   "cell_type": "code",
   "execution_count": 104,
   "metadata": {},
   "outputs": [
    {
     "name": "stdout",
     "output_type": "stream",
     "text": [
      "T:  12.616000000000001\n",
      "CHI:  11.070497693516351\n",
      "T > CHI: Si può rigettare l'ipotesi\n"
     ]
    }
   ],
   "source": [
    "Y = np.array([388.0, 322.0, 314.0, 316.0, 344.0, 316.0])\n",
    "N = np.sum(Y)\n",
    "p = 1 / 6\n",
    "\n",
    "E = np.ones(6) * p * N\n",
    "T = np.sum((Y - E) ** 2.0 / E)\n",
    "\n",
    "print(\"T: \", T)\n",
    "print(\"CHI: \", CHI)\n",
    "\n",
    "print(\"T > CHI: Si può rigettare l'ipotesi\")"
   ]
  },
  {
   "cell_type": "markdown",
   "metadata": {},
   "source": [
    "Si può adattare una distribuzione di Poisson ai dati della seguente tabella?\n",
    "\n",
    "![Immagine](img/poisson.png)\n"
   ]
  },
  {
   "cell_type": "code",
   "execution_count": 105,
   "metadata": {},
   "outputs": [
    {
     "name": "stdout",
     "output_type": "stream",
     "text": [
      "T:  7.6054880723053175\n",
      "CHI:  7.814727903251179\n"
     ]
    }
   ],
   "source": [
    "import numpy as np\n",
    "from scipy.stats import chi2\n",
    "from scipy.stats import poisson\n",
    "\n",
    "X = np.array([584.0, 398.0, 165.0, 35.0, 15.0])\n",
    "m = X.size\n",
    "N = np.sum(X)\n",
    "\n",
    "p = X / N\n",
    "X_n = X * np.array([0, 1, 2, 3, 4])\n",
    "lam = sum(X_n) / N\n",
    "\n",
    "p0 = np.zeros(5)\n",
    "for i in range(4):\n",
    "    p0[i] = poisson.pmf(i, lam)\n",
    "p0[4] = 1.0 - np.sum(p0)\n",
    "\n",
    "T = N * np.sum((p - p0) ** 2.0 / p0)\n",
    "print(\"T: \", T)\n",
    "\n",
    "alpha = 0.05\n",
    "CHI = chi2.ppf(1.0 - alpha, m - 1 - 1)\n",
    "print(\"CHI: \", CHI)"
   ]
  },
  {
   "cell_type": "markdown",
   "metadata": {},
   "source": [
    "Si vuole testare se un antibiotico è efficace. Si considerano 170 pazienti. I dati ottenuti sono stati raccolti nella tabella seguente, detta tabella di contingenza\n",
    "\n",
    "![Immagine](img/tabella3.png)\n",
    "\n",
    "I due effetti, trattamento e guarigione, sono indipendenti? Si usi α = 0.05\n"
   ]
  },
  {
   "cell_type": "code",
   "execution_count": 106,
   "metadata": {},
   "outputs": [
    {
     "name": "stdout",
     "output_type": "stream",
     "text": [
      "T:  3.0175117739708286\n",
      "CHI:  3.841458820694124\n",
      "T < CHI: NON è possibile rigettare l'ipotesi\n"
     ]
    }
   ],
   "source": [
    "import numpy as np\n",
    "from scipy.stats import chi2\n",
    "\n",
    "X = np.array([[44., 10.],[81., 35]])\n",
    "n = 170\n",
    "\n",
    "p = np.array([54., 116.])/n\n",
    "q = np.array([125., 45.])/n\n",
    "\n",
    "# Probabilità congiunta empirica\n",
    "pi = X/n\n",
    "\n",
    "T = 0\n",
    "\n",
    "for h in range(2):\n",
    "    for k in range(2):\n",
    "        T = T + (p[h]*q[k]-pi[h][k])**2./pi[h][k]\n",
    "T = n*T\n",
    "\n",
    "alpha = 0.05\n",
    "CHI = chi2.ppf(1.-alpha,(2-1)*(2-1))\n",
    "\n",
    "print(\"T: \", T)\n",
    "print(\"CHI: \", CHI)\n",
    "\n",
    "print(\"T < CHI: NON è possibile rigettare l'ipotesi\")"
   ]
  },
  {
   "cell_type": "markdown",
   "metadata": {},
   "source": [
    "# Esercizio\n",
    "Un motore a reazione è formato legando insieme un propellente di accensione e un propellente\n",
    "di sostegno all’interno di un alloggiamento metallico. La resistenza al taglio del legame tra i\n",
    "due tipi di propellente è una caratteristica importante.\n",
    "Vogliamo testare l’ipotesi che la mediana della resistenza al taglio sia 2000 psi con una significatività α = 0.05.\n",
    "I dati sono riportati nel file Dataset motore.dat."
   ]
  },
  {
   "cell_type": "code",
   "execution_count": 107,
   "metadata": {},
   "outputs": [],
   "source": [
    "#test bilatero\n",
    "import numpy as np\n",
    "from scipy.stats import binom"
   ]
  },
  {
   "cell_type": "code",
   "execution_count": 108,
   "metadata": {},
   "outputs": [],
   "source": [
    "alpha=0.05\n",
    "mediana_0 = 2000"
   ]
  },
  {
   "cell_type": "code",
   "execution_count": 109,
   "metadata": {},
   "outputs": [
    {
     "data": {
      "text/plain": [
       "array([2158.7 , 1678.15, 2316.  , 2061.3 , 2207.5 , 1708.3 , 1784.7 ,\n",
       "       2575.1 , 2357.9 , 2256.7 , 2165.2 , 2399.55, 1779.8 , 2336.75,\n",
       "       1765.3 , 2053.5 , 2414.4 , 2200.5 , 2654.2 , 1753.7 ])"
      ]
     },
     "metadata": {},
     "output_type": "display_data"
    }
   ],
   "source": [
    "X = np.loadtxt('Dataset_motore.dat')\n",
    "display(X)\n",
    "n=X.size"
   ]
  },
  {
   "cell_type": "code",
   "execution_count": 110,
   "metadata": {},
   "outputs": [
    {
     "name": "stdout",
     "output_type": "stream",
     "text": [
      "[ 158.7  -321.85  316.     61.3   207.5  -291.7  -215.3   575.1   357.9\n",
      "  256.7   165.2   399.55 -220.2   336.75 -234.7    53.5   414.4   200.5\n",
      "  654.2  -246.3 ]\n"
     ]
    }
   ],
   "source": [
    "#Calcoliamo le differenze\n",
    "D=X-mediana_0\n",
    "print(D)"
   ]
  },
  {
   "cell_type": "code",
   "execution_count": 111,
   "metadata": {},
   "outputs": [],
   "source": [
    "r_piu = D>0 #Diventa un array di bool -> true se la condizione (D>0) è vera \n",
    "r_piu = r_piu.astype(int) #Conversione in int (quindi diventeranno tutti 0 o 1)\n",
    "r_piu = np.sum(r_piu) #somma dei valori >0"
   ]
  },
  {
   "cell_type": "code",
   "execution_count": 113,
   "metadata": {},
   "outputs": [
    {
     "name": "stdout",
     "output_type": "stream",
     "text": [
      "r+:  14\n",
      "n/2:  10.0\n",
      "r+ > n/2\n",
      "p_value  0.11531829833984363\n"
     ]
    }
   ],
   "source": [
    "print(\"r+: \", r_piu)\n",
    "print(\"n/2: \", n/2)\n",
    "print(\"r+ > n/2\")\n",
    "k=range(r_piu,n+1)\n",
    "Y=binom.pmf(k,n,0.5)\n",
    "p_value=2*(np.sum(Y))\n",
    "\n",
    "print(\"p_value \",p_value)\n",
    "# Poiché il p-value è maggiore della soglia fissata alpha = 0.05\n",
    "# Non abbiamo elementi sufficienti per rigettare H0"
   ]
  },
  {
   "cell_type": "markdown",
   "metadata": {},
   "source": [
    "# Esercizio\n",
    "In un esperimento si confrontano quattro diverse tecniche di mescolamento per il cemento e\n",
    "si misura la resistenza alla trazione. Si può affermare che la tecnica di mescolamento influisca\n",
    "sulla resistenza alla trazione? Si usi α = 0.05.\n",
    "\n",
    "![tabella](img/tabella4.png)"
   ]
  },
  {
   "cell_type": "code",
   "execution_count": 114,
   "metadata": {},
   "outputs": [],
   "source": [
    "import numpy as np"
   ]
  },
  {
   "cell_type": "code",
   "execution_count": 115,
   "metadata": {},
   "outputs": [],
   "source": [
    "X_1 = np.array([3129., 3000., 2865., 2890.])\n",
    "X_2 = np.array([3200., 3000., 2975., 3150.])\n",
    "X_3 = np.array([2800., 2900., 2985., 3050.])\n",
    "X_4 = np.array([2600., 2700., 2600., 2765.])"
   ]
  },
  {
   "cell_type": "code",
   "execution_count": 117,
   "metadata": {},
   "outputs": [],
   "source": [
    "alpha = 0.05\n",
    "n = np.array([X_1.size, X_2.size, X_3.size, X_4.size])\n",
    "m = 4"
   ]
  },
  {
   "cell_type": "code",
   "execution_count": 118,
   "metadata": {},
   "outputs": [],
   "source": [
    "N = np.sum(n)\n",
    "Y = np.concatenate([X_1, X_2, X_3, X_4])"
   ]
  },
  {
   "cell_type": "code",
   "execution_count": 119,
   "metadata": {},
   "outputs": [
    {
     "data": {
      "text/plain": [
       "array([14. , 11.5,  6. ,  7. , 16. , 11.5,  9. , 15. ,  5. ,  8. , 10. ,\n",
       "       13. ,  1.5,  3. ,  1.5,  4. ])"
      ]
     },
     "metadata": {},
     "output_type": "display_data"
    }
   ],
   "source": [
    "from scipy.stats import rankdata\n",
    "R = rankdata(Y)\n",
    "display(R)"
   ]
  },
  {
   "cell_type": "code",
   "execution_count": 120,
   "metadata": {},
   "outputs": [
    {
     "data": {
      "text/plain": [
       "22.6"
      ]
     },
     "metadata": {},
     "output_type": "display_data"
    }
   ],
   "source": [
    "S2 = (np.sum(R**2.)-N*(N+1)**2./4.) / (N-1)\n",
    "display(S2)"
   ]
  },
  {
   "cell_type": "code",
   "execution_count": 121,
   "metadata": {},
   "outputs": [
    {
     "data": {
      "text/plain": [
       "array([38.5, 51.5, 36. , 10. ])"
      ]
     },
     "metadata": {},
     "output_type": "display_data"
    }
   ],
   "source": [
    "RR = np.zeros(m)\n",
    "for i in range(m):\n",
    "    RR[i] = np.sum(R[m*i:m*(i+1)])\n",
    "display(RR)"
   ]
  },
  {
   "cell_type": "code",
   "execution_count": 122,
   "metadata": {},
   "outputs": [
    {
     "data": {
      "text/plain": [
       "10.027654867256636"
      ]
     },
     "metadata": {},
     "output_type": "display_data"
    }
   ],
   "source": [
    "H = (np.sum(RR**2. / n)-N*(N+1)**2./4.)/S2\n",
    "display(H)"
   ]
  },
  {
   "cell_type": "code",
   "execution_count": 123,
   "metadata": {},
   "outputs": [
    {
     "data": {
      "text/plain": [
       "0.35184631774927144"
      ]
     },
     "metadata": {},
     "output_type": "display_data"
    }
   ],
   "source": [
    "from scipy.stats import chi2\n",
    "alpha = 0.05\n",
    "CHI = chi2.ppf(alpha, m-1)\n",
    "display(CHI)"
   ]
  },
  {
   "cell_type": "code",
   "execution_count": 124,
   "metadata": {},
   "outputs": [],
   "source": [
    "# Si rigetta H0 in favore di H1"
   ]
  }
 ],
 "metadata": {
  "kernelspec": {
   "display_name": "Python 3",
   "language": "python",
   "name": "python3"
  },
  "language_info": {
   "codemirror_mode": {
    "name": "ipython",
    "version": 3
   },
   "file_extension": ".py",
   "mimetype": "text/x-python",
   "name": "python",
   "nbconvert_exporter": "python",
   "pygments_lexer": "ipython3",
   "version": "3.12.2"
  }
 },
 "nbformat": 4,
 "nbformat_minor": 2
}
