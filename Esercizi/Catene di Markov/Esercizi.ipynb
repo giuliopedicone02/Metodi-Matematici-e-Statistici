{
 "cells": [
  {
   "cell_type": "markdown",
   "metadata": {},
   "source": [
    "# Esercizio 1\n",
    "\n",
    "Data la matrice di transizione\n",
    "\n",
    "0 1/4 3/4\n",
    "\n",
    "0 1/2 1/2\n",
    "\n",
    "3/4 0 1/4\n",
    "\n",
    "dimostrare che ha un’unica distribuzione stazionaria π e determinarla sia analiticamente che con\n",
    "il metodo Monte Carlo confrontando infine i risultati.\n"
   ]
  },
  {
   "cell_type": "code",
   "execution_count": 44,
   "metadata": {},
   "outputs": [
    {
     "name": "stdout",
     "output_type": "stream",
     "text": [
      "[0.35294118 0.17647059 0.47058824]\n"
     ]
    }
   ],
   "source": [
    "import numpy as np\n",
    "\n",
    "# Metodo Analitico\n",
    "\n",
    "P = np.array([[0, 1 / 4, 3 / 4], [0, 1 / 2, 1 / 2], [3 / 4, 0, 1 / 4]])\n",
    "P2 = np.dot(P, P)\n",
    "\n",
    "lam, V = np.linalg.eig(P.T)\n",
    "v = V[:, 1] / np.sum(V[:, 1])\n",
    "\n",
    "print(v)"
   ]
  },
  {
   "cell_type": "code",
   "execution_count": 45,
   "metadata": {},
   "outputs": [
    {
     "name": "stdout",
     "output_type": "stream",
     "text": [
      "[0.35376 0.17395 0.4723 ]\n"
     ]
    }
   ],
   "source": [
    "# Metodo Monte Carlo\n",
    "\n",
    "n = 3\n",
    "F = np.zeros(n)\n",
    "j = np.random.randint(n)\n",
    "F[j] = 1\n",
    "\n",
    "N = 100000\n",
    "\n",
    "for i in range(N):\n",
    "    j_multi = np.random.multinomial(1, P[j, :])\n",
    "    j = np.nonzero(j_multi)[0][0]\n",
    "    F[j] = F[j] + 1\n",
    "vv = F / N\n",
    "\n",
    "print(vv)"
   ]
  },
  {
   "cell_type": "markdown",
   "metadata": {},
   "source": [
    "# Esercizio 2\n",
    "\n",
    "Consideriamo la passeggiata aleatoria sul grafo della figura seguente.\n",
    "\n",
    "![Grafo](img/grafo.png)\n",
    "\n",
    "Determinare la matrice di transizione della catena di Markov associata, dimostrare che la catena\n",
    "è regolare e determinare la distribuzione invariante sia analiticamente che con il metodo Monte\n",
    "Carlo.\n"
   ]
  },
  {
   "cell_type": "code",
   "execution_count": 46,
   "metadata": {},
   "outputs": [
    {
     "name": "stdout",
     "output_type": "stream",
     "text": [
      "[[0.         0.33333333 0.         0.33333333 0.33333333]\n",
      " [0.33333333 0.         0.33333333 0.         0.33333333]\n",
      " [0.         0.33333333 0.         0.33333333 0.33333333]\n",
      " [0.33333333 0.         0.33333333 0.         0.33333333]\n",
      " [0.25       0.25       0.25       0.25       0.        ]]\n"
     ]
    }
   ],
   "source": [
    "import numpy as np\n",
    "\n",
    "# Calcolo della matrice di transizione\n",
    "\n",
    "P = np.array(\n",
    "    [\n",
    "        [0, 1 / 3, 0, 1 / 3, 1 / 3],\n",
    "        [1 / 3, 0, 1 / 3, 0, 1 / 3],\n",
    "        [0, 1 / 3, 0, 1 / 3, 1 / 3],\n",
    "        [1 / 3, 0, 1 / 3, 0, 1 / 3],\n",
    "        [1 / 4, 1 / 4, 1 / 4, 1 / 4, 0],\n",
    "    ]\n",
    ")\n",
    "\n",
    "print(P)"
   ]
  },
  {
   "cell_type": "code",
   "execution_count": 47,
   "metadata": {},
   "outputs": [
    {
     "name": "stdout",
     "output_type": "stream",
     "text": [
      "[0.1875 0.1875 0.1875 0.1875 0.25  ]\n"
     ]
    }
   ],
   "source": [
    "# Metodo analitico\n",
    "\n",
    "lam, V = np.linalg.eig(P.T)\n",
    "v = np.real(V[:, 0]) / np.sum(np.real(V[:, 0]))\n",
    "\n",
    "print(v)"
   ]
  },
  {
   "cell_type": "code",
   "execution_count": 48,
   "metadata": {},
   "outputs": [
    {
     "name": "stdout",
     "output_type": "stream",
     "text": [
      "[[0.30555556 0.08333333 0.30555556 0.08333333 0.22222222]\n",
      " [0.08333333 0.30555556 0.08333333 0.30555556 0.22222222]\n",
      " [0.30555556 0.08333333 0.30555556 0.08333333 0.22222222]\n",
      " [0.08333333 0.30555556 0.08333333 0.30555556 0.22222222]\n",
      " [0.16666667 0.16666667 0.16666667 0.16666667 0.33333333]]\n"
     ]
    }
   ],
   "source": [
    "# Dimostriamo che la catena è regolare\n",
    "print(np.dot(P, P))\n",
    "# Tutti gli elementi sono positivi, quindi la definizione è soddisfatta."
   ]
  },
  {
   "cell_type": "code",
   "execution_count": 49,
   "metadata": {},
   "outputs": [
    {
     "name": "stdout",
     "output_type": "stream",
     "text": [
      "[0.1875 0.1875 0.1875 0.1875 0.25  ]\n"
     ]
    }
   ],
   "source": [
    "n = 5\n",
    "F = np.zeros(n)\n",
    "j = np.random.randint(n)\n",
    "F[j] = 1\n",
    "N = 100000\n",
    "\n",
    "for i in range(N):\n",
    "    j_multi = np.random.multinomial(1, P[j, :])\n",
    "    j = np.nonzero(j_multi)[0][0]\n",
    "    F[j] = F[j] + 1\n",
    "\n",
    "vv = F / N\n",
    "\n",
    "print(v)"
   ]
  }
 ],
 "metadata": {
  "kernelspec": {
   "display_name": "Python 3",
   "language": "python",
   "name": "python3"
  },
  "language_info": {
   "codemirror_mode": {
    "name": "ipython",
    "version": 3
   },
   "file_extension": ".py",
   "mimetype": "text/x-python",
   "name": "python",
   "nbconvert_exporter": "python",
   "pygments_lexer": "ipython3",
   "version": "3.11.3"
  }
 },
 "nbformat": 4,
 "nbformat_minor": 2
}
