{
 "cells": [
  {
   "cell_type": "markdown",
   "metadata": {},
   "source": [
    "# Esercizio 1\n",
    "\n",
    "Data la matrice di transizione\n",
    "\n",
    "0 1/4 3/4\n",
    "\n",
    "0 1/2 1/2\n",
    "\n",
    "3/4 0 1/4\n",
    "\n",
    "dimostrare che ha un’unica distribuzione stazionaria π e determinarla sia analiticamente che con\n",
    "il metodo Monte Carlo confrontando infine i risultati.\n"
   ]
  },
  {
   "cell_type": "code",
   "execution_count": 16,
   "metadata": {},
   "outputs": [
    {
     "name": "stdout",
     "output_type": "stream",
     "text": [
      "[0.35294118 0.17647059 0.47058824]\n"
     ]
    }
   ],
   "source": [
    "import numpy as np\n",
    "\n",
    "# Metodo Analitico\n",
    "\n",
    "P = np.array([[0, 1 / 4, 3 / 4], [0, 1 / 2, 1 / 2], [3 / 4, 0, 1 / 4]])\n",
    "P2 = np.dot(P, P)\n",
    "\n",
    "lam, V = np.linalg.eig(P.T)\n",
    "v = V[:, 1] / np.sum(V[:, 1])\n",
    "\n",
    "print(v)"
   ]
  },
  {
   "cell_type": "code",
   "execution_count": 17,
   "metadata": {},
   "outputs": [
    {
     "name": "stdout",
     "output_type": "stream",
     "text": [
      "[0.35417 0.17266 0.47318]\n"
     ]
    }
   ],
   "source": [
    "# Metodo Monte Carlo\n",
    "\n",
    "n = 3\n",
    "F = np.zeros(n)\n",
    "j = np.random.randint(n)\n",
    "F[j] = 1\n",
    "\n",
    "N = 100000\n",
    "\n",
    "for i in range(N):\n",
    "    j_multi = np.random.multinomial(1, P[j, :])\n",
    "    j = np.nonzero(j_multi)[0][0]\n",
    "    F[j] = F[j] + 1\n",
    "vv = F / N\n",
    "\n",
    "print(vv)"
   ]
  }
 ],
 "metadata": {
  "kernelspec": {
   "display_name": "Python 3",
   "language": "python",
   "name": "python3"
  },
  "language_info": {
   "codemirror_mode": {
    "name": "ipython",
    "version": 3
   },
   "file_extension": ".py",
   "mimetype": "text/x-python",
   "name": "python",
   "nbconvert_exporter": "python",
   "pygments_lexer": "ipython3",
   "version": "3.11.3"
  }
 },
 "nbformat": 4,
 "nbformat_minor": 2
}
