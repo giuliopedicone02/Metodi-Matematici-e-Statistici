{
 "cells": [
  {
   "cell_type": "markdown",
   "metadata": {},
   "source": [
    "# Esercizi sul calcolo delle probabilità"
   ]
  },
  {
   "cell_type": "markdown",
   "metadata": {},
   "source": [
    "## Esercizio 1\n",
    "\n",
    "Un congegno idraulico è costituito da tre valvole collegate come da figura. Le probabilità che le valvole\n",
    "A, B, C si guastino è rispettivamente pari a 1/3, 1/4, 1/2. Il congegno è funzionante se funziona almeno\n",
    "la coppia di valvole A, B o la valvola C. Si calcoli la probabilità che il congegno si guasti."
   ]
  },
  {
   "cell_type": "code",
   "execution_count": 4,
   "metadata": {},
   "outputs": [
    {
     "name": "stdout",
     "output_type": "stream",
     "text": [
      "Risultato:  0.25\n"
     ]
    }
   ],
   "source": [
    "GA = 1/3\n",
    "GB = 1/4\n",
    "GC = 1/2\n",
    "\n",
    "G = (GA+GB - (GA*GB))*GC\n",
    "\n",
    "print(\"Risultato: \", round(G,2))"
   ]
  },
  {
   "cell_type": "markdown",
   "metadata": {},
   "source": [
    "## Esercizio 2\n",
    "\n",
    "Una industria ha due catene di produzione, A e B, che forniscono rispettivamente il 40% e il 60% dei\n",
    "prodotti. Si scopre che il 25% dei pezzi prodotti dalla catena A sono difettosi contro il 7% dei pezzi\n",
    "prodotti nel centro B. \n",
    "- Qual è la probabilità che un pezzo scelto a caso dall'intera produzione sia difettoso?\n",
    "- Qual è la probabilità che un pezzo difettoso appartenga alla produzione A?\n"
   ]
  },
  {
   "cell_type": "code",
   "execution_count": 5,
   "metadata": {},
   "outputs": [
    {
     "name": "stdout",
     "output_type": "stream",
     "text": [
      "Probabilità che un pezzo scelto a caso dell'intera produzione sia difettoso:  0.142\n",
      "Probabilità che un pezzo difettoso appartenga alla catena di produzione A:  0.704\n"
     ]
    }
   ],
   "source": [
    "A = 0.4\n",
    "B = 0.6\n",
    "\n",
    "DA = 0.25 # Pezzi prodotti da catena A\n",
    "DB = 0.07 # Pezzi prodotti da catena B\n",
    "\n",
    "# Probabilità di trovare un pezzo difettoso (Teorema delle probabilità totali)\n",
    "\n",
    "PD = (A*DA)+(B*DB)\n",
    "\n",
    "print(\"Probabilità che un pezzo scelto a caso dell'intera produzione sia difettoso: \", round(PD,3))\n",
    "\n",
    "# Probabilità che un pezzo difettoso appartenga alla catena di produzione A (Teorema di Bayes)\n",
    "\n",
    "PAD = (DA*A)/PD\n",
    "\n",
    "print(\"Probabilità che un pezzo difettoso appartenga alla catena di produzione A: \", round(PAD, 3))\n",
    "\n"
   ]
  }
 ],
 "metadata": {
  "kernelspec": {
   "display_name": "Python 3",
   "language": "python",
   "name": "python3"
  },
  "language_info": {
   "codemirror_mode": {
    "name": "ipython",
    "version": 3
   },
   "file_extension": ".py",
   "mimetype": "text/x-python",
   "name": "python",
   "nbconvert_exporter": "python",
   "pygments_lexer": "ipython3",
   "version": "3.11.3"
  }
 },
 "nbformat": 4,
 "nbformat_minor": 2
}
