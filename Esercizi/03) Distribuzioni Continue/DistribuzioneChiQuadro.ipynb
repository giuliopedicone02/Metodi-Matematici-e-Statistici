{
 "cells": [
  {
   "cell_type": "markdown",
   "metadata": {},
   "source": [
    "# Distribuzione Chi Quadro"
   ]
  },
  {
   "cell_type": "markdown",
   "metadata": {},
   "source": [
    "La distribuzione del chi quadro è una distribuzione di probabilità continua che si ottiene sommando i quadrati di variabili casuali standard normali indipendenti. È utilizzata in statistica inferenziale per test di ipotesi e stime dei parametri di popolazione.\n",
    "\n",
    "Scriviamo:\n",
    "\n",
    "$$\n",
    "X \\sim \\chi^2(n)\n",
    "$$\n",
    "\n",
    "Dove:\n",
    "\n",
    "- $X$: la variabile aleatoria che segue la distribuzione del chi quadro,\n",
    "- $n$: i gradi di libertà della distribuzione.\n",
    "\n",
    "**Funzione di densità di probabilità (PDF)** \n",
    "\n",
    "$$\n",
    "f(x) = \\frac{1}{2^{\\frac{n}{2}}\\Gamma\\left(\\frac{n}{2}\\right)} x^{\\frac{n}{2}-1} e^{-\\frac{x}{2}}\n",
    "$$\n",
    "\n",
    "Dove $\\Gamma(\\cdot)$ è la funzione gamma.\n",
    "\n",
    "**Media:**\n",
    "\n",
    "$$\n",
    "E[X]=n\n",
    "$$\n",
    "\n",
    "**Varianza:**\n",
    "\n",
    "$$\n",
    "VAR(X)=2n\n",
    "$$\n",
    "\n",
    "I parametri della distribuzione del chi quadro sono quindi espressi in termini dei gradi di libertà anziché media e deviazione standard."
   ]
  }
 ],
 "metadata": {
  "kernelspec": {
   "display_name": "Python 3",
   "language": "python",
   "name": "python3"
  },
  "language_info": {
   "codemirror_mode": {
    "name": "ipython",
    "version": 3
   },
   "file_extension": ".py",
   "mimetype": "text/x-python",
   "name": "python",
   "nbconvert_exporter": "python",
   "pygments_lexer": "ipython3",
   "version": "3.11.3"
  }
 },
 "nbformat": 4,
 "nbformat_minor": 2
}
