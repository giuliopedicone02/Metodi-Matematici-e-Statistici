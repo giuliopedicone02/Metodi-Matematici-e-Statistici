{
 "cells": [
  {
   "cell_type": "markdown",
   "metadata": {},
   "source": [
    "# Distribuzione Esponenziale"
   ]
  },
  {
   "cell_type": "markdown",
   "metadata": {},
   "source": [
    "La distribuzione esponenziale viene utilizzata per descrivere tempi di guasto di tipo accidentale, cioè non dovuti ad effetto di rodaggio o di invecchiamento.\n",
    "Si tratta del periodo di vita intermedio di un dispositivo.\n",
    "\n",
    "Sia **λ** il tasso di arrivo degli eventi (anche detto tasso di intensità) nell'intervallo di tempo.\n",
    "\n",
    "**Funzione di densità di probabilità (PDF)** \n",
    "$$\n",
    "f(x) = \\begin{cases} \n",
    "      \\lambda e^{-\\lambda x} & \\text{se } x \\geq 0 \\\\\n",
    "      0 & \\text{altrimenti}\n",
    "   \\end{cases}\n",
    "\n",
    "$$\n",
    "\n",
    "**Funzione di ripartizione (CDF)**\n",
    "$$\n",
    "F(x) = \\begin{cases} \n",
    "      1 - e^{-\\lambda x} & \\text{se } x \\geq 0 \\\\\n",
    "      0 & \\text{se } x < 0\n",
    "   \\end{cases}\n",
    "\n",
    "$$\n",
    "\n",
    "**Media:**\n",
    "\n",
    "$$\n",
    "E[X]=\\frac{1}{\\lambda}\n",
    "$$\n",
    "\n",
    "**Varianza:**\n",
    "\n",
    "$$\n",
    "VAR(X)=\\frac{1}{\\lambda^2}\n",
    "$$\n"
   ]
  }
 ],
 "metadata": {
  "kernelspec": {
   "display_name": "Python 3",
   "language": "python",
   "name": "python3"
  },
  "language_info": {
   "codemirror_mode": {
    "name": "ipython",
    "version": 3
   },
   "file_extension": ".py",
   "mimetype": "text/x-python",
   "name": "python",
   "nbconvert_exporter": "python",
   "pygments_lexer": "ipython3",
   "version": "3.11.3"
  }
 },
 "nbformat": 4,
 "nbformat_minor": 2
}
