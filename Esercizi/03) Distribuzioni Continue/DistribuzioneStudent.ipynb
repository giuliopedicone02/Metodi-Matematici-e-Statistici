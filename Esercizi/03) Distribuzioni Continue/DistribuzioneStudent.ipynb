{
 "cells": [
  {
   "cell_type": "markdown",
   "metadata": {},
   "source": [
    "# Distribuzione di Student"
   ]
  },
  {
   "cell_type": "markdown",
   "metadata": {},
   "source": [
    "La distribuzione di Student, anche conosciuta come t di Student, è una distribuzione di probabilità continua utilizzata principalmente in inferenza statistica per la costruzione di intervalli di confidenza e per il test delle ipotesi sulla media di una popolazione quando la dimensione del campione è limitata e/o la deviazione standard della popolazione è sconosciuta. \n",
    "\n",
    "Scriviamo:\n",
    "\n",
    "$$\n",
    "X \\sim t(n)\n",
    "$$\n",
    "\n",
    "Dove:\n",
    "\n",
    "- $X$: la variabile aleatoria che segue la distribuzione di Student,\n",
    "- $n$: i gradi di libertà della distribuzione.\n",
    "\n",
    "**Funzione di densità di probabilità (PDF)** \n",
    "\n",
    "$$\n",
    "f(x) = \\frac{\\Gamma\\left(\\frac{n+1}{2}\\right)}{\\sqrt{n\\pi}\\Gamma\\left(\\frac{n}{2}\\right) \\left(1 + \\frac{x^2}{n}\\right)^{\\frac{n+1}{2}}}\n",
    "$$\n",
    "\n",
    "Dove $\\Gamma(\\cdot)$ è la funzione gamma.\n",
    "\n",
    "**Media:**\n",
    "\n",
    "$$\n",
    "E[X]=0 \\text{ se } n > 1\n",
    "$$\n",
    "\n",
    "**Varianza:**\n",
    "\n",
    "$$\n",
    "VAR(X)=\\frac{n}{n-2} \\text{ se } n > 2\n",
    "$$\n",
    "\n",
    "La distribuzione di Student è quindi caratterizzata dai suoi gradi di libertà anziché media e deviazione standard."
   ]
  }
 ],
 "metadata": {
  "language_info": {
   "name": "python"
  }
 },
 "nbformat": 4,
 "nbformat_minor": 2
}
