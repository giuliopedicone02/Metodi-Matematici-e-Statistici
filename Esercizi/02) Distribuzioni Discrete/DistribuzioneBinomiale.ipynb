{
 "cells": [
  {
   "cell_type": "markdown",
   "metadata": {},
   "source": [
    "# Distribuzione Binomiale"
   ]
  },
  {
   "cell_type": "markdown",
   "metadata": {},
   "source": [
    "Descrive un fenomeno che avviene secondo uno schema successo-insuccesso in cui si ripetono n prove indipendenti con due soli esiti.\n",
    "\n",
    "Esempio: \"Lancio di una moneta\"\n",
    "\n",
    "Siano:\n",
    "- **n**: Numero di prove\n",
    "- **k**: Numero di successi\n",
    "- **p**: Probabilità di successo nella singola prova\n",
    "- **q**: Probabilità di insuccesso nella singola prova (1-p)\n",
    "- **X**: Variabile aleatoria che conta i successi\n",
    "- **P(X=k)**: Probabilità da valutare\n",
    "\n",
    "\n",
    "$$\n",
    "\\text{P}(k) = \\binom{n}{k} \\cdot p^k \\cdot (1-p)^{n-k}\n",
    "$$\n",
    "\n",
    "\n",
    "Media:\n",
    "\n",
    "$$\n",
    "E[X]=n \\cdot p\n",
    "$$\n",
    "\n",
    "Varianza:\n",
    "\n",
    "$$\n",
    "VAR(X)=n \\cdot p \\cdot (1-p)\n",
    "$$"
   ]
  },
  {
   "cell_type": "markdown",
   "metadata": {},
   "source": [
    "# Esercizio\n",
    "\n",
    "Una ditta produce lampadine, di cui il 5% risulta difettoso, e le vende in confezioni da quattro.\n",
    "\n",
    "1) Qual è la probabilità che in una confezione ci sia una sola lampadina difettosa?\n",
    "\n",
    "2) Qual è la probabilità che in una confezione ci siano al più due pezzi difettosi?\n",
    "\n",
    "3) Se ogni scatola contiene 40 pezzi, quanti pezzi difettosi conterrebbe in media?"
   ]
  },
  {
   "cell_type": "code",
   "execution_count": 36,
   "metadata": {},
   "outputs": [
    {
     "name": "stdout",
     "output_type": "stream",
     "text": [
      "Probabilità che in una confezione ci sia una lampadina difettosa:  0.1715\n"
     ]
    }
   ],
   "source": [
    "import scipy.special as sp\n",
    "\n",
    "# Punto 1\n",
    "\n",
    "p = 5 / 100\n",
    "q = 1 - p\n",
    "\n",
    "n = 4\n",
    "k = 1\n",
    "\n",
    "p_es1 = sp.binom(n, k) * p * q ** (n - k)\n",
    "\n",
    "print(\n",
    "    \"Probabilità che in una confezione ci sia una lampadina difettosa: \",\n",
    "    round(p_es1, 4),\n",
    ")"
   ]
  },
  {
   "cell_type": "code",
   "execution_count": 37,
   "metadata": {},
   "outputs": [
    {
     "name": "stdout",
     "output_type": "stream",
     "text": [
      "Probabilità che in una confezione ci sia una lampadina difettosa:  0.1715\n"
     ]
    }
   ],
   "source": [
    "from scipy.stats import binom\n",
    "\n",
    "# Punto 1 - Alternativa\n",
    "\n",
    "p_es1 = binom.pmf(k, n, p)\n",
    "\n",
    "print(\n",
    "    \"Probabilità che in una confezione ci sia una lampadina difettosa: \",\n",
    "    round(p_es1, 4),\n",
    ")"
   ]
  },
  {
   "cell_type": "code",
   "execution_count": 38,
   "metadata": {},
   "outputs": [
    {
     "name": "stdout",
     "output_type": "stream",
     "text": [
      "Probabilità che in una confezione ci siano al più due pezzi difettosi:  0.9995\n"
     ]
    }
   ],
   "source": [
    "# Punto 2\n",
    "\n",
    "p0 = sp.binom(4, 0) * pow(q, 4)\n",
    "p1 = sp.binom(4, 1) * p * pow(q, 3)\n",
    "p2 = sp.binom(4, 2) * pow(p, 2) * pow(q, 2)\n",
    "\n",
    "p_es2 = p0 + p1 + p2\n",
    "\n",
    "print(\n",
    "    \"Probabilità che in una confezione ci siano al più due pezzi difettosi: \",\n",
    "    round(p_es2, 4),\n",
    ")"
   ]
  },
  {
   "cell_type": "code",
   "execution_count": 39,
   "metadata": {},
   "outputs": [
    {
     "name": "stdout",
     "output_type": "stream",
     "text": [
      "Probabilità che in una confezione ci siano al più due pezzi difettosi:  0.9995\n"
     ]
    }
   ],
   "source": [
    "# Punto 2 - Alternativa\n",
    "\n",
    "p_es2 = binom.pmf(0, 4, p) + binom.pmf(1, 4, p) + binom.pmf(2, 4, p)\n",
    "\n",
    "print(\n",
    "    \"Probabilità che in una confezione ci siano al più due pezzi difettosi: \",\n",
    "    round(p_es2, 4),\n",
    ")"
   ]
  },
  {
   "cell_type": "code",
   "execution_count": 40,
   "metadata": {},
   "outputs": [
    {
     "name": "stdout",
     "output_type": "stream",
     "text": [
      "Media di pezzi difettosi in una scatola di 40 pezzi:  2.0\n"
     ]
    }
   ],
   "source": [
    "# Punto 3\n",
    "\n",
    "media = 40 * p\n",
    "\n",
    "print(\"Media di pezzi difettosi in una scatola di 40 pezzi: \", media)"
   ]
  }
 ],
 "metadata": {
  "kernelspec": {
   "display_name": "Python 3",
   "language": "python",
   "name": "python3"
  },
  "language_info": {
   "codemirror_mode": {
    "name": "ipython",
    "version": 3
   },
   "file_extension": ".py",
   "mimetype": "text/x-python",
   "name": "python",
   "nbconvert_exporter": "python",
   "pygments_lexer": "ipython3",
   "version": "3.11.3"
  }
 },
 "nbformat": 4,
 "nbformat_minor": 2
}
