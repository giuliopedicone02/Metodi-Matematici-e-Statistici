{
 "cells": [
  {
   "cell_type": "markdown",
   "metadata": {},
   "source": [
    "# Distribuzione Uniforme"
   ]
  },
  {
   "cell_type": "markdown",
   "metadata": {},
   "source": [
    "La distribuzione uniforme è un modello statistico in cui ogni valore all'interno di un intervallo ha la stessa probabilità di essere estratto. È utilizzata in simulazioni, campionamento casuale, generazione di numeri casuali e altri contesti in cui è necessario trattare con eventi casuali in modo equo.\n",
    "\n",
    "Siano:\n",
    "- **a** e **b** sono i limiti inferiore e superiore dell'intervallo rispettivamente.\n",
    "\n",
    "**Funzione di densità di probabilità (PDF)** \n",
    "$$\n",
    "f(x) = \\begin{cases} \n",
    "      \\frac{1}{b - a} & \\text{se } a \\leq x \\leq b \\\\\n",
    "      0 & \\text{altrimenti}\n",
    "   \\end{cases}\n",
    "\n",
    "$$\n",
    "\n",
    "\n",
    "**Media:**\n",
    "\n",
    "$$\n",
    "E[X]=\\frac{a + b}{2}\n",
    "$$\n",
    "\n",
    "**Varianza:**\n",
    "\n",
    "$$\n",
    "VAR(X)=\\frac{(b - a)^2}{12}\n",
    "$$"
   ]
  }
 ],
 "metadata": {
  "kernelspec": {
   "display_name": "Python 3",
   "language": "python",
   "name": "python3"
  },
  "language_info": {
   "codemirror_mode": {
    "name": "ipython",
    "version": 3
   },
   "file_extension": ".py",
   "mimetype": "text/x-python",
   "name": "python",
   "nbconvert_exporter": "python",
   "pygments_lexer": "ipython3",
   "version": "3.11.3"
  }
 },
 "nbformat": 4,
 "nbformat_minor": 2
}
