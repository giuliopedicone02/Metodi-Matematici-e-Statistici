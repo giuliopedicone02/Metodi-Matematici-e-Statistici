{
 "cells": [
  {
   "cell_type": "markdown",
   "metadata": {},
   "source": [
    "# Distribuzione Ipergeometrica"
   ]
  },
  {
   "cell_type": "markdown",
   "metadata": {},
   "source": [
    "Viene utilizzata in situazioni del tipo estrazioni da un'urna senza rimpiazzo. L'estrazione è influenzata da quelle precedenti.\n",
    "\n",
    "Siano:\n",
    "- **b**: Palline bianche uguali\n",
    "- **r**: Palline rosse uguali\n",
    "- **n**: Numero di palline estratte senza rimpiazzo (n<=b+r)\n",
    "- **X**: Variabile aleatoria che conta i successi\n",
    "- **P(X=k)**: Probabilità da valutare\n",
    "\n",
    "In quanti modi si possono scegliere k palline bianche dalle b bianche?\n",
    "\n",
    "$$\n",
    "\\binom{b}{k}\n",
    "$$\n",
    "\n",
    "In quanti modi si possono scegliere n-k palline bianche dalle r rosse?\n",
    "\n",
    "$$\n",
    "\\binom{r}{n-k}\n",
    "$$\n",
    "\n",
    "In quanti modi si possono scegliere n palline bianche dalle b+r totali?\n",
    "\n",
    "$$\n",
    "\\binom{b+r}{n}\n",
    "$$\n",
    "\n",
    "Probabilità:\n",
    "$$\n",
    "\\text{P}(k) = \\frac{\\binom{b}{k} \\cdot \\binom{r}{n-k}}{\\binom{b+r}{n}}\n",
    "$$\n",
    "\n",
    "\n",
    "Media:\n",
    "\n",
    "$$\n",
    "E[X]=n \\cdot \\frac{b}{b+r}\n",
    "$$\n",
    "\n",
    "Varianza:\n",
    "\n",
    "$$\n",
    "VAR(X)=n \\cdot \\frac{br}{(b+r)^2} \\cdot \\frac{b+r-n}{b+r-1}\n",
    "$$"
   ]
  },
  {
   "cell_type": "markdown",
   "metadata": {},
   "source": [
    "# Esercizio\n",
    "\n",
    "La memoria di un computer è composta da 30 hard disk, ognuno dei quali contiene 100 file. Un programma dovrà accedere a 28 di questi file (tutti diversi)\n",
    "\n",
    "1) Qual è la probabilità che non ci siano file provenienti dall'hard disk n°1?\n",
    "\n",
    "2) Qual è la probabilità del punto 1 nel caso in cui i file possano ripetersi?"
   ]
  },
  {
   "cell_type": "code",
   "execution_count": 1,
   "metadata": {},
   "outputs": [
    {
     "name": "stdout",
     "output_type": "stream",
     "text": [
      "Probabilità che non ci siano file provenienti dall'hard disk 1:  0.385\n"
     ]
    }
   ],
   "source": [
    "from scipy.special import binom\n",
    "\n",
    "# Punto 1\n",
    "\n",
    "b = 100\n",
    "r = 2900\n",
    "n = 28\n",
    "\n",
    "p_es1 = binom(b, 0) * binom(r, n) / binom(b + r, n)\n",
    "\n",
    "print(\n",
    "    \"Probabilità che non ci siano file provenienti dall'hard disk 1: \",\n",
    "    round(p_es1, 3),\n",
    ")"
   ]
  },
  {
   "cell_type": "code",
   "execution_count": 2,
   "metadata": {},
   "outputs": [
    {
     "name": "stdout",
     "output_type": "stream",
     "text": [
      "Probabilità nel caso in cui i file possano ripetersi:  0.387\n"
     ]
    }
   ],
   "source": [
    "# Punto 2 (X segue una legge binomiale)\n",
    "\n",
    "p_es2 = binom(n, 0) * pow(1 / 30, 0) * pow(1 - 1 / 30, 28)\n",
    "\n",
    "print(\n",
    "    \"Probabilità nel caso in cui i file possano ripetersi: \",\n",
    "    round(p_es2, 3),\n",
    ")"
   ]
  }
 ],
 "metadata": {
  "kernelspec": {
   "display_name": "Python 3",
   "language": "python",
   "name": "python3"
  },
  "language_info": {
   "codemirror_mode": {
    "name": "ipython",
    "version": 3
   },
   "file_extension": ".py",
   "mimetype": "text/x-python",
   "name": "python",
   "nbconvert_exporter": "python",
   "pygments_lexer": "ipython3",
   "version": "3.11.3"
  }
 },
 "nbformat": 4,
 "nbformat_minor": 2
}
