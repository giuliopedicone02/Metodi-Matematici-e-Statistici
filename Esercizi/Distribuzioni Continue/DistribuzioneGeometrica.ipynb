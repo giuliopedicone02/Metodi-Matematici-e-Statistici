{
 "cells": [
  {
   "cell_type": "markdown",
   "metadata": {},
   "source": [
    "# Distribuzione Geometrica"
   ]
  },
  {
   "cell_type": "markdown",
   "metadata": {},
   "source": [
    "La distribuzione geometrica descrive il numero di insuccessi necessari affinché si verifichi il primo successo in una successione di esperimenti bernoulliani indipendenti e identicamente distribuiti.\n",
    "\n",
    "La mancanza di memoria è una proprietà caratteristica della distribuzione geometrica. La mancanza di memoria esprime il fatto che una variabile di quei due tipi non \"ricorda il passato\" ma si comporta come se fosse \"nuova\".\n",
    "\n",
    "Probabilità:\n",
    "$$\n",
    "P(X=k) =  p \\cdot (1-p)^{k-1} \n",
    "$$\n",
    "\n",
    "Media:\n",
    "\n",
    "$$\n",
    "E[X]=\\frac{1}{p}\n",
    "$$\n",
    "\n",
    "Varianza:\n",
    "\n",
    "$$\n",
    "VAR(X)=\\frac{1-p}{p^2}\n",
    "$$"
   ]
  },
  {
   "cell_type": "markdown",
   "metadata": {},
   "source": [
    "# Esercizio\n",
    "\n",
    "Lancio di un dado non truccato\n",
    "\n",
    "1) Qual è la probabilità che esca 6 per la prima volta esattamente al terzo lancio?\n",
    "\n",
    "2) Sapendo che nei primi 3 lanci non si è avuto alcun 6, qual è la probabilità che esca 6 per la prima volta al quinto tentativo?"
   ]
  },
  {
   "cell_type": "code",
   "execution_count": 3,
   "metadata": {},
   "outputs": [
    {
     "name": "stdout",
     "output_type": "stream",
     "text": [
      "Probabilità che esca 6 al terzo lancio:  0.116\n"
     ]
    }
   ],
   "source": [
    "# Punto 1\n",
    "\n",
    "p = 1 / 6\n",
    "k = 3\n",
    "\n",
    "p_es1 = p * (1 - p) ** (k - 1)\n",
    "\n",
    "print(\n",
    "    \"Probabilità che esca 6 al terzo lancio: \",\n",
    "    round(p_es1, 3),\n",
    ")"
   ]
  },
  {
   "cell_type": "code",
   "execution_count": 4,
   "metadata": {},
   "outputs": [
    {
     "name": "stdout",
     "output_type": "stream",
     "text": [
      "Probabilità che esca 6 al quinto tentativo:  0.139\n"
     ]
    }
   ],
   "source": [
    "# Punto 2 (Proprietà di mancanza di memoria)\n",
    "\n",
    "k = 2\n",
    "\n",
    "p_es2 = p * (1 - p) ** (k - 1)\n",
    "\n",
    "print(\n",
    "    \"Probabilità che esca 6 al quinto tentativo: \",\n",
    "    round(p_es2, 3),\n",
    ")"
   ]
  }
 ],
 "metadata": {
  "kernelspec": {
   "display_name": "Python 3",
   "language": "python",
   "name": "python3"
  },
  "language_info": {
   "codemirror_mode": {
    "name": "ipython",
    "version": 3
   },
   "file_extension": ".py",
   "mimetype": "text/x-python",
   "name": "python",
   "nbconvert_exporter": "python",
   "pygments_lexer": "ipython3",
   "version": "3.11.3"
  }
 },
 "nbformat": 4,
 "nbformat_minor": 2
}
