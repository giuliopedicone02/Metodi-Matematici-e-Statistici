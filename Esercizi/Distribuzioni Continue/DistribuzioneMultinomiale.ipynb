{
 "cells": [
  {
   "cell_type": "markdown",
   "metadata": {},
   "source": [
    "# Distribuzione Multinomiale"
   ]
  },
  {
   "cell_type": "markdown",
   "metadata": {},
   "source": [
    "La distribuzione multinomiale è una generalizzazione della distribuzione binomiale, utilizzata quando ci sono più di due possibili esiti (o categorie) per ogni singola prova. In una distribuzione multinomiale, ciascuna prova può cadere in una delle k categorie con probabilità p1, p2, ..., pk, dove p1 + p2 + ... + pk = 1 . \n",
    "\n",
    "La probabilità di ottenere un vettore di conteggi x1, x2, ..., xk, dove xi  è il numero di volte che l'evento della categoria  i  si verifica, è data da:\n",
    "\n",
    "\n",
    "dove:\n",
    "- **n**:  è il numero totale di prove.\n",
    "- **xi**: è il numero di volte che l'evento della categoria i si verifica.\n",
    "- **pi**:  è la probabilità di ottenere l'evento della categoria i.\n",
    "\n",
    "Probabilità:\n",
    "$$\n",
    "P(X_1 = x_1, X_2 = x_2, \\ldots, X_k = x_k) = \\frac{n!}{x_1! \\cdot x_2! \\cdot \\ldots \\cdot x_k!} \\cdot p_1^{x_1} \\cdot p_2^{x_2} \\cdot \\ldots \\cdot p_k^{x_k}\n",
    "$$"
   ]
  },
  {
   "cell_type": "markdown",
   "metadata": {},
   "source": [
    "# Esercizio\n",
    "\n",
    "Calcolare la probabilità che lanciando un dado non truccato quattro volte, esca tre volte 6 ed una volta 2"
   ]
  },
  {
   "cell_type": "code",
   "execution_count": 3,
   "metadata": {},
   "outputs": [
    {
     "name": "stdout",
     "output_type": "stream",
     "text": [
      "Probabilità che lanciando un dado non truccato quattro volte, esca tre volte 6 ed una volta 2:  0.003\n"
     ]
    }
   ],
   "source": [
    "# Il fenomeno segue la legge multinomiale B(4, 1/6, 1/6, 1/6, 1/6, 1/6, 1/6)\n",
    "# P(Y=(0, 1, 0, 0, 0, 3))\n",
    "\n",
    "from scipy.special import binom\n",
    "from math import factorial\n",
    "\n",
    "p = 1 / 6\n",
    "\n",
    "p_es1 = (factorial(4) / factorial(3)) * (p**4)\n",
    "\n",
    "print(\n",
    "    \"Probabilità che lanciando un dado non truccato quattro volte, esca tre volte 6 ed una volta 2: \",\n",
    "    round(p_es1, 3),\n",
    ")"
   ]
  }
 ],
 "metadata": {
  "kernelspec": {
   "display_name": "Python 3",
   "language": "python",
   "name": "python3"
  },
  "language_info": {
   "codemirror_mode": {
    "name": "ipython",
    "version": 3
   },
   "file_extension": ".py",
   "mimetype": "text/x-python",
   "name": "python",
   "nbconvert_exporter": "python",
   "pygments_lexer": "ipython3",
   "version": "3.11.3"
  }
 },
 "nbformat": 4,
 "nbformat_minor": 2
}
