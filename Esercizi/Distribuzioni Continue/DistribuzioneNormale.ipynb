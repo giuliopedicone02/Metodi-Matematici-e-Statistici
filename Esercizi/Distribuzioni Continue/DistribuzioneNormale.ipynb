{
 "cells": [
  {
   "cell_type": "markdown",
   "metadata": {},
   "source": [
    "# Distribuzione Normale"
   ]
  },
  {
   "cell_type": "markdown",
   "metadata": {},
   "source": [
    "La distribuzione normale, o gaussiana, è fondamentale in statistica e probabilità per modellare una vasta gamma di fenomeni naturali e artificiali. È utilizzata in analisi statistica, processi di controllo di qualità, finanza, ingegneria e altri campi, poiché approssima molte distribuzioni di dati reali ed è descritta da proprietà ben definite come media e deviazione standard.\n",
    "\n",
    "In tal caso scriviamo:\n",
    "\n",
    "$$\n",
    "X \\sim \\mathcal{N}(\\mu, \\sigma^2)\n",
    "$$\n",
    "\n",
    "Dove:\n",
    "\n",
    "- $x$: la variabile aleatoria,\n",
    "- $\\mu$: la media della distribuzione,\n",
    "- $\\sigma$: la deviazione standard.\n",
    "\n",
    "\n",
    "**Funzione di densità di probabilità (PDF)** \n",
    "\n",
    "$$\n",
    "f(x) = \\frac{1}{\\sqrt{2\\pi}\\sigma} \\cdot e^{-\\frac{(x-\\mu)^2}{2\\sigma^2}}\n",
    "$$\n",
    "\n",
    "\n",
    "**Media:**\n",
    "\n",
    "$$\n",
    "E[X]=\\mu\n",
    "$$\n",
    "\n",
    "**Varianza:**\n",
    "\n",
    "$$\n",
    "VAR(X)=\\sigma^2\n",
    "$$"
   ]
  },
  {
   "cell_type": "markdown",
   "metadata": {},
   "source": [
    "## Distribuzione Normale Standard"
   ]
  },
  {
   "cell_type": "markdown",
   "metadata": {},
   "source": [
    "Si denota con:\n",
    "\n",
    "$$\n",
    "X \\sim \\mathcal{N}(0,1)\n",
    "$$\n",
    "\n",
    "**Funzione di densità di probabilità (PDF)** \n",
    "\n",
    "$$\n",
    "f(x) = \\frac{1}{\\sqrt{2\\pi}} \\cdot e^{-\\frac{x^2}{2}}\n",
    "$$"
   ]
  },
  {
   "cell_type": "markdown",
   "metadata": {},
   "source": [
    "# Esercizio\n",
    "\n",
    "Un lago riceve acqua da due immissari ed alimenta un emissario. Misurando la portata in base alla variazione dell'acqua, i due immissari immettono con legge X1 ⁓ N(1,1) ed X2 ⁓ N(2,2), mentre l'emissario viene alimentato con legge X3 ⁓ N(3/2,3).\n",
    "\n",
    "1) Si determini la legge seguita dall'altezza dell'acqua\n",
    "2) Qual è la probabilità che la quota superi il livello di guardia pari a 2?\n",
    "3) Qual è la probabilità che la quota sia inferiore a 0.5"
   ]
  },
  {
   "cell_type": "code",
   "execution_count": 15,
   "metadata": {},
   "outputs": [
    {
     "name": "stdout",
     "output_type": "stream",
     "text": [
      "La legge seguita dall'altezza dell'acqua è X ~ N(1.5, 6)\n"
     ]
    }
   ],
   "source": [
    "from scipy.stats import norm\n",
    "from math import sqrt\n",
    "\n",
    "# Punto 1\n",
    "\n",
    "# Medie\n",
    "e1 = 1\n",
    "e2 = 2\n",
    "e3 = 3/2\n",
    "\n",
    "# Varianze\n",
    "v1 = 1\n",
    "v2 = 2\n",
    "v3 = 3\n",
    "\n",
    "media = e1 + e2 - e3\n",
    "varianza = v1 + v2 + v3\n",
    "\n",
    "print(\"La legge seguita dall'altezza dell'acqua è X ~ N({}, {})\".format(media, varianza))"
   ]
  },
  {
   "cell_type": "code",
   "execution_count": 16,
   "metadata": {},
   "outputs": [
    {
     "name": "stdout",
     "output_type": "stream",
     "text": [
      "Probabilità che la quota superi il livello di guardia pari a 2:  0.42\n"
     ]
    }
   ],
   "source": [
    "\"\"\"\n",
    "    x: rappresenta il valore o i valori per i quali si desidera calcolare la funzione di densità di probabilità \n",
    "    loc: media\n",
    "    scale: deviazione standard\n",
    "\n",
    "    norm.pdf(x,loc,scale): Ritorna la probabilità che una variabile casuale X assuma un valore specifico x. La PDF è utilizzata quando siamo interessati al risultato esatto.\n",
    "    norm.cdf(x,loc,scale): Ritorna la probabilità che una variabile casuale X sia minore o uguale a un valore specifico x. La CDF è utilizzata quando siamo interessati alla probabilità cumulativa fino a un certo punto.\n",
    "\"\"\"\n",
    "\n",
    "# Punto 2\n",
    "\n",
    "punto2 = 1 - norm.cdf(2, media, sqrt(varianza))\n",
    "\n",
    "print(\n",
    "    \"Probabilità che la quota superi il livello di guardia pari a 2: \",\n",
    "    round(punto2, 2),\n",
    ")"
   ]
  },
  {
   "cell_type": "code",
   "execution_count": 17,
   "metadata": {},
   "outputs": [
    {
     "name": "stdout",
     "output_type": "stream",
     "text": [
      "Probabilità che la quota sia inferiore a 0.5:  0.34\n"
     ]
    }
   ],
   "source": [
    "# Punto 3\n",
    "\n",
    "punto3 = norm.cdf(0.5, media, sqrt(varianza))\n",
    "\n",
    "print(\n",
    "    \"Probabilità che la quota sia inferiore a 0.5: \",\n",
    "    round(punto3, 2),\n",
    ")"
   ]
  }
 ],
 "metadata": {
  "kernelspec": {
   "display_name": "Python 3",
   "language": "python",
   "name": "python3"
  },
  "language_info": {
   "codemirror_mode": {
    "name": "ipython",
    "version": 3
   },
   "file_extension": ".py",
   "mimetype": "text/x-python",
   "name": "python",
   "nbconvert_exporter": "python",
   "pygments_lexer": "ipython3",
   "version": "3.11.3"
  }
 },
 "nbformat": 4,
 "nbformat_minor": 2
}
