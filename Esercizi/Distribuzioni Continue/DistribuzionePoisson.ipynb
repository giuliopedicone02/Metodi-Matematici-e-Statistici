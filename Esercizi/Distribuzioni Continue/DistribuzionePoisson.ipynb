{
 "cells": [
  {
   "cell_type": "markdown",
   "metadata": {},
   "source": [
    "# Distribuzione Poisson"
   ]
  },
  {
   "cell_type": "markdown",
   "metadata": {},
   "source": [
    "La distribuzione di Poisson si utilizza quando in uno schema successo-insuccesso si ha un alto numero di prove con una probabilità base di successo in ogni singola prova.\n",
    "\n",
    "Probabilità:\n",
    "$$\n",
    "P(X=k) = e^{-\\lambda} \\cdot \\frac{\\lambda^k}{k!}\n",
    "$$\n",
    "\n",
    "Media:\n",
    "\n",
    "$$\n",
    "E[X]=\\lambda\n",
    "$$\n",
    "\n",
    "Varianza:\n",
    "\n",
    "$$\n",
    "VAR(X)=\\lambda\n",
    "$$"
   ]
  },
  {
   "cell_type": "markdown",
   "metadata": {},
   "source": [
    "# Esercizio\n",
    "\n",
    "In un libro di 500 pagine sono distribuiti a caso 300 errori di stampa\n",
    "\n",
    "Qual è la probabilità che una data pagina contenga almeno due errori?"
   ]
  },
  {
   "cell_type": "code",
   "execution_count": 3,
   "metadata": {},
   "outputs": [
    {
     "name": "stdout",
     "output_type": "stream",
     "text": [
      "Probabilità che una data pagina contenga almeno due errori:  0.122\n"
     ]
    }
   ],
   "source": [
    "from math import e\n",
    "from math import factorial\n",
    "\n",
    "n = 300\n",
    "p = 1 / 500\n",
    "lmd = n * p  #lambda\n",
    "\n",
    "p0 = e ** (-lmd) * ((lmd**0) / (factorial(0)))\n",
    "p1 = e ** (-lmd) * ((lmd**1) / (factorial(1)))\n",
    "\n",
    "p_es1 = 1 - p0 - p1\n",
    "\n",
    "print(\n",
    "    \"Probabilità che una data pagina contenga almeno due errori: \",\n",
    "    round(p_es1, 3),\n",
    ")"
   ]
  }
 ],
 "metadata": {
  "kernelspec": {
   "display_name": "Python 3",
   "language": "python",
   "name": "python3"
  },
  "language_info": {
   "codemirror_mode": {
    "name": "ipython",
    "version": 3
   },
   "file_extension": ".py",
   "mimetype": "text/x-python",
   "name": "python",
   "nbconvert_exporter": "python",
   "pygments_lexer": "ipython3",
   "version": "3.11.3"
  }
 },
 "nbformat": 4,
 "nbformat_minor": 2
}
