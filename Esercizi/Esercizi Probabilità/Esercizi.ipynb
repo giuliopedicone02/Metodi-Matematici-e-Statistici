{
 "cells": [
  {
   "cell_type": "markdown",
   "metadata": {},
   "source": [
    "# Esercizi proposti dal docente"
   ]
  },
  {
   "cell_type": "markdown",
   "metadata": {},
   "source": [
    "Da un’urna contenente 4 palline bianche e 3 nere si eseguono due estrazioni con rimpiazzo (cioè la \n",
    "pallina estratta viene subito rimessa nell’urna). \n",
    "1) Calcolare la probabilità che le due palline estratte siano del medesimo colore. \n",
    "2) Calcolare la probabilità che almeno una delle due palline estratte sia nera. "
   ]
  },
  {
   "cell_type": "code",
   "execution_count": 11,
   "metadata": {},
   "outputs": [
    {
     "data": {
      "text/plain": [
       "0.510204081632653"
      ]
     },
     "metadata": {},
     "output_type": "display_data"
    },
    {
     "data": {
      "text/plain": [
       "0.6734693877551021"
      ]
     },
     "metadata": {},
     "output_type": "display_data"
    }
   ],
   "source": [
    "# Calcolare la prob che le due palline estratte siano dello stesso colore\n",
    "pb = 4 / 7\n",
    "pn = 3 / 7\n",
    "k = 2\n",
    "\n",
    "punto1 = (pb**2) + (pn**2)\n",
    "display(punto1)\n",
    "\n",
    "# Calcolare la probabilità che almeno una delle due palline sia nera\n",
    "punto2 = 1 - (pb**2)\n",
    "display(punto2)"
   ]
  },
  {
   "cell_type": "markdown",
   "metadata": {},
   "source": [
    "I componenti prodotto da una certa ditta possono presentare due tipo di difetti, con percentuali \n",
    "del 3% e del 7% rispettivamente. I due tipo di difettosità si possono produrre in momenti diversi \n",
    "della produzione per cui si può assumere che le presenze dell’uno o dell’altro siano indipendenti tra \n",
    "loro. \n",
    "1) Qual è la probabilità che un componente presenti entrambi i difetti? \n",
    "2) Qual è la probabilità che un componente sia difettoso (cioè che presenti almeno uno dei due \n",
    "difetti)? \n",
    "3) Qual è la probabilità che il componente presenti il difetto 1, sapendo che esso è difettoso? \n",
    "4) Qual è la probabilità che esso presenti uno solo dei due difetti sapendo che esso è difettoso?"
   ]
  },
  {
   "cell_type": "code",
   "execution_count": null,
   "metadata": {},
   "outputs": [],
   "source": [
    "p1 = 3 / 100\n",
    "p2 = 7 / 100\n",
    "\n",
    "punto1 = p1 * p2\n",
    "display(punto1)\n",
    "\n",
    "punto2 = p1 + p2 - punto1\n",
    "display(punto2)\n",
    "\n",
    "punto3 = p1/punto2\n",
    "display(punto3)"
   ]
  },
  {
   "cell_type": "code",
   "execution_count": null,
   "metadata": {},
   "outputs": [],
   "source": []
  }
 ],
 "metadata": {
  "kernelspec": {
   "display_name": "Python 3",
   "language": "python",
   "name": "python3"
  },
  "language_info": {
   "codemirror_mode": {
    "name": "ipython",
    "version": 3
   },
   "file_extension": ".py",
   "mimetype": "text/x-python",
   "name": "python",
   "nbconvert_exporter": "python",
   "pygments_lexer": "ipython3",
   "version": "3.11.3"
  }
 },
 "nbformat": 4,
 "nbformat_minor": 2
}
