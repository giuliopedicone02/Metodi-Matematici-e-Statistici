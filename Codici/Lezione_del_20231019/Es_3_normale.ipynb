{
 "cells": [
  {
   "cell_type": "code",
   "execution_count": 1,
   "id": "b13b4857",
   "metadata": {},
   "outputs": [],
   "source": [
    "# Esercizio sulla distribuzione normale (vedi appunti blocco 2.2)"
   ]
  },
  {
   "cell_type": "code",
   "execution_count": 2,
   "id": "0090f65b",
   "metadata": {},
   "outputs": [],
   "source": [
    "from scipy.stats import norm\n",
    "import numpy as np"
   ]
  },
  {
   "cell_type": "code",
   "execution_count": 3,
   "id": "4034822f",
   "metadata": {},
   "outputs": [],
   "source": [
    "p2 = 1-norm.cdf(2,3/2,np.sqrt(6))"
   ]
  },
  {
   "cell_type": "code",
   "execution_count": 4,
   "id": "9f7b2273",
   "metadata": {},
   "outputs": [
    {
     "data": {
      "text/plain": [
       "0.4191282431929131"
      ]
     },
     "metadata": {},
     "output_type": "display_data"
    }
   ],
   "source": [
    "display(p2)"
   ]
  },
  {
   "cell_type": "code",
   "execution_count": 7,
   "id": "24faf320",
   "metadata": {},
   "outputs": [],
   "source": [
    "p3 = norm.cdf(0.5,3/2,np.sqrt(6))"
   ]
  },
  {
   "cell_type": "code",
   "execution_count": 8,
   "id": "2de6b8a5",
   "metadata": {},
   "outputs": [
    {
     "data": {
      "text/plain": [
       "0.34154569915480437"
      ]
     },
     "metadata": {},
     "output_type": "display_data"
    }
   ],
   "source": [
    "display(p3)"
   ]
  },
  {
   "cell_type": "code",
   "execution_count": null,
   "id": "38dd8dbc",
   "metadata": {},
   "outputs": [],
   "source": []
  },
  {
   "cell_type": "code",
   "execution_count": null,
   "id": "ea03a1dc",
   "metadata": {},
   "outputs": [],
   "source": []
  }
 ],
 "metadata": {
  "kernelspec": {
   "display_name": "Python 3 (ipykernel)",
   "language": "python",
   "name": "python3"
  },
  "language_info": {
   "codemirror_mode": {
    "name": "ipython",
    "version": 3
   },
   "file_extension": ".py",
   "mimetype": "text/x-python",
   "name": "python",
   "nbconvert_exporter": "python",
   "pygments_lexer": "ipython3",
   "version": "3.9.17"
  }
 },
 "nbformat": 4,
 "nbformat_minor": 5
}
