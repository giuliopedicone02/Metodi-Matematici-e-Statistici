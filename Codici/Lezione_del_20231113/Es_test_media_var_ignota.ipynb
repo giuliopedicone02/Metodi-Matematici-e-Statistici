{
 "cells": [
  {
   "cell_type": "code",
   "execution_count": 12,
   "id": "aacdfda6",
   "metadata": {},
   "outputs": [],
   "source": [
    "# Test sulla media con varianza ingota\n",
    "# Ipotesi nulla         H_0 : mu = mu_0\n",
    "# Ipotesi alternativa   H_1 : mu > mu_0\n",
    "# Test unilatero a destra"
   ]
  },
  {
   "cell_type": "code",
   "execution_count": 2,
   "id": "725626e0",
   "metadata": {},
   "outputs": [],
   "source": [
    "import numpy as np\n",
    "from scipy.stats import t"
   ]
  },
  {
   "cell_type": "code",
   "execution_count": 3,
   "id": "583d7880",
   "metadata": {},
   "outputs": [],
   "source": [
    "X = np.array([19.8, 18.5, 17.6, 16.7, 15.8, 15.4, 14.1, 13.6, 11.9, 11.4,\n",
    "              11.4, 8.8, 7.5, 15.4, 15.4, 19.5, 14.9, 12.7, 11.9, 11.4, 10.1, 7.9])"
   ]
  },
  {
   "cell_type": "code",
   "execution_count": 4,
   "id": "8a9ca83e",
   "metadata": {},
   "outputs": [],
   "source": [
    "n = X.size"
   ]
  },
  {
   "cell_type": "code",
   "execution_count": 5,
   "id": "322e5107",
   "metadata": {},
   "outputs": [],
   "source": [
    "mu = np.mean(X)"
   ]
  },
  {
   "cell_type": "code",
   "execution_count": 6,
   "id": "d8a2c94b",
   "metadata": {},
   "outputs": [],
   "source": [
    "S = np.std(X,ddof=1)"
   ]
  },
  {
   "cell_type": "code",
   "execution_count": 9,
   "id": "2650e721",
   "metadata": {},
   "outputs": [],
   "source": [
    "mu_0 = 10."
   ]
  },
  {
   "cell_type": "code",
   "execution_count": 10,
   "id": "927044c8",
   "metadata": {},
   "outputs": [
    {
     "data": {
      "text/plain": [
       "4.901682101212391"
      ]
     },
     "metadata": {},
     "output_type": "display_data"
    }
   ],
   "source": [
    "T_0 = (mu-mu_0)/S*np.sqrt(n)\n",
    "display(T_0)"
   ]
  },
  {
   "cell_type": "code",
   "execution_count": 13,
   "id": "229bdd30",
   "metadata": {},
   "outputs": [
    {
     "data": {
      "text/plain": [
       "1.7207429028118775"
      ]
     },
     "metadata": {},
     "output_type": "display_data"
    }
   ],
   "source": [
    "alpha = 0.05\n",
    "T = t.ppf(1.-alpha, n-1)\n",
    "display(T)"
   ]
  },
  {
   "cell_type": "code",
   "execution_count": 14,
   "id": "d04c522f",
   "metadata": {},
   "outputs": [],
   "source": [
    "# T_0 è maggiore di T pertanto si rigetta l'ipotesi nulla in favore dell'ipotesi alternativa\n",
    "# affermando che il carico di rottura supera significativamente il valore 10"
   ]
  },
  {
   "cell_type": "code",
   "execution_count": 15,
   "id": "8c7d893c",
   "metadata": {},
   "outputs": [
    {
     "data": {
      "text/plain": [
       "3.781272593450513e-05"
      ]
     },
     "metadata": {},
     "output_type": "display_data"
    }
   ],
   "source": [
    "p = 1.-t.cdf(T_0,n-1)\n",
    "display(p)"
   ]
  },
  {
   "cell_type": "code",
   "execution_count": null,
   "id": "d099608a",
   "metadata": {},
   "outputs": [],
   "source": []
  }
 ],
 "metadata": {
  "kernelspec": {
   "display_name": "Python 3 (ipykernel)",
   "language": "python",
   "name": "python3"
  },
  "language_info": {
   "codemirror_mode": {
    "name": "ipython",
    "version": 3
   },
   "file_extension": ".py",
   "mimetype": "text/x-python",
   "name": "python",
   "nbconvert_exporter": "python",
   "pygments_lexer": "ipython3",
   "version": "3.11.5"
  }
 },
 "nbformat": 4,
 "nbformat_minor": 5
}
