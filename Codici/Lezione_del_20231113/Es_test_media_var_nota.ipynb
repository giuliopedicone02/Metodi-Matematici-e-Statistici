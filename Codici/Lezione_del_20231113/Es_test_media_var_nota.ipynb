{
 "cells": [
  {
   "cell_type": "code",
   "execution_count": 1,
   "id": "1fe71f21",
   "metadata": {},
   "outputs": [],
   "source": [
    "# Test sulla media con varianza nota"
   ]
  },
  {
   "cell_type": "code",
   "execution_count": 11,
   "id": "8ae14bc5",
   "metadata": {},
   "outputs": [],
   "source": [
    "import numpy as np\n",
    "from scipy.stats import norm"
   ]
  },
  {
   "cell_type": "code",
   "execution_count": 12,
   "id": "c5691dd8",
   "metadata": {},
   "outputs": [],
   "source": [
    "X = np.array([51., 50.2, 49.5, 48.7, 50.2, 50.5, 49.6, 51.1, 50.6, 49.1, 53.1, 50.4,\n",
    "              49.3, 48.9, 50.3, 51.8, 51.3, 48.5, 49.3, 55.1, 53.1, 52.5, 55.1, 50.6])"
   ]
  },
  {
   "cell_type": "code",
   "execution_count": 13,
   "id": "5ff88aba",
   "metadata": {},
   "outputs": [],
   "source": [
    "sig = 2.\n",
    "mu_0 = 50."
   ]
  },
  {
   "cell_type": "code",
   "execution_count": 14,
   "id": "7e76a893",
   "metadata": {},
   "outputs": [
    {
     "data": {
      "text/plain": [
       "50.824999999999996"
      ]
     },
     "metadata": {},
     "output_type": "display_data"
    }
   ],
   "source": [
    "mu = np.mean(X)\n",
    "display(mu)"
   ]
  },
  {
   "cell_type": "code",
   "execution_count": 15,
   "id": "2664cccc",
   "metadata": {},
   "outputs": [
    {
     "data": {
      "text/plain": [
       "24"
      ]
     },
     "metadata": {},
     "output_type": "display_data"
    }
   ],
   "source": [
    "n = X.size\n",
    "display(n)"
   ]
  },
  {
   "cell_type": "code",
   "execution_count": 16,
   "id": "843738e5",
   "metadata": {},
   "outputs": [
    {
     "data": {
      "text/plain": [
       "2.020829037796111"
      ]
     },
     "metadata": {},
     "output_type": "display_data"
    }
   ],
   "source": [
    "Z_0 = (mu-mu_0)/sig*np.sqrt(n)\n",
    "display(Z_0)"
   ]
  },
  {
   "cell_type": "code",
   "execution_count": 17,
   "id": "f349c6fd",
   "metadata": {},
   "outputs": [],
   "source": [
    "# Test con livello di significatività del 5%"
   ]
  },
  {
   "cell_type": "code",
   "execution_count": 18,
   "id": "c60127c9",
   "metadata": {},
   "outputs": [
    {
     "data": {
      "text/plain": [
       "1.959963984540054"
      ]
     },
     "metadata": {},
     "output_type": "display_data"
    }
   ],
   "source": [
    "alpha = 0.05\n",
    "PHI = norm.ppf(1.-alpha/2)\n",
    "display(PHI)"
   ]
  },
  {
   "cell_type": "code",
   "execution_count": 19,
   "id": "fbb31b04",
   "metadata": {},
   "outputs": [],
   "source": [
    "# Poiché |Z_0|>PHI si rigetta l'ipotesi nulla\n",
    "# quindi si afferma che il propellente non rispetta le specifiche con una significatività del 5%"
   ]
  },
  {
   "cell_type": "code",
   "execution_count": 20,
   "id": "16c1e6ce",
   "metadata": {},
   "outputs": [],
   "source": [
    "# Test con livello di significatività del 1%"
   ]
  },
  {
   "cell_type": "code",
   "execution_count": 21,
   "id": "219ad298",
   "metadata": {},
   "outputs": [
    {
     "data": {
      "text/plain": [
       "2.5758293035489004"
      ]
     },
     "metadata": {},
     "output_type": "display_data"
    }
   ],
   "source": [
    "alpha = 0.01\n",
    "PHI = norm.ppf(1.-alpha/2)\n",
    "display(PHI)"
   ]
  },
  {
   "cell_type": "code",
   "execution_count": 22,
   "id": "b1b3c221",
   "metadata": {},
   "outputs": [],
   "source": [
    "# Poiché |Z_0|<PHI non abbiamo elementi sufficienti per rigettare l'ipotesi nulla"
   ]
  },
  {
   "cell_type": "code",
   "execution_count": 26,
   "id": "e3589d6c",
   "metadata": {},
   "outputs": [
    {
     "data": {
      "text/plain": [
       "0.04329746577930438"
      ]
     },
     "metadata": {},
     "output_type": "display_data"
    }
   ],
   "source": [
    "# Calcoliamo il p-value\n",
    "p = 2.*(1.-norm.cdf(np.abs(Z_0)))\n",
    "display(p)"
   ]
  },
  {
   "cell_type": "code",
   "execution_count": 51,
   "id": "c252dff4",
   "metadata": {},
   "outputs": [
    {
     "data": {
      "text/plain": [
       "-4.409453727323232"
      ]
     },
     "metadata": {},
     "output_type": "display_data"
    }
   ],
   "source": [
    "# Calcoliamo la dimensione campionaria tramite l'errore di secondo tipo\n",
    "alpha = 0.05\n",
    "beta = 0.1\n",
    "delta = 1\n",
    "\n",
    "PHI = norm.ppf(1.-alpha/2)\n",
    "display(-PHI-delta*np.sqrt(n)/sig)"
   ]
  },
  {
   "cell_type": "code",
   "execution_count": 52,
   "id": "211d4c8a",
   "metadata": {},
   "outputs": [
    {
     "data": {
      "text/plain": [
       "42.029692245762476"
      ]
     },
     "metadata": {},
     "output_type": "display_data"
    }
   ],
   "source": [
    "Dim_camp = (PHI+norm.ppf(1.-beta))**2.*sig**2./delta**2.\n",
    "display(Dim_camp)"
   ]
  },
  {
   "cell_type": "code",
   "execution_count": null,
   "id": "8da70cc7",
   "metadata": {},
   "outputs": [],
   "source": []
  }
 ],
 "metadata": {
  "kernelspec": {
   "display_name": "Python 3 (ipykernel)",
   "language": "python",
   "name": "python3"
  },
  "language_info": {
   "codemirror_mode": {
    "name": "ipython",
    "version": 3
   },
   "file_extension": ".py",
   "mimetype": "text/x-python",
   "name": "python",
   "nbconvert_exporter": "python",
   "pygments_lexer": "ipython3",
   "version": "3.11.5"
  }
 },
 "nbformat": 4,
 "nbformat_minor": 5
}
