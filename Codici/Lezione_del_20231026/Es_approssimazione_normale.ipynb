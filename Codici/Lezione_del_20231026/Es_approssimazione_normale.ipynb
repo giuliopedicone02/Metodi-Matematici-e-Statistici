{
 "cells": [
  {
   "cell_type": "code",
   "execution_count": 1,
   "id": "b3e6d3f5",
   "metadata": {},
   "outputs": [],
   "source": [
    "# Soluzione punto 2 esercizio"
   ]
  },
  {
   "cell_type": "code",
   "execution_count": 5,
   "id": "582948d3",
   "metadata": {},
   "outputs": [],
   "source": [
    "from scipy.stats import norm\n",
    "import numpy as np"
   ]
  },
  {
   "cell_type": "code",
   "execution_count": 6,
   "id": "4223693a",
   "metadata": {},
   "outputs": [],
   "source": [
    "n = 100.\n",
    "p = 1./3.\n",
    "\n",
    "mu = n*p\n",
    "sig = np.sqrt(n*p*(1.-p))"
   ]
  },
  {
   "cell_type": "code",
   "execution_count": 7,
   "id": "7804148f",
   "metadata": {},
   "outputs": [],
   "source": [
    "X_n = 69.5"
   ]
  },
  {
   "cell_type": "code",
   "execution_count": 8,
   "id": "f3ab3546",
   "metadata": {},
   "outputs": [],
   "source": [
    "S_n = (X_n - mu)/sig*np.sqrt(n)"
   ]
  },
  {
   "cell_type": "code",
   "execution_count": 9,
   "id": "0c88c5ac",
   "metadata": {},
   "outputs": [
    {
     "data": {
      "text/plain": [
       "76.72108575874041"
      ]
     },
     "metadata": {},
     "output_type": "display_data"
    }
   ],
   "source": [
    "display(S_n)"
   ]
  },
  {
   "cell_type": "code",
   "execution_count": 12,
   "id": "0c9f6ebb",
   "metadata": {},
   "outputs": [
    {
     "data": {
      "text/plain": [
       "0.0"
      ]
     },
     "metadata": {},
     "output_type": "display_data"
    }
   ],
   "source": [
    "prob = 1.-norm.cdf(S_n)\n",
    "display(prob)"
   ]
  },
  {
   "cell_type": "code",
   "execution_count": 19,
   "id": "3fa0a50b",
   "metadata": {},
   "outputs": [
    {
     "data": {
      "text/plain": [
       "0.9999999999987201"
      ]
     },
     "metadata": {},
     "output_type": "display_data"
    }
   ],
   "source": [
    "a = norm.cdf(7)\n",
    "display(a)"
   ]
  },
  {
   "cell_type": "code",
   "execution_count": null,
   "id": "82748035",
   "metadata": {},
   "outputs": [],
   "source": []
  }
 ],
 "metadata": {
  "kernelspec": {
   "display_name": "Python 3 (ipykernel)",
   "language": "python",
   "name": "python3"
  },
  "language_info": {
   "codemirror_mode": {
    "name": "ipython",
    "version": 3
   },
   "file_extension": ".py",
   "mimetype": "text/x-python",
   "name": "python",
   "nbconvert_exporter": "python",
   "pygments_lexer": "ipython3",
   "version": "3.11.5"
  }
 },
 "nbformat": 4,
 "nbformat_minor": 5
}
