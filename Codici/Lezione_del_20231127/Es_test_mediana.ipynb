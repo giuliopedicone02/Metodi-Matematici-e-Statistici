{
 "cells": [
  {
   "cell_type": "code",
   "execution_count": 1,
   "id": "ca0d88c0",
   "metadata": {},
   "outputs": [],
   "source": [
    "# Test sulla mediana\n",
    "# Ipotesi nulla          H_0 : mu = 2000\n",
    "# Ipotesi alternativa    H_1 : mu <> 2000"
   ]
  },
  {
   "cell_type": "code",
   "execution_count": 32,
   "id": "a7e8a1ec",
   "metadata": {},
   "outputs": [],
   "source": [
    "import numpy as np\n",
    "from scipy.stats import binom"
   ]
  },
  {
   "cell_type": "code",
   "execution_count": 33,
   "id": "91f380f0",
   "metadata": {},
   "outputs": [
    {
     "data": {
      "text/plain": [
       "array([2158.7 , 1678.15, 2316.  , 2061.3 , 2207.5 , 1708.3 , 1784.7 ,\n",
       "       2575.1 , 2357.9 , 2256.7 , 2165.2 , 2399.55, 1779.8 , 2336.75,\n",
       "       1765.3 , 2053.5 , 2414.4 , 2200.5 , 2654.2 , 1753.7 ])"
      ]
     },
     "metadata": {},
     "output_type": "display_data"
    }
   ],
   "source": [
    "X = np.loadtxt('Dataset_motore.dat')\n",
    "display(X)"
   ]
  },
  {
   "cell_type": "code",
   "execution_count": 34,
   "id": "d479bc7f",
   "metadata": {},
   "outputs": [],
   "source": [
    "n = X.size\n",
    "mu0 = 2000."
   ]
  },
  {
   "cell_type": "code",
   "execution_count": 35,
   "id": "54f7ce7e",
   "metadata": {},
   "outputs": [
    {
     "data": {
      "text/plain": [
       "array([ 158.7 , -321.85,  316.  ,   61.3 ,  207.5 , -291.7 , -215.3 ,\n",
       "        575.1 ,  357.9 ,  256.7 ,  165.2 ,  399.55, -220.2 ,  336.75,\n",
       "       -234.7 ,   53.5 ,  414.4 ,  200.5 ,  654.2 , -246.3 ])"
      ]
     },
     "metadata": {},
     "output_type": "display_data"
    }
   ],
   "source": [
    "D = X - mu0\n",
    "display(D)"
   ]
  },
  {
   "cell_type": "code",
   "execution_count": 36,
   "id": "5210fd6a",
   "metadata": {},
   "outputs": [],
   "source": [
    "r_p = D>0\n",
    "r_p = r_p.astype(int)\n",
    "r_p = np.sum(r_p)"
   ]
  },
  {
   "cell_type": "code",
   "execution_count": 37,
   "id": "8cfd0269",
   "metadata": {},
   "outputs": [
    {
     "data": {
      "text/plain": [
       "14"
      ]
     },
     "metadata": {},
     "output_type": "display_data"
    }
   ],
   "source": [
    "# Numero di differenze positive osservate\n",
    "display(r_p)"
   ]
  },
  {
   "cell_type": "code",
   "execution_count": 42,
   "id": "11190b95",
   "metadata": {},
   "outputs": [],
   "source": [
    "# Poiché r_p = 14 > n/2 = 10\n",
    "# Il p-value è 2*P(R+ >= 14), con R+ che segue B(n,1/2)\n",
    "\n",
    "k = range(r_p, n+1)\n",
    "Y = binom.pmf(k, n, 0.5)\n",
    "p_value = 2.*np.sum(Y)"
   ]
  },
  {
   "cell_type": "code",
   "execution_count": 43,
   "id": "1d5968ef",
   "metadata": {},
   "outputs": [
    {
     "data": {
      "text/plain": [
       "0.11531829833984372"
      ]
     },
     "metadata": {},
     "output_type": "display_data"
    }
   ],
   "source": [
    "display(p_value)"
   ]
  },
  {
   "cell_type": "code",
   "execution_count": null,
   "id": "4a7cc3b0",
   "metadata": {},
   "outputs": [],
   "source": [
    "# Poiché il p-value è maggiore della soglia fissata alpha = 0.05\n",
    "# Non abbiamo elementi sufficienti per rigettare H0"
   ]
  }
 ],
 "metadata": {
  "kernelspec": {
   "display_name": "Python 3 (ipykernel)",
   "language": "python",
   "name": "python3"
  },
  "language_info": {
   "codemirror_mode": {
    "name": "ipython",
    "version": 3
   },
   "file_extension": ".py",
   "mimetype": "text/x-python",
   "name": "python",
   "nbconvert_exporter": "python",
   "pygments_lexer": "ipython3",
   "version": "3.11.5"
  }
 },
 "nbformat": 4,
 "nbformat_minor": 5
}
