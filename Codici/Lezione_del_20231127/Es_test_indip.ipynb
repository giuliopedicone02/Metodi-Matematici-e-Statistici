{
 "cells": [
  {
   "cell_type": "code",
   "execution_count": 17,
   "id": "d6fa27cd",
   "metadata": {},
   "outputs": [],
   "source": [
    "# Test del chi-quadro di indipendenza"
   ]
  },
  {
   "cell_type": "code",
   "execution_count": 18,
   "id": "f6533225",
   "metadata": {},
   "outputs": [],
   "source": [
    "import numpy as np\n",
    "from scipy.stats import chi2"
   ]
  },
  {
   "cell_type": "code",
   "execution_count": 19,
   "id": "5281ac44",
   "metadata": {},
   "outputs": [],
   "source": [
    "X = np.array([[44., 10.],[81., 35]])"
   ]
  },
  {
   "cell_type": "code",
   "execution_count": 20,
   "id": "f829c884",
   "metadata": {},
   "outputs": [],
   "source": [
    "n = 170"
   ]
  },
  {
   "cell_type": "code",
   "execution_count": 21,
   "id": "14a37e5b",
   "metadata": {},
   "outputs": [],
   "source": [
    "# Probabilità empiriche di trattamento\n",
    "p = np.array([54., 116.])/n"
   ]
  },
  {
   "cell_type": "code",
   "execution_count": 22,
   "id": "39408702",
   "metadata": {},
   "outputs": [],
   "source": [
    "# Probabilità empiriche di guarigione\n",
    "q = np.array([125., 45.])/n"
   ]
  },
  {
   "cell_type": "code",
   "execution_count": null,
   "id": "6d3f46ac",
   "metadata": {},
   "outputs": [],
   "source": []
  },
  {
   "cell_type": "code",
   "execution_count": 23,
   "id": "3aa00038",
   "metadata": {},
   "outputs": [],
   "source": [
    "# Probabilità congiunta empirica\n",
    "pi = X/n"
   ]
  },
  {
   "cell_type": "code",
   "execution_count": 24,
   "id": "7c4b251f",
   "metadata": {},
   "outputs": [
    {
     "data": {
      "text/plain": [
       "3.0175117739708286"
      ]
     },
     "metadata": {},
     "output_type": "display_data"
    }
   ],
   "source": [
    "T = 0.\n",
    "for h in range(2):\n",
    "    for k in range(2):\n",
    "        T = T + (p[h]*q[k]-pi[h][k])**2./pi[h][k]\n",
    "T = n*T\n",
    "display(T)"
   ]
  },
  {
   "cell_type": "code",
   "execution_count": 26,
   "id": "fa1cc4a1",
   "metadata": {},
   "outputs": [
    {
     "data": {
      "text/plain": [
       "3.841458820694124"
      ]
     },
     "metadata": {},
     "output_type": "display_data"
    }
   ],
   "source": [
    "alpha = 0.05\n",
    "CHI = chi2.ppf(1.-alpha,(2-1)*(2-1))\n",
    "display(CHI)"
   ]
  },
  {
   "cell_type": "code",
   "execution_count": null,
   "id": "a1d1f87e",
   "metadata": {},
   "outputs": [],
   "source": [
    "# Non si può rigettare l'ipotesi nulla.\n",
    "# Questo fa sospettare che ci sia stato un effetto placebo."
   ]
  }
 ],
 "metadata": {
  "kernelspec": {
   "display_name": "Python 3 (ipykernel)",
   "language": "python",
   "name": "python3"
  },
  "language_info": {
   "codemirror_mode": {
    "name": "ipython",
    "version": 3
   },
   "file_extension": ".py",
   "mimetype": "text/x-python",
   "name": "python",
   "nbconvert_exporter": "python",
   "pygments_lexer": "ipython3",
   "version": "3.11.5"
  }
 },
 "nbformat": 4,
 "nbformat_minor": 5
}
