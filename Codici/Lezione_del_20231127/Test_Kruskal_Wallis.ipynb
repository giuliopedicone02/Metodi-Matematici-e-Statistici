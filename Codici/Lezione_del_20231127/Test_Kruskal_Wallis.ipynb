{
 "cells": [
  {
   "cell_type": "code",
   "execution_count": 2,
   "id": "5965e4d0",
   "metadata": {},
   "outputs": [],
   "source": [
    "# Test di Kruskal-Wallis\n",
    "# Ipotesi nulla: Il mescolamento non influisce sulla resistenza alla trazione (mu_1=mu_2=mu_3=mu_4)\n",
    "# Ipotesi alternativa: Il mescolamento influisce sulla resistenza alla trazione"
   ]
  },
  {
   "cell_type": "code",
   "execution_count": 3,
   "id": "3ced1e5c",
   "metadata": {},
   "outputs": [],
   "source": [
    "import numpy as np"
   ]
  },
  {
   "cell_type": "code",
   "execution_count": 11,
   "id": "31c1624d",
   "metadata": {},
   "outputs": [],
   "source": [
    "X_1 = np.array([3129., 3000., 2865., 2890.])\n",
    "X_2 = np.array([3200., 3000., 2975., 3150.])\n",
    "X_3 = np.array([2800., 2900., 2985., 3050.])\n",
    "X_4 = np.array([2600., 2700., 2600., 2765.])"
   ]
  },
  {
   "cell_type": "code",
   "execution_count": 48,
   "id": "4da306ea",
   "metadata": {},
   "outputs": [
    {
     "data": {
      "text/plain": [
       "array([4, 4, 4, 4])"
      ]
     },
     "metadata": {},
     "output_type": "display_data"
    }
   ],
   "source": [
    "m = 4\n",
    "n = np.array([X_1.size, X_2.size, X_3.size, X_4.size])\n",
    "display(n)"
   ]
  },
  {
   "cell_type": "code",
   "execution_count": 49,
   "id": "e5cfc807",
   "metadata": {},
   "outputs": [
    {
     "data": {
      "text/plain": [
       "16"
      ]
     },
     "metadata": {},
     "output_type": "display_data"
    }
   ],
   "source": [
    "N = np.sum(n)\n",
    "display(N)"
   ]
  },
  {
   "cell_type": "code",
   "execution_count": 50,
   "id": "8864638a",
   "metadata": {},
   "outputs": [
    {
     "data": {
      "text/plain": [
       "array([3129., 3000., 2865., 2890., 3200., 3000., 2975., 3150., 2800.,\n",
       "       2900., 2985., 3050., 2600., 2700., 2600., 2765.])"
      ]
     },
     "metadata": {},
     "output_type": "display_data"
    }
   ],
   "source": [
    "Y = np.concatenate([X_1, X_2, X_3, X_4])\n",
    "display(Y)"
   ]
  },
  {
   "cell_type": "code",
   "execution_count": 55,
   "id": "b5a4db60",
   "metadata": {},
   "outputs": [
    {
     "data": {
      "text/plain": [
       "array([14. , 11.5,  6. ,  7. , 16. , 11.5,  9. , 15. ,  5. ,  8. , 10. ,\n",
       "       13. ,  1.5,  3. ,  1.5,  4. ])"
      ]
     },
     "metadata": {},
     "output_type": "display_data"
    }
   ],
   "source": [
    "from scipy.stats import rankdata\n",
    "R = rankdata(Y)\n",
    "display(R)"
   ]
  },
  {
   "cell_type": "code",
   "execution_count": 59,
   "id": "a3398298",
   "metadata": {},
   "outputs": [
    {
     "data": {
      "text/plain": [
       "22.6"
      ]
     },
     "metadata": {},
     "output_type": "display_data"
    }
   ],
   "source": [
    "S2 = (np.sum(R**2.)-N*(N+1)**2./4.) / (N-1)\n",
    "display(S2)"
   ]
  },
  {
   "cell_type": "code",
   "execution_count": 61,
   "id": "83148c52",
   "metadata": {},
   "outputs": [
    {
     "data": {
      "text/plain": [
       "array([38.5, 51.5, 36. , 10. ])"
      ]
     },
     "metadata": {},
     "output_type": "display_data"
    }
   ],
   "source": [
    "RR = np.zeros(m)\n",
    "for i in range(m):\n",
    "    RR[i] = np.sum(R[m*i:m*(i+1)])\n",
    "display(RR)"
   ]
  },
  {
   "cell_type": "code",
   "execution_count": 68,
   "id": "57b36509",
   "metadata": {},
   "outputs": [
    {
     "data": {
      "text/plain": [
       "10.027654867256636"
      ]
     },
     "metadata": {},
     "output_type": "display_data"
    }
   ],
   "source": [
    "H = (np.sum(RR**2. / n)-N*(N+1)**2./4.)/S2\n",
    "display(H)"
   ]
  },
  {
   "cell_type": "code",
   "execution_count": 69,
   "id": "ee5c2389",
   "metadata": {},
   "outputs": [
    {
     "data": {
      "text/plain": [
       "0.35184631774927144"
      ]
     },
     "metadata": {},
     "output_type": "display_data"
    }
   ],
   "source": [
    "from scipy.stats import chi2\n",
    "alpha = 0.05\n",
    "CHI = chi2.ppf(alpha, m-1)\n",
    "display(CHI)"
   ]
  },
  {
   "cell_type": "code",
   "execution_count": null,
   "id": "84d37a35",
   "metadata": {},
   "outputs": [],
   "source": [
    "# Si rigetta H0 in favore di H1"
   ]
  }
 ],
 "metadata": {
  "kernelspec": {
   "display_name": "Python 3 (ipykernel)",
   "language": "python",
   "name": "python3"
  },
  "language_info": {
   "codemirror_mode": {
    "name": "ipython",
    "version": 3
   },
   "file_extension": ".py",
   "mimetype": "text/x-python",
   "name": "python",
   "nbconvert_exporter": "python",
   "pygments_lexer": "ipython3",
   "version": "3.11.5"
  }
 },
 "nbformat": 4,
 "nbformat_minor": 5
}
