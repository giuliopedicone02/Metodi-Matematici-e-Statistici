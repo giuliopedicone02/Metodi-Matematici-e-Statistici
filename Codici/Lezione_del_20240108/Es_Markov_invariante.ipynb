{
 "cells": [
  {
   "cell_type": "code",
   "execution_count": 1,
   "id": "44d93c35",
   "metadata": {},
   "outputs": [],
   "source": [
    "# Determinare la distribuzione stazionaria della matrice assegnata"
   ]
  },
  {
   "cell_type": "code",
   "execution_count": 2,
   "id": "c09ad009",
   "metadata": {},
   "outputs": [],
   "source": [
    "# 1->2, 1->3\n",
    "# 2->2, 2->3\n",
    "# 3->1, 3->3\n",
    "# 1->2->3->1 (per la proprietà transitiva)\n",
    "# Tutti gli stati comunicano tra loro, quindi la catena è irriducibile.\n",
    "# Inoltre p_22>0, p_33>0 e quindi per il criterio di regolarità essa è regolare.\n",
    "# Per il Teorema di Markov la catena ha un'unica distribuzione stazionaria.\n",
    "#\n",
    "# D'altra parte la catena è irriducibile e l'insieme degli stati è finito.\n",
    "# Quindi esiste un'unica distribuzione stazionaria."
   ]
  },
  {
   "cell_type": "code",
   "execution_count": 3,
   "id": "8c508579",
   "metadata": {},
   "outputs": [],
   "source": [
    "import numpy as np"
   ]
  },
  {
   "cell_type": "code",
   "execution_count": 4,
   "id": "a2f506d5",
   "metadata": {},
   "outputs": [
    {
     "data": {
      "text/plain": [
       "array([[0.  , 0.25, 0.75],\n",
       "       [0.  , 0.5 , 0.5 ],\n",
       "       [0.75, 0.  , 0.25]])"
      ]
     },
     "metadata": {},
     "output_type": "display_data"
    }
   ],
   "source": [
    "P = np.array([[0, 1/4, 3/4],[0, 1/2, 1/2],[3/4, 0, 1/4]])\n",
    "display(P)"
   ]
  },
  {
   "cell_type": "code",
   "execution_count": 6,
   "id": "97f952c0",
   "metadata": {},
   "outputs": [
    {
     "data": {
      "text/plain": [
       "array([[0.5625, 0.125 , 0.3125],\n",
       "       [0.375 , 0.25  , 0.375 ],\n",
       "       [0.1875, 0.1875, 0.625 ]])"
      ]
     },
     "metadata": {},
     "output_type": "display_data"
    }
   ],
   "source": [
    "# Calcoliamo P^2\n",
    "display(np.dot(P,P))"
   ]
  },
  {
   "cell_type": "code",
   "execution_count": 7,
   "id": "f5bdb9f3",
   "metadata": {},
   "outputs": [],
   "source": [
    "# Osserviamo che P^2 ha tutti gli elementi strettamente positivi e quindi P è regolare per definizione"
   ]
  },
  {
   "cell_type": "code",
   "execution_count": 8,
   "id": "d593fa7e",
   "metadata": {},
   "outputs": [],
   "source": [
    "# Metodo analitico"
   ]
  },
  {
   "cell_type": "code",
   "execution_count": 9,
   "id": "cb7519f4",
   "metadata": {},
   "outputs": [
    {
     "data": {
      "text/plain": [
       "array([-0.57569391,  1.        ,  0.32569391])"
      ]
     },
     "metadata": {},
     "output_type": "display_data"
    },
    {
     "data": {
      "text/plain": [
       "array([[ 0.78010553, -0.57469577,  0.55506939],\n",
       "       [-0.18130286, -0.28734789, -0.79611302],\n",
       "       [-0.59880267, -0.76626103,  0.24104363]])"
      ]
     },
     "metadata": {},
     "output_type": "display_data"
    }
   ],
   "source": [
    "lam, V = np.linalg.eig(P.T)\n",
    "display(lam)\n",
    "display(V)"
   ]
  },
  {
   "cell_type": "code",
   "execution_count": 11,
   "id": "1204570c",
   "metadata": {},
   "outputs": [
    {
     "data": {
      "text/plain": [
       "array([0.35294118, 0.17647059, 0.47058824])"
      ]
     },
     "metadata": {},
     "output_type": "display_data"
    }
   ],
   "source": [
    "v = V[:,1]/np.sum(V[:,1])\n",
    "display(v)"
   ]
  },
  {
   "cell_type": "code",
   "execution_count": 13,
   "id": "61f8a7b5",
   "metadata": {},
   "outputs": [],
   "source": [
    "# Metodo Monte Carlo"
   ]
  },
  {
   "cell_type": "code",
   "execution_count": 29,
   "id": "97bdb7a4",
   "metadata": {},
   "outputs": [
    {
     "data": {
      "text/plain": [
       "array([0.353091, 0.175981, 0.470929])"
      ]
     },
     "metadata": {},
     "output_type": "display_data"
    }
   ],
   "source": [
    "n = 3 # Dimensione della matrice\n",
    "F = np.zeros(n)\n",
    "j = np.random.randint(n)\n",
    "F[j] = 1\n",
    "N = 1000000\n",
    "for i in range(N):\n",
    "    j_multi = np.random.multinomial(1, P[j,:])\n",
    "    j = np.nonzero(j_multi)[0][0]\n",
    "    F[j] = F[j]+1\n",
    "vv = F/N\n",
    "display(vv)"
   ]
  },
  {
   "cell_type": "code",
   "execution_count": null,
   "id": "2197d054",
   "metadata": {},
   "outputs": [],
   "source": []
  }
 ],
 "metadata": {
  "kernelspec": {
   "display_name": "Python 3 (ipykernel)",
   "language": "python",
   "name": "python3"
  },
  "language_info": {
   "codemirror_mode": {
    "name": "ipython",
    "version": 3
   },
   "file_extension": ".py",
   "mimetype": "text/x-python",
   "name": "python",
   "nbconvert_exporter": "python",
   "pygments_lexer": "ipython3",
   "version": "3.11.5"
  }
 },
 "nbformat": 4,
 "nbformat_minor": 5
}
