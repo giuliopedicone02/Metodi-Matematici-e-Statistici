{
 "cells": [
  {
   "cell_type": "code",
   "execution_count": 1,
   "id": "3e9e9d7a",
   "metadata": {},
   "outputs": [],
   "source": [
    "# Esercizio sulla distribuzione ipergeometrica (vedi appunti blocco 2.1)"
   ]
  },
  {
   "cell_type": "code",
   "execution_count": 2,
   "id": "4ac2ba40",
   "metadata": {},
   "outputs": [],
   "source": [
    "from scipy.special import binom"
   ]
  },
  {
   "cell_type": "code",
   "execution_count": 3,
   "id": "7da411e4",
   "metadata": {},
   "outputs": [],
   "source": [
    "b = 100\n",
    "r = 2900\n",
    "n = 28"
   ]
  },
  {
   "cell_type": "code",
   "execution_count": 4,
   "id": "8540b719",
   "metadata": {},
   "outputs": [],
   "source": [
    "p1 = binom(b,0)*binom(r,n)/binom(b+r,n)"
   ]
  },
  {
   "cell_type": "code",
   "execution_count": 5,
   "id": "14f61b15",
   "metadata": {},
   "outputs": [
    {
     "data": {
      "text/plain": [
       "0.38534529585883975"
      ]
     },
     "metadata": {},
     "output_type": "display_data"
    }
   ],
   "source": [
    "display(p1)"
   ]
  },
  {
   "cell_type": "code",
   "execution_count": 6,
   "id": "b9cf8964",
   "metadata": {},
   "outputs": [],
   "source": [
    "p2 = binom(n,0)*pow(1/30,0)*pow(1-1/30,28)"
   ]
  },
  {
   "cell_type": "code",
   "execution_count": 7,
   "id": "fec2e104",
   "metadata": {},
   "outputs": [
    {
     "data": {
      "text/plain": [
       "0.3870337242752075"
      ]
     },
     "metadata": {},
     "output_type": "display_data"
    }
   ],
   "source": [
    "display(p2)"
   ]
  },
  {
   "cell_type": "code",
   "execution_count": null,
   "id": "aebffbd8",
   "metadata": {},
   "outputs": [],
   "source": []
  }
 ],
 "metadata": {
  "kernelspec": {
   "display_name": "Python 3 (ipykernel)",
   "language": "python",
   "name": "python3"
  },
  "language_info": {
   "codemirror_mode": {
    "name": "ipython",
    "version": 3
   },
   "file_extension": ".py",
   "mimetype": "text/x-python",
   "name": "python",
   "nbconvert_exporter": "python",
   "pygments_lexer": "ipython3",
   "version": "3.11.5"
  }
 },
 "nbformat": 4,
 "nbformat_minor": 5
}
