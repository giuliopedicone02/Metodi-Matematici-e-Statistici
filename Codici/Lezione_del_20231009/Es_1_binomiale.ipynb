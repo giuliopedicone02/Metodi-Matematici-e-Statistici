{
 "cells": [
  {
   "cell_type": "code",
   "execution_count": 13,
   "id": "c1c5fb44",
   "metadata": {},
   "outputs": [],
   "source": [
    "# Esercizio sulla distribuzione binomiale (vedi appunti blocco 2.1)"
   ]
  },
  {
   "cell_type": "code",
   "execution_count": 14,
   "id": "59cccdc1",
   "metadata": {},
   "outputs": [],
   "source": [
    "from scipy.special import binom"
   ]
  },
  {
   "cell_type": "code",
   "execution_count": 27,
   "id": "2634a651",
   "metadata": {},
   "outputs": [],
   "source": [
    "p = 0.05\n",
    "q = 1-p"
   ]
  },
  {
   "cell_type": "code",
   "execution_count": 16,
   "id": "03efeb23",
   "metadata": {},
   "outputs": [],
   "source": [
    "# Punto 1)"
   ]
  },
  {
   "cell_type": "code",
   "execution_count": 17,
   "id": "2f82f774",
   "metadata": {},
   "outputs": [],
   "source": [
    "p_es1 = binom(4,1)*p*pow(q,3)"
   ]
  },
  {
   "cell_type": "code",
   "execution_count": 18,
   "id": "e47f6af6",
   "metadata": {},
   "outputs": [
    {
     "data": {
      "text/plain": [
       "0.171475"
      ]
     },
     "metadata": {},
     "output_type": "display_data"
    }
   ],
   "source": [
    "display(p_es1)"
   ]
  },
  {
   "cell_type": "code",
   "execution_count": 19,
   "id": "b058dbd4",
   "metadata": {},
   "outputs": [],
   "source": [
    "# Punto 2)"
   ]
  },
  {
   "cell_type": "code",
   "execution_count": 20,
   "id": "75b096dd",
   "metadata": {},
   "outputs": [],
   "source": [
    "p0 = binom(4,0)*pow(q,4)\n",
    "p1 = binom(4,1)*p*pow(q,3)\n",
    "p2 = binom(4,2)*pow(p,2)*pow(q,3)"
   ]
  },
  {
   "cell_type": "code",
   "execution_count": 21,
   "id": "5c0c0c5f",
   "metadata": {},
   "outputs": [],
   "source": [
    "p_es2 = p0+p1+p2"
   ]
  },
  {
   "cell_type": "code",
   "execution_count": 22,
   "id": "93bf0230",
   "metadata": {},
   "outputs": [
    {
     "data": {
      "text/plain": [
       "0.9988418749999998"
      ]
     },
     "metadata": {},
     "output_type": "display_data"
    }
   ],
   "source": [
    "display(p_es2)"
   ]
  },
  {
   "cell_type": "code",
   "execution_count": 23,
   "id": "7b605f70",
   "metadata": {},
   "outputs": [],
   "source": [
    "# Punto 3)"
   ]
  },
  {
   "cell_type": "code",
   "execution_count": 24,
   "id": "dd2364eb",
   "metadata": {},
   "outputs": [],
   "source": [
    "media = 40*p"
   ]
  },
  {
   "cell_type": "code",
   "execution_count": 25,
   "id": "d0c0cca8",
   "metadata": {},
   "outputs": [
    {
     "data": {
      "text/plain": [
       "2.0"
      ]
     },
     "metadata": {},
     "output_type": "display_data"
    }
   ],
   "source": [
    "display(media)"
   ]
  },
  {
   "cell_type": "code",
   "execution_count": 26,
   "id": "ddc13227",
   "metadata": {},
   "outputs": [],
   "source": [
    "# Soluzione alternativa al punto 2)"
   ]
  },
  {
   "cell_type": "code",
   "execution_count": 30,
   "id": "d98daa16",
   "metadata": {},
   "outputs": [],
   "source": [
    "from scipy.stats import binom"
   ]
  },
  {
   "cell_type": "code",
   "execution_count": 34,
   "id": "4979d0ed",
   "metadata": {},
   "outputs": [],
   "source": [
    "p_es2_bis = binom.pmf(0,4,p) + binom.pmf(1,4,p) + binom.pmf(2,4,p)"
   ]
  },
  {
   "cell_type": "code",
   "execution_count": 35,
   "id": "53542317",
   "metadata": {},
   "outputs": [
    {
     "data": {
      "text/plain": [
       "0.99951875"
      ]
     },
     "metadata": {},
     "output_type": "display_data"
    }
   ],
   "source": [
    "display(p_es2_bis)"
   ]
  },
  {
   "cell_type": "code",
   "execution_count": null,
   "id": "b36e8c1f",
   "metadata": {},
   "outputs": [],
   "source": []
  }
 ],
 "metadata": {
  "kernelspec": {
   "display_name": "Python 3 (ipykernel)",
   "language": "python",
   "name": "python3"
  },
  "language_info": {
   "codemirror_mode": {
    "name": "ipython",
    "version": 3
   },
   "file_extension": ".py",
   "mimetype": "text/x-python",
   "name": "python",
   "nbconvert_exporter": "python",
   "pygments_lexer": "ipython3",
   "version": "3.9.17"
  }
 },
 "nbformat": 4,
 "nbformat_minor": 5
}
