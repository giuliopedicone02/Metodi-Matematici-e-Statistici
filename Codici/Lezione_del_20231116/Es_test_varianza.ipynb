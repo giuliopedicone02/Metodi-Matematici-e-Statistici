{
 "cells": [
  {
   "cell_type": "code",
   "execution_count": 1,
   "id": "b66f231e",
   "metadata": {},
   "outputs": [],
   "source": [
    "# Test sulla varianza\n",
    "# Ipotesi nulla         H_0 : sig^2 = sig0^2\n",
    "# Ipotesi alternativa   H_1 : sig^2 < sig0^2"
   ]
  },
  {
   "cell_type": "code",
   "execution_count": 2,
   "id": "4e0dbeaf",
   "metadata": {},
   "outputs": [],
   "source": [
    "import numpy as np\n",
    "from scipy.stats import chi2"
   ]
  },
  {
   "cell_type": "code",
   "execution_count": 3,
   "id": "2f03e9d5",
   "metadata": {},
   "outputs": [],
   "source": [
    "X = np.array([2.05, 2.04, 1.98, 1.96, 2.03, 2.01, 1.97, 1.99, 2.01, 2.05,\n",
    "              1.96, 1.95, 2.04, 2.01, 1.97, 1.96, 2.02, 2.04, 1.98, 1.94])"
   ]
  },
  {
   "cell_type": "code",
   "execution_count": 11,
   "id": "5f90ac70",
   "metadata": {},
   "outputs": [],
   "source": [
    "sig0 = 0.05\n",
    "n = X.size"
   ]
  },
  {
   "cell_type": "code",
   "execution_count": 12,
   "id": "667151f5",
   "metadata": {},
   "outputs": [
    {
     "data": {
      "text/plain": [
       "9.967999999999988"
      ]
     },
     "metadata": {},
     "output_type": "display_data"
    }
   ],
   "source": [
    "S = np.std(X, ddof=1)\n",
    "W0 = S**2./sig0**2.*(n-1)\n",
    "display(W0)"
   ]
  },
  {
   "cell_type": "code",
   "execution_count": 13,
   "id": "8b699622",
   "metadata": {},
   "outputs": [
    {
     "data": {
      "text/plain": [
       "10.117013063859044"
      ]
     },
     "metadata": {},
     "output_type": "display_data"
    }
   ],
   "source": [
    "alpha = 0.05\n",
    "CHI = chi2.ppf(alpha,n-1)\n",
    "display(CHI)"
   ]
  },
  {
   "cell_type": "code",
   "execution_count": 14,
   "id": "6534f2cf",
   "metadata": {},
   "outputs": [],
   "source": [
    "# Si rigetta l'ipotesi nulla in favore dell'ipotesi alternativa\n",
    "# La varianza del campione è significativamente inferiore della soglia critica"
   ]
  },
  {
   "cell_type": "code",
   "execution_count": null,
   "id": "f25e879e",
   "metadata": {},
   "outputs": [],
   "source": []
  }
 ],
 "metadata": {
  "kernelspec": {
   "display_name": "Python 3 (ipykernel)",
   "language": "python",
   "name": "python3"
  },
  "language_info": {
   "codemirror_mode": {
    "name": "ipython",
    "version": 3
   },
   "file_extension": ".py",
   "mimetype": "text/x-python",
   "name": "python",
   "nbconvert_exporter": "python",
   "pygments_lexer": "ipython3",
   "version": "3.11.5"
  }
 },
 "nbformat": 4,
 "nbformat_minor": 5
}
