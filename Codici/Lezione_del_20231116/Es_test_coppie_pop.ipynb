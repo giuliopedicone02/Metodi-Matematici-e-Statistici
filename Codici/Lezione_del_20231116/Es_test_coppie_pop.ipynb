{
 "cells": [
  {
   "cell_type": "code",
   "execution_count": 1,
   "id": "29891abf",
   "metadata": {},
   "outputs": [],
   "source": [
    "# Test sulla media per coppie di popolazioni\n",
    "# Ipotesi nulla         H_0 : mu_1 = mu_2\n",
    "# Ipotesi alternativa   H_1 : mu_1 > mu_2\n",
    "# Test unilatero a destra"
   ]
  },
  {
   "cell_type": "code",
   "execution_count": 2,
   "id": "d192e21d",
   "metadata": {},
   "outputs": [],
   "source": [
    "import numpy as np\n",
    "from scipy.stats import norm"
   ]
  },
  {
   "cell_type": "code",
   "execution_count": 4,
   "id": "558d56f2",
   "metadata": {},
   "outputs": [],
   "source": [
    "X_1 = 121.\n",
    "X_2 = 112.\n",
    "n1 = 10\n",
    "n2 = 10\n",
    "sig1 = 8.\n",
    "sig2 = 8."
   ]
  },
  {
   "cell_type": "code",
   "execution_count": 5,
   "id": "c64ee573",
   "metadata": {},
   "outputs": [
    {
     "data": {
      "text/plain": [
       "2.5155764746872635"
      ]
     },
     "metadata": {},
     "output_type": "display_data"
    }
   ],
   "source": [
    "Z_0 = (X_1-X_2)/np.sqrt(sig1**2./n1 + sig2**2./n2)\n",
    "display(Z_0)"
   ]
  },
  {
   "cell_type": "code",
   "execution_count": 6,
   "id": "0e3368ef",
   "metadata": {},
   "outputs": [
    {
     "data": {
      "text/plain": [
       "1.6448536269514722"
      ]
     },
     "metadata": {},
     "output_type": "display_data"
    }
   ],
   "source": [
    "alpha = 0.05\n",
    "PHI = norm.ppf(1.-alpha)\n",
    "display(PHI)"
   ]
  },
  {
   "cell_type": "code",
   "execution_count": 7,
   "id": "7fac9916",
   "metadata": {},
   "outputs": [],
   "source": [
    "# Poiché Z_0 > PHI si rifiuta H0 in favore di H1.\n",
    "# Pertanto il tempo di essiccamento del campione 1 è significativamente maggiore\n",
    "# del tempo di essiccamento del campione 2"
   ]
  },
  {
   "cell_type": "code",
   "execution_count": 8,
   "id": "0b7564ce",
   "metadata": {},
   "outputs": [
    {
     "data": {
      "text/plain": [
       "3.115192763359085"
      ]
     },
     "metadata": {},
     "output_type": "display_data"
    }
   ],
   "source": [
    "B = X_1-X_2-PHI*np.sqrt(sig1**2./n1 + sig2**2./n2)\n",
    "display(B)"
   ]
  },
  {
   "cell_type": "code",
   "execution_count": 9,
   "id": "fdea994b",
   "metadata": {},
   "outputs": [],
   "source": [
    "# L'intervallo di confidenza per la differenza dei tempi medi di essiccamento è\n",
    "# ]3.115, +inf[\n",
    "# Vale a dire che il tempo di essiccamento del primo preparato per pittura è di\n",
    "# almeno circa 3 minuti maggiore di quello del secondo preparato per pittura\n",
    "# con una significatività del 95%."
   ]
  },
  {
   "cell_type": "code",
   "execution_count": null,
   "id": "230087dc",
   "metadata": {},
   "outputs": [],
   "source": []
  }
 ],
 "metadata": {
  "kernelspec": {
   "display_name": "Python 3 (ipykernel)",
   "language": "python",
   "name": "python3"
  },
  "language_info": {
   "codemirror_mode": {
    "name": "ipython",
    "version": 3
   },
   "file_extension": ".py",
   "mimetype": "text/x-python",
   "name": "python",
   "nbconvert_exporter": "python",
   "pygments_lexer": "ipython3",
   "version": "3.11.5"
  }
 },
 "nbformat": 4,
 "nbformat_minor": 5
}
