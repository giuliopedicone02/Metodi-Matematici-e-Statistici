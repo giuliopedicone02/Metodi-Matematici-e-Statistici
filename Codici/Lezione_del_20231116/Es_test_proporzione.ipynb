{
 "cells": [
  {
   "cell_type": "code",
   "execution_count": 1,
   "id": "ac908855",
   "metadata": {},
   "outputs": [],
   "source": [
    "# Test sulla proporzione\n",
    "# Ipotesi nulla         H_0 : p = p0\n",
    "# Ipotesi alternativa   H_1 : p < p0"
   ]
  },
  {
   "cell_type": "code",
   "execution_count": 7,
   "id": "2957df37",
   "metadata": {},
   "outputs": [],
   "source": [
    "import numpy as np\n",
    "from scipy.stats import norm"
   ]
  },
  {
   "cell_type": "code",
   "execution_count": 8,
   "id": "9d1bb8c9",
   "metadata": {},
   "outputs": [],
   "source": [
    "p0 = 0.05\n",
    "n = 200\n",
    "p_bar = 4./n"
   ]
  },
  {
   "cell_type": "code",
   "execution_count": 9,
   "id": "137aa28a",
   "metadata": {},
   "outputs": [
    {
     "data": {
      "text/plain": [
       "-1.946657053569151"
      ]
     },
     "metadata": {},
     "output_type": "display_data"
    }
   ],
   "source": [
    "Z_0 = (p_bar-p0)/(np.sqrt(p0*(1.-p0)))*np.sqrt(n)\n",
    "display(Z_0)"
   ]
  },
  {
   "cell_type": "code",
   "execution_count": 10,
   "id": "a28637e4",
   "metadata": {},
   "outputs": [
    {
     "data": {
      "text/plain": [
       "-1.6448536269514729"
      ]
     },
     "metadata": {},
     "output_type": "display_data"
    }
   ],
   "source": [
    "alpha = 0.05\n",
    "PHI = norm.ppf(alpha)\n",
    "display(PHI)"
   ]
  },
  {
   "cell_type": "code",
   "execution_count": 11,
   "id": "a3bee7cd",
   "metadata": {},
   "outputs": [],
   "source": [
    "# Poiché Z_0 < PHI si rigetta l'ipotesi nulla in favore di quella alternativa.\n",
    "# Pertanto si avalla il rispetto delle aspettative di produzione."
   ]
  },
  {
   "cell_type": "code",
   "execution_count": 14,
   "id": "f3a4823a",
   "metadata": {},
   "outputs": [],
   "source": [
    "p_star = 0.03\n",
    "beta = 0.1"
   ]
  },
  {
   "cell_type": "code",
   "execution_count": 15,
   "id": "3032d905",
   "metadata": {},
   "outputs": [
    {
     "data": {
      "text/plain": [
       "832.6221546780524"
      ]
     },
     "metadata": {},
     "output_type": "display_data"
    }
   ],
   "source": [
    "Dim_camp = ((norm.ppf(beta)*np.sqrt(p_star*(1.-p_star)) + PHI*np.sqrt(p0*(1.-p0)))/(p0-p_star))**2.\n",
    "display(Dim_camp)"
   ]
  },
  {
   "cell_type": "code",
   "execution_count": null,
   "id": "0cc6afbc",
   "metadata": {},
   "outputs": [],
   "source": []
  }
 ],
 "metadata": {
  "kernelspec": {
   "display_name": "Python 3 (ipykernel)",
   "language": "python",
   "name": "python3"
  },
  "language_info": {
   "codemirror_mode": {
    "name": "ipython",
    "version": 3
   },
   "file_extension": ".py",
   "mimetype": "text/x-python",
   "name": "python",
   "nbconvert_exporter": "python",
   "pygments_lexer": "ipython3",
   "version": "3.11.5"
  }
 },
 "nbformat": 4,
 "nbformat_minor": 5
}
