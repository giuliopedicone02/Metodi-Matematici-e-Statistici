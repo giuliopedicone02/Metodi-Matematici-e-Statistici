{
 "cells": [
  {
   "cell_type": "code",
   "execution_count": 1,
   "id": "b9438437",
   "metadata": {},
   "outputs": [],
   "source": [
    "# Es regressione lineare multipla"
   ]
  },
  {
   "cell_type": "code",
   "execution_count": 2,
   "id": "213c45c0",
   "metadata": {},
   "outputs": [],
   "source": [
    "import numpy as np"
   ]
  },
  {
   "cell_type": "code",
   "execution_count": 5,
   "id": "eba978ab",
   "metadata": {},
   "outputs": [
    {
     "data": {
      "text/plain": [
       "array([ 0.32,  2.83,  3.94,  6.52,  7.51, 11.43,  0.96,  3.32,  4.62,\n",
       "        6.65,  8.96, 11.45,  0.96,  3.8 ,  5.91,  6.83,  9.56, 12.02])"
      ]
     },
     "metadata": {},
     "output_type": "display_data"
    },
    {
     "data": {
      "text/plain": [
       "array([ 1.6 ,  5.3 , 11.88, 15.28, 18.19, 32.55,  1.23,  0.32,  8.03,\n",
       "       16.47, 16.25, 37.3 ,  0.48,  0.06,  9.91, 14.96, 21.82, 33.19])"
      ]
     },
     "metadata": {},
     "output_type": "display_data"
    }
   ],
   "source": [
    "DATA = np.loadtxt(\"DATA_reg_lin_2.dat\")\n",
    "x = DATA[:,0]    # x\n",
    "y = DATA[:,1]    # y\n",
    "display(x,y)"
   ]
  },
  {
   "cell_type": "code",
   "execution_count": 6,
   "id": "10e1a642",
   "metadata": {},
   "outputs": [
    {
     "data": {
      "text/plain": [
       "-4.391330475499407"
      ]
     },
     "metadata": {},
     "output_type": "display_data"
    },
    {
     "data": {
      "text/plain": [
       "3.010167753127515"
      ]
     },
     "metadata": {},
     "output_type": "display_data"
    }
   ],
   "source": [
    "# Calcolo dei coefficienti di regressione y = b_0 + b_1 x\n",
    "n = x.size\n",
    "x_bar = np.mean(x)\n",
    "y_bar = np.mean(y)\n",
    "sig_xy = np.sum((x-x_bar)*(y-y_bar))/n\n",
    "sig_x_2 = np.sum((x-x_bar)**2.)/n\n",
    "\n",
    "b_0 = y_bar - sig_xy/sig_x_2*x_bar\n",
    "b_1 = sig_xy/sig_x_2\n",
    "display(b_0, b_1)"
   ]
  },
  {
   "cell_type": "code",
   "execution_count": 7,
   "id": "b95c413e",
   "metadata": {},
   "outputs": [],
   "source": [
    "# Calcolo dei coefficienti di regressione usando le formule\n",
    "# della regressione lineare multipla"
   ]
  },
  {
   "cell_type": "code",
   "execution_count": 12,
   "id": "ed8e813e",
   "metadata": {},
   "outputs": [
    {
     "data": {
      "text/plain": [
       "array([[ 1.  ,  0.32],\n",
       "       [ 1.  ,  2.83],\n",
       "       [ 1.  ,  3.94],\n",
       "       [ 1.  ,  6.52],\n",
       "       [ 1.  ,  7.51],\n",
       "       [ 1.  , 11.43],\n",
       "       [ 1.  ,  0.96],\n",
       "       [ 1.  ,  3.32],\n",
       "       [ 1.  ,  4.62],\n",
       "       [ 1.  ,  6.65],\n",
       "       [ 1.  ,  8.96],\n",
       "       [ 1.  , 11.45],\n",
       "       [ 1.  ,  0.96],\n",
       "       [ 1.  ,  3.8 ],\n",
       "       [ 1.  ,  5.91],\n",
       "       [ 1.  ,  6.83],\n",
       "       [ 1.  ,  9.56],\n",
       "       [ 1.  , 12.02]])"
      ]
     },
     "metadata": {},
     "output_type": "display_data"
    }
   ],
   "source": [
    "x1 = np.ones(n)\n",
    "x2 = x\n",
    "X = np.zeros((n,2))\n",
    "X[:,0] = x1\n",
    "X[:,1] = x2\n",
    "display(X)"
   ]
  },
  {
   "cell_type": "code",
   "execution_count": 13,
   "id": "fa3b5446",
   "metadata": {},
   "outputs": [],
   "source": [
    "XX = np.linalg.pinv(X)"
   ]
  },
  {
   "cell_type": "code",
   "execution_count": 25,
   "id": "f8693c5f",
   "metadata": {},
   "outputs": [
    {
     "data": {
      "text/plain": [
       "array([-4.39133048,  3.01016775])"
      ]
     },
     "metadata": {},
     "output_type": "display_data"
    },
    {
     "data": {
      "text/plain": [
       "array([-3.42807679,  4.12744427,  7.46873047, 15.23496327, 18.21502935,\n",
       "       30.01488694, -1.50156943,  5.60242646,  9.51564454, 15.62628508,\n",
       "       22.57977259, 30.0750903 , -1.50156943,  7.04730699, 13.39876095,\n",
       "       16.16811528, 24.38587324, 31.79088592])"
      ]
     },
     "metadata": {},
     "output_type": "display_data"
    }
   ],
   "source": [
    "b = np.dot(XX,y)\n",
    "display(b)\n",
    "y_hat = np.dot(X,b)\n",
    "display(y_hat)"
   ]
  },
  {
   "cell_type": "code",
   "execution_count": 26,
   "id": "52fd0061",
   "metadata": {},
   "outputs": [
    {
     "data": {
      "image/png": "[encoded data removed]",
      "text/plain": [
       "<Figure size 640x480 with 1 Axes>"
      ]
     },
     "metadata": {},
     "output_type": "display_data"
    }
   ],
   "source": [
    "# Grafico\n",
    "xx = np.linspace(0.,12.,100)\n",
    "yy = b[0] + b[1]*xx\n",
    "\n",
    "import matplotlib.pyplot as plt\n",
    "plt.plot(x, y, '*')\n",
    "plt.plot(xx, yy)\n",
    "plt.xlabel('x')\n",
    "plt.ylabel('y')\n",
    "plt.show()"
   ]
  },
  {
   "cell_type": "code",
   "execution_count": 27,
   "id": "64755a45",
   "metadata": {},
   "outputs": [
    {
     "data": {
      "text/plain": [
       "0.8905996203945861"
      ]
     },
     "metadata": {},
     "output_type": "display_data"
    }
   ],
   "source": [
    "R2 = np.sum((y_hat-y_bar)**2.) / np.sum((y-y_bar)**2.)\n",
    "display(R2)"
   ]
  },
  {
   "cell_type": "code",
   "execution_count": 33,
   "id": "728bd5f6",
   "metadata": {},
   "outputs": [
    {
     "data": {
      "text/plain": [
       "11.412790093360778"
      ]
     },
     "metadata": {},
     "output_type": "display_data"
    },
    {
     "data": {
      "text/plain": [
       "2.1199052992210112"
      ]
     },
     "metadata": {},
     "output_type": "display_data"
    }
   ],
   "source": [
    "# test di indipendenza \n",
    "# H0 : b1 = 0\n",
    "# H1 : b1 <> 0\n",
    "\n",
    "M = np.linalg.inv(np.dot(X.T,X))\n",
    "m = M[1][1]\n",
    "r = y-y_hat\n",
    "s2 = np.sum(r**2.)/(n-2)\n",
    "T1 = b[1]/(np.sqrt(s2*m))\n",
    "display(T1)\n",
    "\n",
    "from scipy.stats import t\n",
    "alpha = 0.05\n",
    "tt = t.ppf(1.-alpha/2.,n-2)\n",
    "display(tt)"
   ]
  },
  {
   "cell_type": "code",
   "execution_count": 34,
   "id": "bf75d842",
   "metadata": {},
   "outputs": [],
   "source": [
    "# Rigettiamo l'ipotesi nulla\n",
    "# Pertanto vi è dipendenza di y dal predittore"
   ]
  },
  {
   "cell_type": "code",
   "execution_count": 35,
   "id": "d21235e5",
   "metadata": {},
   "outputs": [
    {
     "data": {
      "image/png": "[encoded data removed]",
      "text/plain": [
       "<Figure size 640x480 with 1 Axes>"
      ]
     },
     "metadata": {},
     "output_type": "display_data"
    }
   ],
   "source": [
    "from scipy.stats import probplot\n",
    "from scipy.stats import norm\n",
    "fig, ax = plt.subplots(1, 1)\n",
    "probplot(r, dist=norm, plot=ax)\n",
    "plt.show()"
   ]
  },
  {
   "cell_type": "code",
   "execution_count": 38,
   "id": "581f8db0",
   "metadata": {},
   "outputs": [
    {
     "data": {
      "text/plain": [
       "array([[1.000000e+00, 3.200000e-01, 1.024000e-01],\n",
       "       [1.000000e+00, 2.830000e+00, 8.008900e+00],\n",
       "       [1.000000e+00, 3.940000e+00, 1.552360e+01],\n",
       "       [1.000000e+00, 6.520000e+00, 4.251040e+01],\n",
       "       [1.000000e+00, 7.510000e+00, 5.640010e+01],\n",
       "       [1.000000e+00, 1.143000e+01, 1.306449e+02],\n",
       "       [1.000000e+00, 9.600000e-01, 9.216000e-01],\n",
       "       [1.000000e+00, 3.320000e+00, 1.102240e+01],\n",
       "       [1.000000e+00, 4.620000e+00, 2.134440e+01],\n",
       "       [1.000000e+00, 6.650000e+00, 4.422250e+01],\n",
       "       [1.000000e+00, 8.960000e+00, 8.028160e+01],\n",
       "       [1.000000e+00, 1.145000e+01, 1.311025e+02],\n",
       "       [1.000000e+00, 9.600000e-01, 9.216000e-01],\n",
       "       [1.000000e+00, 3.800000e+00, 1.444000e+01],\n",
       "       [1.000000e+00, 5.910000e+00, 3.492810e+01],\n",
       "       [1.000000e+00, 6.830000e+00, 4.664890e+01],\n",
       "       [1.000000e+00, 9.560000e+00, 9.139360e+01],\n",
       "       [1.000000e+00, 1.202000e+01, 1.444804e+02]])"
      ]
     },
     "metadata": {},
     "output_type": "display_data"
    }
   ],
   "source": [
    "# Adottiamo un modello quadratico\n",
    "X2 = np.zeros((n,3))\n",
    "X2[:,0] = x1\n",
    "X2[:,1] = x2\n",
    "X2[:,2] = x2**2.\n",
    "display(X2)"
   ]
  },
  {
   "cell_type": "code",
   "execution_count": 48,
   "id": "4437d697",
   "metadata": {},
   "outputs": [
    {
     "data": {
      "text/plain": [
       "array([0.13714061, 0.83177463, 0.17471849])"
      ]
     },
     "metadata": {},
     "output_type": "display_data"
    },
    {
     "data": {
      "text/plain": [
       "array([ 0.42119966,  3.8903657 ,  6.12659254, 12.98766393, 16.23790817,\n",
       "       32.47040378,  1.09666481,  4.82444942,  7.70920065, 13.39493015,\n",
       "       21.61652091, 32.56699045,  1.09666481,  5.82081914, 11.15551343,\n",
       "       13.96858652, 24.0570575 , 35.37846842])"
      ]
     },
     "metadata": {},
     "output_type": "display_data"
    }
   ],
   "source": [
    "XX2 = np.linalg.pinv(X2)\n",
    "b2 = np.dot(XX2,y)\n",
    "display(b2)\n",
    "y_hat_2 = np.dot(X2,b2)\n",
    "display(y_hat_2)"
   ]
  },
  {
   "cell_type": "code",
   "execution_count": 51,
   "id": "02b7335b",
   "metadata": {},
   "outputs": [
    {
     "data": {
      "image/png": "[encoded data removed]",
      "text/plain": [
       "<Figure size 640x480 with 2 Axes>"
      ]
     },
     "metadata": {},
     "output_type": "display_data"
    }
   ],
   "source": [
    "# Grafico\n",
    "xx = np.linspace(0.,12.,100)\n",
    "yy = b[0] + b[1]*xx\n",
    "yy2 = b2[0] + b2[1]*xx + b2[2]*xx**2.\n",
    "\n",
    "import matplotlib.pyplot as plt\n",
    "fig, (ax1, ax2) = plt.subplots(1, 2)\n",
    "ax1.plot(x, y, '*')\n",
    "ax1.plot(xx, yy)\n",
    "ax1.set_xlabel('x')\n",
    "ax1.set_ylabel('y')\n",
    "\n",
    "ax2.plot(x, y, '*')\n",
    "ax2.plot(xx, yy2)\n",
    "ax2.set_xlabel('x')\n",
    "ax2.set_ylabel('y')\n",
    "plt.show()"
   ]
  },
  {
   "cell_type": "code",
   "execution_count": 59,
   "id": "869b594f",
   "metadata": {},
   "outputs": [
    {
     "data": {
      "text/plain": [
       "1.0028596601849002"
      ]
     },
     "metadata": {},
     "output_type": "display_data"
    },
    {
     "data": {
      "text/plain": [
       "2.7266250601819837"
      ]
     },
     "metadata": {},
     "output_type": "display_data"
    },
    {
     "data": {
      "text/plain": [
       "2.131449545559323"
      ]
     },
     "metadata": {},
     "output_type": "display_data"
    }
   ],
   "source": [
    "M2 = np.linalg.inv(np.dot(X2.T,X2))\n",
    "m2 = M2[1][1]\n",
    "m3 = M2[2][2]\n",
    "r2 = y-y_hat_2\n",
    "s2_2 = np.sum(r2**2.)/(n-3)\n",
    "\n",
    "\n",
    "# test di indipendenza \n",
    "# H0 : b1 = 0\n",
    "# H1 : b1 <> 0\n",
    "\n",
    "T1_2 = b2[1]/(np.sqrt(s2_2*m2))\n",
    "display(T1_2)\n",
    "\n",
    "# test di indipendenza \n",
    "# H0 : b2 = 0\n",
    "# H1 : b2 <> 0\n",
    "\n",
    "T2_2 = b2[2]/(np.sqrt(s2_2*m3))\n",
    "display(T2_2)\n",
    "\n",
    "from scipy.stats import t\n",
    "tt = t.ppf(1.-alpha/2.,n-3)\n",
    "display(tt)"
   ]
  },
  {
   "cell_type": "code",
   "execution_count": 60,
   "id": "5219ba01",
   "metadata": {},
   "outputs": [],
   "source": [
    "# Poiché T2_2 > tt si rigetta l'ipotesi nulla\n",
    "# evidenziando una notevole dipendenza dal termine quadratico"
   ]
  },
  {
   "cell_type": "code",
   "execution_count": 61,
   "id": "af238c36",
   "metadata": {},
   "outputs": [
    {
     "data": {
      "text/plain": [
       "0.9268534244836728"
      ]
     },
     "metadata": {},
     "output_type": "display_data"
    }
   ],
   "source": [
    "R2 = np.sum((y_hat_2-y_bar)**2.) / np.sum((y-y_bar)**2.)\n",
    "display(R2)"
   ]
  },
  {
   "cell_type": "code",
   "execution_count": 62,
   "id": "caa17d65",
   "metadata": {},
   "outputs": [],
   "source": [
    "# Osserviamo che il coefficiente di determinazione è maggiore rispetto\n",
    "# a quello del modello lineare suggerendo una migliore adeguatezza\n",
    "# del modello quadratico"
   ]
  },
  {
   "cell_type": "code",
   "execution_count": null,
   "id": "356ffb8b",
   "metadata": {},
   "outputs": [],
   "source": []
  }
 ],
 "metadata": {
  "kernelspec": {
   "display_name": "Python 3 (ipykernel)",
   "language": "python",
   "name": "python3"
  },
  "language_info": {
   "codemirror_mode": {
    "name": "ipython",
    "version": 3
   },
   "file_extension": ".py",
   "mimetype": "text/x-python",
   "name": "python",
   "nbconvert_exporter": "python",
   "pygments_lexer": "ipython3",
   "version": "3.11.5"
  }
 },
 "nbformat": 4,
 "nbformat_minor": 5
}
