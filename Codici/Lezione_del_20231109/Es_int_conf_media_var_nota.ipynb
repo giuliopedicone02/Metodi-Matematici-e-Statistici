{
 "cells": [
  {
   "cell_type": "code",
   "execution_count": 9,
   "id": "65057ed0",
   "metadata": {},
   "outputs": [],
   "source": [
    "# Esercizio intervallo di confidenza per la media con varianza nota"
   ]
  },
  {
   "cell_type": "code",
   "execution_count": 16,
   "id": "a93a59c3",
   "metadata": {},
   "outputs": [],
   "source": [
    "import numpy as np\n",
    "from scipy.stats import norm\n",
    "import matplotlib.pyplot as plt"
   ]
  },
  {
   "cell_type": "code",
   "execution_count": 17,
   "id": "ee3753ac",
   "metadata": {},
   "outputs": [],
   "source": [
    "X = np.array([11., 13.2, 12.3, 10.9, 13., 10.5, 12.3, 13., 13.15])"
   ]
  },
  {
   "cell_type": "code",
   "execution_count": 18,
   "id": "1aee804f",
   "metadata": {},
   "outputs": [],
   "source": [
    "me = np.mean(X)"
   ]
  },
  {
   "cell_type": "code",
   "execution_count": 19,
   "id": "5cae80ae",
   "metadata": {},
   "outputs": [],
   "source": [
    "n = X.size"
   ]
  },
  {
   "cell_type": "code",
   "execution_count": 20,
   "id": "b34e8f49",
   "metadata": {},
   "outputs": [],
   "source": [
    "sig = 1."
   ]
  },
  {
   "cell_type": "code",
   "execution_count": 21,
   "id": "03dce3a0",
   "metadata": {},
   "outputs": [],
   "source": [
    "# Intervallo di confidenza al 95%"
   ]
  },
  {
   "cell_type": "code",
   "execution_count": 22,
   "id": "89cceaf3",
   "metadata": {},
   "outputs": [],
   "source": [
    "alpha = 0.05\n",
    "phi = norm.ppf(1.-alpha/2.)"
   ]
  },
  {
   "cell_type": "code",
   "execution_count": 24,
   "id": "78c2dae4",
   "metadata": {},
   "outputs": [],
   "source": [
    "Il = me - sig/np.sqrt(n)*phi\n",
    "Ir = me + sig/np.sqrt(n)*phi"
   ]
  },
  {
   "cell_type": "code",
   "execution_count": 25,
   "id": "dd4c3c87",
   "metadata": {},
   "outputs": [
    {
     "data": {
      "text/plain": [
       "11.496678671819982"
      ]
     },
     "metadata": {},
     "output_type": "display_data"
    },
    {
     "data": {
      "text/plain": [
       "12.803321328180019"
      ]
     },
     "metadata": {},
     "output_type": "display_data"
    }
   ],
   "source": [
    "display(Il,Ir)"
   ]
  },
  {
   "cell_type": "code",
   "execution_count": 26,
   "id": "91acbe19",
   "metadata": {},
   "outputs": [],
   "source": [
    "# Intervallo di confidenza al 99%"
   ]
  },
  {
   "cell_type": "code",
   "execution_count": 27,
   "id": "19a25439",
   "metadata": {},
   "outputs": [],
   "source": [
    "alpha = 0.01\n",
    "phi = norm.ppf(1.-alpha/2.)"
   ]
  },
  {
   "cell_type": "code",
   "execution_count": 28,
   "id": "3b273795",
   "metadata": {},
   "outputs": [],
   "source": [
    "Il = me - sig/np.sqrt(n)*phi\n",
    "Ir = me + sig/np.sqrt(n)*phi"
   ]
  },
  {
   "cell_type": "code",
   "execution_count": 29,
   "id": "7c615fa7",
   "metadata": {},
   "outputs": [
    {
     "data": {
      "text/plain": [
       "11.291390232150366"
      ]
     },
     "metadata": {},
     "output_type": "display_data"
    },
    {
     "data": {
      "text/plain": [
       "13.008609767849634"
      ]
     },
     "metadata": {},
     "output_type": "display_data"
    }
   ],
   "source": [
    "display(Il,Ir)"
   ]
  },
  {
   "cell_type": "code",
   "execution_count": 30,
   "id": "63bf437f",
   "metadata": {},
   "outputs": [],
   "source": [
    "sig = 1.4"
   ]
  },
  {
   "cell_type": "code",
   "execution_count": 31,
   "id": "bd313204",
   "metadata": {},
   "outputs": [],
   "source": [
    "# Intervallo di confidenza al 95%"
   ]
  },
  {
   "cell_type": "code",
   "execution_count": 32,
   "id": "86f34940",
   "metadata": {},
   "outputs": [],
   "source": [
    "alpha = 0.05\n",
    "phi = norm.ppf(1.-alpha/2.)"
   ]
  },
  {
   "cell_type": "code",
   "execution_count": 33,
   "id": "dd98380a",
   "metadata": {},
   "outputs": [],
   "source": [
    "Il = me - sig/np.sqrt(n)*phi\n",
    "Ir = me + sig/np.sqrt(n)*phi"
   ]
  },
  {
   "cell_type": "code",
   "execution_count": 34,
   "id": "bd8b05a8",
   "metadata": {},
   "outputs": [
    {
     "data": {
      "text/plain": [
       "11.235350140547975"
      ]
     },
     "metadata": {},
     "output_type": "display_data"
    },
    {
     "data": {
      "text/plain": [
       "13.064649859452025"
      ]
     },
     "metadata": {},
     "output_type": "display_data"
    }
   ],
   "source": [
    "display(Il,Ir)"
   ]
  },
  {
   "cell_type": "code",
   "execution_count": 35,
   "id": "d8e02218",
   "metadata": {},
   "outputs": [],
   "source": [
    "# Intervallo di confidenza al 99%"
   ]
  },
  {
   "cell_type": "code",
   "execution_count": 36,
   "id": "3af74dae",
   "metadata": {},
   "outputs": [],
   "source": [
    "alpha = 0.01\n",
    "phi = norm.ppf(1.-alpha/2.)"
   ]
  },
  {
   "cell_type": "code",
   "execution_count": 37,
   "id": "29d04b65",
   "metadata": {},
   "outputs": [],
   "source": [
    "Il = me - sig/np.sqrt(n)*phi\n",
    "Ir = me + sig/np.sqrt(n)*phi"
   ]
  },
  {
   "cell_type": "code",
   "execution_count": 38,
   "id": "9834d45c",
   "metadata": {},
   "outputs": [
    {
     "data": {
      "text/plain": [
       "10.947946325010513"
      ]
     },
     "metadata": {},
     "output_type": "display_data"
    },
    {
     "data": {
      "text/plain": [
       "13.352053674989488"
      ]
     },
     "metadata": {},
     "output_type": "display_data"
    }
   ],
   "source": [
    "display(Il,Ir)"
   ]
  },
  {
   "cell_type": "code",
   "execution_count": null,
   "id": "8b890393",
   "metadata": {},
   "outputs": [],
   "source": []
  },
  {
   "cell_type": "code",
   "execution_count": 40,
   "id": "8ecd729f",
   "metadata": {},
   "outputs": [],
   "source": [
    "n = 20\n",
    "sig = 1."
   ]
  },
  {
   "cell_type": "code",
   "execution_count": 41,
   "id": "0c204dc7",
   "metadata": {},
   "outputs": [],
   "source": [
    "# Intervallo di confidenza al 95%"
   ]
  },
  {
   "cell_type": "code",
   "execution_count": 42,
   "id": "c3e791e9",
   "metadata": {},
   "outputs": [],
   "source": [
    "alpha = 0.05\n",
    "phi = norm.ppf(1.-alpha/2.)"
   ]
  },
  {
   "cell_type": "code",
   "execution_count": 43,
   "id": "399fa020",
   "metadata": {},
   "outputs": [],
   "source": [
    "Il = me - sig/np.sqrt(n)*phi\n",
    "Ir = me + sig/np.sqrt(n)*phi"
   ]
  },
  {
   "cell_type": "code",
   "execution_count": 44,
   "id": "bffea799",
   "metadata": {},
   "outputs": [
    {
     "data": {
      "text/plain": [
       "11.71173872971171"
      ]
     },
     "metadata": {},
     "output_type": "display_data"
    },
    {
     "data": {
      "text/plain": [
       "12.58826127028829"
      ]
     },
     "metadata": {},
     "output_type": "display_data"
    }
   ],
   "source": [
    "display(Il,Ir)"
   ]
  },
  {
   "cell_type": "code",
   "execution_count": 45,
   "id": "2f22c005",
   "metadata": {},
   "outputs": [],
   "source": [
    "# Intervallo di confidenza al 99%"
   ]
  },
  {
   "cell_type": "code",
   "execution_count": 46,
   "id": "47a29cb7",
   "metadata": {},
   "outputs": [],
   "source": [
    "alpha = 0.05\n",
    "phi = norm.ppf(1.-alpha/2.)"
   ]
  },
  {
   "cell_type": "code",
   "execution_count": 47,
   "id": "37feb55b",
   "metadata": {},
   "outputs": [],
   "source": [
    "Il = me - sig/np.sqrt(n)*phi\n",
    "Ir = me + sig/np.sqrt(n)*phi"
   ]
  },
  {
   "cell_type": "code",
   "execution_count": 48,
   "id": "7ae73aa0",
   "metadata": {},
   "outputs": [
    {
     "data": {
      "text/plain": [
       "11.71173872971171"
      ]
     },
     "metadata": {},
     "output_type": "display_data"
    },
    {
     "data": {
      "text/plain": [
       "12.58826127028829"
      ]
     },
     "metadata": {},
     "output_type": "display_data"
    }
   ],
   "source": [
    "display(Il,Ir)"
   ]
  },
  {
   "cell_type": "code",
   "execution_count": null,
   "id": "3c0ae89b",
   "metadata": {},
   "outputs": [],
   "source": []
  }
 ],
 "metadata": {
  "kernelspec": {
   "display_name": "Python 3 (ipykernel)",
   "language": "python",
   "name": "python3"
  },
  "language_info": {
   "codemirror_mode": {
    "name": "ipython",
    "version": 3
   },
   "file_extension": ".py",
   "mimetype": "text/x-python",
   "name": "python",
   "nbconvert_exporter": "python",
   "pygments_lexer": "ipython3",
   "version": "3.11.5"
  }
 },
 "nbformat": 4,
 "nbformat_minor": 5
}
