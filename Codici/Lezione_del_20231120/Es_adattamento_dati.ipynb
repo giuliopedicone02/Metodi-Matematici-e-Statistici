{
 "cells": [
  {
   "cell_type": "code",
   "execution_count": 36,
   "id": "41c803fd",
   "metadata": {},
   "outputs": [],
   "source": [
    "# Esempio di test di adattamento ai dati"
   ]
  },
  {
   "cell_type": "code",
   "execution_count": 44,
   "id": "814493d5",
   "metadata": {},
   "outputs": [],
   "source": [
    "import numpy as np\n",
    "from scipy.stats import chi2\n",
    "from scipy.stats import poisson"
   ]
  },
  {
   "cell_type": "code",
   "execution_count": 45,
   "id": "eeb546bf",
   "metadata": {},
   "outputs": [],
   "source": [
    "X = np.array([584., 398., 165., 35., 15.])"
   ]
  },
  {
   "cell_type": "code",
   "execution_count": 46,
   "id": "6d3ac2ff",
   "metadata": {},
   "outputs": [],
   "source": [
    "m = X.size\n",
    "N = np.sum(X)"
   ]
  },
  {
   "cell_type": "code",
   "execution_count": 47,
   "id": "2fba89af",
   "metadata": {},
   "outputs": [
    {
     "data": {
      "text/plain": [
       "array([0.48788638, 0.33249791, 0.13784461, 0.02923977, 0.01253133])"
      ]
     },
     "metadata": {},
     "output_type": "display_data"
    }
   ],
   "source": [
    "p = X/N\n",
    "display(p)"
   ]
  },
  {
   "cell_type": "code",
   "execution_count": 49,
   "id": "ba4e1771",
   "metadata": {},
   "outputs": [
    {
     "data": {
      "text/plain": [
       "0.746031746031746"
      ]
     },
     "metadata": {},
     "output_type": "display_data"
    }
   ],
   "source": [
    "X_n = X*np.array([0, 1, 2, 3, 4])\n",
    "lam = sum(X_n)/N\n",
    "display(lam)"
   ]
  },
  {
   "cell_type": "code",
   "execution_count": 52,
   "id": "5594ccaa",
   "metadata": {},
   "outputs": [
    {
     "data": {
      "text/plain": [
       "array([0.47424475, 0.35380164, 0.13197363, 0.03281884, 0.00716115])"
      ]
     },
     "metadata": {},
     "output_type": "display_data"
    }
   ],
   "source": [
    "p0 = np.zeros(5)\n",
    "for i in range(4):\n",
    "    p0[i] = poisson.pmf(i,lam)\n",
    "p0[4] = 1.-np.sum(p0)\n",
    "# perchè altrimenti la somma non farebbe 1\n",
    "# Quindi si interpreta l'ultima frequenza come P(X >= 4)\n",
    "display(p0)"
   ]
  },
  {
   "cell_type": "code",
   "execution_count": 53,
   "id": "c727975e",
   "metadata": {},
   "outputs": [
    {
     "data": {
      "text/plain": [
       "7.6054880723053175"
      ]
     },
     "metadata": {},
     "output_type": "display_data"
    }
   ],
   "source": [
    "T = N*np.sum((p-p0)**2./p0)\n",
    "display(T)"
   ]
  },
  {
   "cell_type": "code",
   "execution_count": 56,
   "id": "c8e1e8bc",
   "metadata": {},
   "outputs": [
    {
     "data": {
      "text/plain": [
       "7.814727903251179"
      ]
     },
     "metadata": {},
     "output_type": "display_data"
    }
   ],
   "source": [
    "alpha = 0.05\n",
    "CHI = chi2.ppf(1.-alpha,m-1-1)\n",
    "display(CHI)"
   ]
  },
  {
   "cell_type": "code",
   "execution_count": null,
   "id": "db9372b3",
   "metadata": {},
   "outputs": [],
   "source": [
    "# Non è possibile respingere l'ipotesi nulla"
   ]
  }
 ],
 "metadata": {
  "kernelspec": {
   "display_name": "Python 3 (ipykernel)",
   "language": "python",
   "name": "python3"
  },
  "language_info": {
   "codemirror_mode": {
    "name": "ipython",
    "version": 3
   },
   "file_extension": ".py",
   "mimetype": "text/x-python",
   "name": "python",
   "nbconvert_exporter": "python",
   "pygments_lexer": "ipython3",
   "version": "3.11.5"
  }
 },
 "nbformat": 4,
 "nbformat_minor": 5
}
