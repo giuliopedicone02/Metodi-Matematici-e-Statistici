{
 "cells": [
  {
   "cell_type": "code",
   "execution_count": 19,
   "id": "01efc949",
   "metadata": {},
   "outputs": [],
   "source": [
    "# Test t per dati accoppiati\n",
    "# Ipotesi nulla          H_0 : mu_D = 0\n",
    "# Ipotesi alternativa    H_1 : mu_D > 0\n",
    "# Test unilatero a destra"
   ]
  },
  {
   "cell_type": "code",
   "execution_count": 20,
   "id": "8ea26c1b",
   "metadata": {},
   "outputs": [],
   "source": [
    "import numpy as np\n",
    "from scipy.stats import t"
   ]
  },
  {
   "cell_type": "code",
   "execution_count": 21,
   "id": "4c424288",
   "metadata": {},
   "outputs": [],
   "source": [
    "X = np.array([[265., 240., 258., 295., 251., 245., 287., 314., 260., 279., 283., 240., 238., 225., 247.],\n",
    "              [229., 231., 227., 240., 238., 241., 234., 256., 247., 239., 246., 218., 219., 226., 233.]])"
   ]
  },
  {
   "cell_type": "code",
   "execution_count": 22,
   "id": "f245873a",
   "metadata": {},
   "outputs": [
    {
     "data": {
      "text/plain": [
       "array([36.,  9., 31., 55., 13.,  4., 53., 58., 13., 40., 37., 22., 19.,\n",
       "       -1., 14.])"
      ]
     },
     "metadata": {},
     "output_type": "display_data"
    }
   ],
   "source": [
    "D = X[0,:]-X[1,:]\n",
    "display(D)"
   ]
  },
  {
   "cell_type": "code",
   "execution_count": 23,
   "id": "0c03641a",
   "metadata": {},
   "outputs": [],
   "source": [
    "n = D.size\n",
    "D_bar = np.mean(D)\n",
    "S = np.std(D,ddof=1)"
   ]
  },
  {
   "cell_type": "code",
   "execution_count": 24,
   "id": "a736910d",
   "metadata": {},
   "outputs": [
    {
     "data": {
      "text/plain": [
       "5.4658739941050065"
      ]
     },
     "metadata": {},
     "output_type": "display_data"
    }
   ],
   "source": [
    "T0 = D_bar/S*np.sqrt(n)\n",
    "display(T0)"
   ]
  },
  {
   "cell_type": "code",
   "execution_count": 25,
   "id": "d5da7907",
   "metadata": {},
   "outputs": [
    {
     "data": {
      "text/plain": [
       "1.7613101357748562"
      ]
     },
     "metadata": {},
     "output_type": "display_data"
    }
   ],
   "source": [
    "alpha = 0.05\n",
    "tt = t.ppf(1.-alpha,n-1)\n",
    "display(tt)"
   ]
  },
  {
   "cell_type": "code",
   "execution_count": 26,
   "id": "996c1522",
   "metadata": {},
   "outputs": [],
   "source": [
    "# Poiché T0 è maggiore di tt si rigetta H0 in favore di H1.\n",
    "# Pertanto è possibile avallare l'ipotesi che la dieta e l'esercizio fisico\n",
    "# abbiano portato a ridurre il livello di colesterolo nel sangue."
   ]
  },
  {
   "cell_type": "code",
   "execution_count": null,
   "id": "c837dee7",
   "metadata": {},
   "outputs": [],
   "source": []
  }
 ],
 "metadata": {
  "kernelspec": {
   "display_name": "Python 3 (ipykernel)",
   "language": "python",
   "name": "python3"
  },
  "language_info": {
   "codemirror_mode": {
    "name": "ipython",
    "version": 3
   },
   "file_extension": ".py",
   "mimetype": "text/x-python",
   "name": "python",
   "nbconvert_exporter": "python",
   "pygments_lexer": "ipython3",
   "version": "3.11.5"
  }
 },
 "nbformat": 4,
 "nbformat_minor": 5
}
