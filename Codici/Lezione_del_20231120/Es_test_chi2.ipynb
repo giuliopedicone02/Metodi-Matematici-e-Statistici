{
 "cells": [
  {
   "cell_type": "code",
   "execution_count": 1,
   "id": "c3f20510",
   "metadata": {},
   "outputs": [],
   "source": [
    "# Test del chi-quadro\n",
    "# Ipotesi nulla:         Il dado è equilibrato\n",
    "# Ipotesi alternativa:   Il dado non è equilibrato"
   ]
  },
  {
   "cell_type": "code",
   "execution_count": 2,
   "id": "decafdb1",
   "metadata": {},
   "outputs": [],
   "source": [
    "import numpy as np\n",
    "from scipy.stats import chi2"
   ]
  },
  {
   "cell_type": "code",
   "execution_count": 11,
   "id": "12947aad",
   "metadata": {},
   "outputs": [],
   "source": [
    "X = np.array([20., 7., 12., 18., 20., 23.])"
   ]
  },
  {
   "cell_type": "code",
   "execution_count": 12,
   "id": "fc80294f",
   "metadata": {},
   "outputs": [],
   "source": [
    "N = 100\n",
    "p = 1./6."
   ]
  },
  {
   "cell_type": "code",
   "execution_count": null,
   "id": "8fd76986",
   "metadata": {},
   "outputs": [],
   "source": [
    "# Si osserva che E_i = N*p_i = 100/6 > 5 per ogni i\n",
    "# pertanto la condizione empirica per la validità dell'approssimazione\n",
    "# normale è rispettata"
   ]
  },
  {
   "cell_type": "code",
   "execution_count": 13,
   "id": "b2e8957e",
   "metadata": {},
   "outputs": [
    {
     "data": {
      "text/plain": [
       "array([16.66666667, 16.66666667, 16.66666667, 16.66666667, 16.66666667,\n",
       "       16.66666667])"
      ]
     },
     "metadata": {},
     "output_type": "display_data"
    }
   ],
   "source": [
    "E = np.ones(6)*p*N\n",
    "display(E)"
   ]
  },
  {
   "cell_type": "code",
   "execution_count": 17,
   "id": "09ce5fc2",
   "metadata": {},
   "outputs": [
    {
     "data": {
      "text/plain": [
       "10.760000000000002"
      ]
     },
     "metadata": {},
     "output_type": "display_data"
    }
   ],
   "source": [
    "T = np.sum( (X-E)**2./E )\n",
    "display(T)"
   ]
  },
  {
   "cell_type": "code",
   "execution_count": 18,
   "id": "dd1aad7d",
   "metadata": {},
   "outputs": [
    {
     "data": {
      "text/plain": [
       "11.070497693516351"
      ]
     },
     "metadata": {},
     "output_type": "display_data"
    }
   ],
   "source": [
    "alpha = 0.05\n",
    "CHI = chi2.ppf(1.-alpha,6-1)\n",
    "display(CHI)"
   ]
  },
  {
   "cell_type": "code",
   "execution_count": 19,
   "id": "e098811b",
   "metadata": {},
   "outputs": [],
   "source": [
    "# Pertanto non possiamo respingere l'ipotesi nulla, anche se ciò\n",
    "# non significa che il dado sia equilibrato."
   ]
  },
  {
   "cell_type": "code",
   "execution_count": 20,
   "id": "e58b3e5a",
   "metadata": {},
   "outputs": [],
   "source": [
    "Y = np.array([388., 322., 314., 316., 344., 316.])"
   ]
  },
  {
   "cell_type": "code",
   "execution_count": 22,
   "id": "1e8af8c4",
   "metadata": {},
   "outputs": [],
   "source": [
    "N = np.sum(Y)\n",
    "p = 1./6."
   ]
  },
  {
   "cell_type": "code",
   "execution_count": 23,
   "id": "c85c7684",
   "metadata": {},
   "outputs": [
    {
     "data": {
      "text/plain": [
       "12.616000000000001"
      ]
     },
     "metadata": {},
     "output_type": "display_data"
    }
   ],
   "source": [
    "E = np.ones(6)*p*N\n",
    "T = np.sum( (Y-E)**2./E )\n",
    "display(T)"
   ]
  },
  {
   "cell_type": "code",
   "execution_count": 24,
   "id": "fa1b0154",
   "metadata": {},
   "outputs": [],
   "source": [
    "# Poiché T > CHI respingiamo l'ipotesi nulla in favore di quella alternativa\n",
    "# Affermiamo che il dado non è equilibrato con una significatività del 95%"
   ]
  },
  {
   "cell_type": "code",
   "execution_count": 25,
   "id": "26361d67",
   "metadata": {},
   "outputs": [
    {
     "data": {
      "text/plain": [
       "15.08627246938899"
      ]
     },
     "metadata": {},
     "output_type": "display_data"
    }
   ],
   "source": [
    "alpha = 0.01\n",
    "CHI = chi2.ppf(1.-alpha,6-1)\n",
    "display(CHI)"
   ]
  },
  {
   "cell_type": "code",
   "execution_count": null,
   "id": "76922567",
   "metadata": {},
   "outputs": [],
   "source": [
    "# Poiché T < CHI non possiamo invece respingere l'ipotesi nulla all'1%"
   ]
  }
 ],
 "metadata": {
  "kernelspec": {
   "display_name": "Python 3 (ipykernel)",
   "language": "python",
   "name": "python3"
  },
  "language_info": {
   "codemirror_mode": {
    "name": "ipython",
    "version": 3
   },
   "file_extension": ".py",
   "mimetype": "text/x-python",
   "name": "python",
   "nbconvert_exporter": "python",
   "pygments_lexer": "ipython3",
   "version": "3.11.5"
  }
 },
 "nbformat": 4,
 "nbformat_minor": 5
}
