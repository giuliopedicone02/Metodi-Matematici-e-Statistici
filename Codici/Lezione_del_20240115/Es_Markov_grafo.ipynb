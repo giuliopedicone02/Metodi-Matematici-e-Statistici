{
 "cells": [
  {
   "cell_type": "code",
   "execution_count": 18,
   "id": "0030533b",
   "metadata": {},
   "outputs": [],
   "source": [
    "# Esercizio passeggiata aleatoria su un grafo"
   ]
  },
  {
   "cell_type": "code",
   "execution_count": 19,
   "id": "84f446f9",
   "metadata": {},
   "outputs": [],
   "source": [
    "# k_1 = 3, k_2 = 3, k_3 = 3, k_4 = 3, k_5 = 4\n",
    "# Matrice di transizione\n",
    "# p_11 = 0, p_12 = 1/3, p_13 = 0, p_14 = 1/3, p_15 = 1/3\n",
    "# p_21 = 1/3, p_22 = 0, p_23 = 1/3, p_24 = 0, p_25 = 1/3\n",
    "# p_31 = 0, p_32 = 1/3, p_33 = 0, p_34 = 1/3, p_35 = 1/3\n",
    "# p_41 = 1/3, p_42 = 0, p_43 = 1/3, p_44 = 0, p_45 = 1/3\n",
    "# p_51 = 1/4, p_52 = 1/4, p_53 = 1/4, p_54 = 1/4, p_55 = 0\n",
    "#\n",
    "# Distribuzione stazionaria\n",
    "# k = 3+3+3+3+4 = 16\n",
    "# v_1 = v_2 = v_3 = v_4 = 3/16, v_5 = 4/16 = 1/4"
   ]
  },
  {
   "cell_type": "code",
   "execution_count": 20,
   "id": "553d3393",
   "metadata": {},
   "outputs": [],
   "source": [
    "import numpy as np"
   ]
  },
  {
   "cell_type": "code",
   "execution_count": 21,
   "id": "5e603f05",
   "metadata": {},
   "outputs": [
    {
     "data": {
      "text/plain": [
       "array([[0.        , 0.33333333, 0.        , 0.33333333, 0.33333333],\n",
       "       [0.33333333, 0.        , 0.33333333, 0.        , 0.33333333],\n",
       "       [0.        , 0.33333333, 0.        , 0.33333333, 0.33333333],\n",
       "       [0.33333333, 0.        , 0.33333333, 0.        , 0.33333333],\n",
       "       [0.25      , 0.25      , 0.25      , 0.25      , 0.        ]])"
      ]
     },
     "metadata": {},
     "output_type": "display_data"
    }
   ],
   "source": [
    "P = np.array([[0, 1/3, 0, 1/3, 1/3],[1/3, 0, 1/3, 0, 1/3],[0, 1/3, 0, 1/3, 1/3],\n",
    "             [1/3, 0, 1/3, 0, 1/3], [1/4, 1/4, 1/4, 1/4, 0]])\n",
    "display(P)"
   ]
  },
  {
   "cell_type": "code",
   "execution_count": 22,
   "id": "7087099b",
   "metadata": {},
   "outputs": [],
   "source": [
    "# Metodo analitico"
   ]
  },
  {
   "cell_type": "code",
   "execution_count": 23,
   "id": "126cc2a6",
   "metadata": {},
   "outputs": [
    {
     "data": {
      "text/plain": [
       "array([ 1.00000000e+00+0.00000000e+00j, -6.66666667e-01+0.00000000e+00j,\n",
       "       -3.33333333e-01+0.00000000e+00j,  1.28578937e-17+1.08402503e-17j,\n",
       "        1.28578937e-17-1.08402503e-17j])"
      ]
     },
     "metadata": {},
     "output_type": "display_data"
    },
    {
     "data": {
      "text/plain": [
       "array([[ 4.16025147e-01+0.00000000e+00j,  5.00000000e-01+0.00000000e+00j,\n",
       "         2.23606798e-01+0.00000000e+00j, -2.13720803e-02-2.22640967e-01j,\n",
       "        -2.13720803e-02+2.22640967e-01j],\n",
       "       [ 4.16025147e-01+0.00000000e+00j, -5.00000000e-01+0.00000000e+00j,\n",
       "         2.23606798e-01+0.00000000e+00j, -6.70801188e-01+4.35328926e-17j,\n",
       "        -6.70801188e-01-4.35328926e-17j],\n",
       "       [ 4.16025147e-01+0.00000000e+00j,  5.00000000e-01+0.00000000e+00j,\n",
       "         2.23606798e-01+0.00000000e+00j,  2.13720803e-02+2.22640967e-01j,\n",
       "         2.13720803e-02-2.22640967e-01j],\n",
       "       [ 4.16025147e-01+0.00000000e+00j, -5.00000000e-01+0.00000000e+00j,\n",
       "         2.23606798e-01+0.00000000e+00j,  6.70801188e-01+0.00000000e+00j,\n",
       "         6.70801188e-01-0.00000000e+00j],\n",
       "       [ 5.54700196e-01+0.00000000e+00j,  1.37920956e-16+0.00000000e+00j,\n",
       "        -8.94427191e-01+0.00000000e+00j,  1.65968556e-17-1.06442656e-17j,\n",
       "         1.65968556e-17+1.06442656e-17j]])"
      ]
     },
     "metadata": {},
     "output_type": "display_data"
    }
   ],
   "source": [
    "lam, V = np.linalg.eig(P.T)\n",
    "display(lam)\n",
    "display(V)"
   ]
  },
  {
   "cell_type": "code",
   "execution_count": 24,
   "id": "cec487ac",
   "metadata": {},
   "outputs": [
    {
     "data": {
      "text/plain": [
       "array([0.1875, 0.1875, 0.1875, 0.1875, 0.25  ])"
      ]
     },
     "metadata": {},
     "output_type": "display_data"
    }
   ],
   "source": [
    "v = np.real(V[:,0])/np.sum(np.real(V[:,0]))\n",
    "display(v)"
   ]
  },
  {
   "cell_type": "code",
   "execution_count": 25,
   "id": "e8fb0ea5",
   "metadata": {},
   "outputs": [
    {
     "data": {
      "text/plain": [
       "array([[0.30555556, 0.08333333, 0.30555556, 0.08333333, 0.22222222],\n",
       "       [0.08333333, 0.30555556, 0.08333333, 0.30555556, 0.22222222],\n",
       "       [0.30555556, 0.08333333, 0.30555556, 0.08333333, 0.22222222],\n",
       "       [0.08333333, 0.30555556, 0.08333333, 0.30555556, 0.22222222],\n",
       "       [0.16666667, 0.16666667, 0.16666667, 0.16666667, 0.33333333]])"
      ]
     },
     "metadata": {},
     "output_type": "display_data"
    }
   ],
   "source": [
    "# Dimostriamo che la catena è regolare\n",
    "# Calcoliamo P^2\n",
    "display(np.dot(P,P))"
   ]
  },
  {
   "cell_type": "code",
   "execution_count": 26,
   "id": "dc400508",
   "metadata": {},
   "outputs": [],
   "source": [
    "# Tutti gli elementi sono positivi, quindi la definizione è soddisfatta."
   ]
  },
  {
   "cell_type": "code",
   "execution_count": 27,
   "id": "e10aa6f1",
   "metadata": {},
   "outputs": [],
   "source": [
    "# Metodo Monte Carlo"
   ]
  },
  {
   "cell_type": "code",
   "execution_count": 28,
   "id": "b2c647f7",
   "metadata": {},
   "outputs": [
    {
     "data": {
      "text/plain": [
       "array([0.18639, 0.18686, 0.1881 , 0.18726, 0.25139])"
      ]
     },
     "metadata": {},
     "output_type": "display_data"
    }
   ],
   "source": [
    "n = 5 # Dimensione della matrice\n",
    "F = np.zeros(n)\n",
    "j = np.random.randint(n)\n",
    "N = 100000\n",
    "for i in range(N):\n",
    "    j_multi = np.random.multinomial(1, P[j,:])\n",
    "    j = np.nonzero(j_multi)[0][0]\n",
    "    F[j] = F[j]+1\n",
    "vv = F/N\n",
    "display(vv)"
   ]
  },
  {
   "cell_type": "code",
   "execution_count": null,
   "id": "2713c747",
   "metadata": {},
   "outputs": [],
   "source": []
  }
 ],
 "metadata": {
  "kernelspec": {
   "display_name": "Python 3 (ipykernel)",
   "language": "python",
   "name": "python3"
  },
  "language_info": {
   "codemirror_mode": {
    "name": "ipython",
    "version": 3
   },
   "file_extension": ".py",
   "mimetype": "text/x-python",
   "name": "python",
   "nbconvert_exporter": "python",
   "pygments_lexer": "ipython3",
   "version": "3.11.5"
  }
 },
 "nbformat": 4,
 "nbformat_minor": 5
}
