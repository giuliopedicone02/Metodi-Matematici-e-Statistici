{
 "cells": [
  {
   "cell_type": "code",
   "execution_count": 1,
   "id": "7bf89187",
   "metadata": {},
   "outputs": [],
   "source": [
    "# Generazione di numeri pseudo-casuali con ditribuzione Pois(lambda)"
   ]
  },
  {
   "cell_type": "code",
   "execution_count": 52,
   "id": "aed308f4",
   "metadata": {},
   "outputs": [],
   "source": [
    "import numpy as np"
   ]
  },
  {
   "cell_type": "code",
   "execution_count": 53,
   "id": "ceeadec4",
   "metadata": {},
   "outputs": [],
   "source": [
    "def rand_exp(lam):\n",
    "    eta = np.random.rand()\n",
    "    X = -np.log(eta)/lam\n",
    "    return X"
   ]
  },
  {
   "cell_type": "code",
   "execution_count": 54,
   "id": "5a9359f3",
   "metadata": {},
   "outputs": [],
   "source": [
    "def rand_pois(lam):\n",
    "    t = 0\n",
    "    X = 0\n",
    "    while t <= 1:\n",
    "        r = rand_exp(lam)\n",
    "        t = t+r\n",
    "        X = X+1\n",
    "    X = X-1\n",
    "    return X"
   ]
  },
  {
   "cell_type": "code",
   "execution_count": 80,
   "id": "302ef312",
   "metadata": {},
   "outputs": [],
   "source": [
    "lam = 2.\n",
    "N = 10000\n",
    "X = np.zeros(N)\n",
    "for i in range(N):\n",
    "    X[i] = rand_pois(lam)"
   ]
  },
  {
   "cell_type": "code",
   "execution_count": 81,
   "id": "cfa1aeef",
   "metadata": {},
   "outputs": [
    {
     "data": {
      "text/plain": [
       "11.0"
      ]
     },
     "metadata": {},
     "output_type": "display_data"
    }
   ],
   "source": [
    "M = np.max(X)\n",
    "display(M)"
   ]
  },
  {
   "cell_type": "code",
   "execution_count": 82,
   "id": "a4b46ee5",
   "metadata": {},
   "outputs": [],
   "source": [
    "F = np.zeros(int(M+1))\n",
    "for i in range(N):\n",
    "    k = int(X[i])\n",
    "    F[k] = F[k]+1\n",
    "F = F/N"
   ]
  },
  {
   "cell_type": "code",
   "execution_count": 83,
   "id": "0372a17e",
   "metadata": {},
   "outputs": [],
   "source": [
    "import matplotlib.pyplot as plt"
   ]
  },
  {
   "cell_type": "code",
   "execution_count": 84,
   "id": "c775de29",
   "metadata": {},
   "outputs": [],
   "source": [
    "xx = np.arange(int(M+1))\n",
    "from scipy.stats import poisson\n",
    "yy = poisson.pmf(xx, lam)"
   ]
  },
  {
   "cell_type": "code",
   "execution_count": 88,
   "id": "9cfbcefb",
   "metadata": {},
   "outputs": [
    {
     "data": {
      "image/png": "[encoded data removed]",
      "text/plain": [
       "<Figure size 640x480 with 1 Axes>"
      ]
     },
     "metadata": {},
     "output_type": "display_data"
    }
   ],
   "source": [
    "fig, ax = plt.subplots(1, 1)\n",
    "plt.bar(xx,F)\n",
    "plt.plot(xx,yy,'r*')\n",
    "ax.set_title(\"Distribuzione Pois(lam)\")\n",
    "plt.show()"
   ]
  },
  {
   "cell_type": "code",
   "execution_count": 89,
   "id": "0834221c",
   "metadata": {},
   "outputs": [
    {
     "data": {
      "text/plain": [
       "array([ 0,  1,  2,  3,  4,  5,  6,  7,  8,  9, 10, 11])"
      ]
     },
     "metadata": {},
     "output_type": "display_data"
    },
    {
     "data": {
      "text/plain": [
       "array([1.35335283e-01, 2.70670566e-01, 2.70670566e-01, 1.80447044e-01,\n",
       "       9.02235222e-02, 3.60894089e-02, 1.20298030e-02, 3.43708656e-03,\n",
       "       8.59271640e-04, 1.90949253e-04, 3.81898506e-05, 6.94360921e-06])"
      ]
     },
     "metadata": {},
     "output_type": "display_data"
    },
    {
     "data": {
      "text/plain": [
       "array([1.403e-01, 2.686e-01, 2.682e-01, 1.786e-01, 9.020e-02, 3.750e-02,\n",
       "       1.140e-02, 3.600e-03, 1.400e-03, 1.000e-04, 0.000e+00, 1.000e-04])"
      ]
     },
     "metadata": {},
     "output_type": "display_data"
    }
   ],
   "source": [
    "display(xx)\n",
    "display(yy)\n",
    "display(F)"
   ]
  },
  {
   "cell_type": "code",
   "execution_count": null,
   "id": "fda4aa07",
   "metadata": {},
   "outputs": [],
   "source": []
  }
 ],
 "metadata": {
  "kernelspec": {
   "display_name": "Python 3 (ipykernel)",
   "language": "python",
   "name": "python3"
  },
  "language_info": {
   "codemirror_mode": {
    "name": "ipython",
    "version": 3
   },
   "file_extension": ".py",
   "mimetype": "text/x-python",
   "name": "python",
   "nbconvert_exporter": "python",
   "pygments_lexer": "ipython3",
   "version": "3.11.5"
  }
 },
 "nbformat": 4,
 "nbformat_minor": 5
}
