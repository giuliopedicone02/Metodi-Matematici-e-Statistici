{
 "cells": [
  {
   "cell_type": "code",
   "execution_count": null,
   "metadata": {},
   "outputs": [],
   "source": [
    "#FORMULARIO PER SVOLGERE TUTTI GLI ESERCIZI IN PYTHON"
   ]
  },
  {
   "cell_type": "code",
   "execution_count": null,
   "metadata": {},
   "outputs": [],
   "source": [
    "#Variabili Aleatorie Discrete\n",
    "\n",
    "k=3;\n",
    "n=10;\n",
    "p=0.8;\n",
    "\n",
    "#binomiale\n",
    "from scipy.stats import binom\n",
    "x=binom.pmf(k,n,p)\n",
    "\n",
    "#poisson\n",
    "from scipy.stats import poisson\n",
    "x=poisson.pmf(k,n,p)\n",
    "\n",
    "#geometrica\n",
    "from scipy.stats import geom\n",
    "x=geom.pmf(k,p) #Attenzione:  calcola direttamente la T non la X!\n",
    "\n",
    "#multinomiale\n",
    "k=[3,5,2]\n",
    "p=[0.5,0.3,0.2]\n",
    "n=8;\n",
    "from scipy.stats import multinomial\n",
    "x=multinomial.pmf(k,n,p)\n",
    "\n",
    "#ipergeometrica\n",
    "k=4\n",
    "b=6\n",
    "r=4\n",
    "n=b+r-2\n",
    "tot=b+r\n",
    "from scipy.special import binom\n",
    "x=(binom(b,k)*binom(r,n-k))/binom(tot,n)\n",
    "\n",
    "#oppure\n",
    "from scipy.stats import hypergeom\n",
    "x=hypergeom(k,tot,b,n)\n",
    "\n",
    "#si consiglia la prima perchè la seconda potrebbe dare problemi\n",
    "\n",
    "#funzioni da usare:\n",
    "#pmf = densità\n",
    "#cdf = funzione di ripartizione"
   ]
  },
  {
   "cell_type": "code",
   "execution_count": null,
   "metadata": {},
   "outputs": [],
   "source": [
    "#Variabili Aleatorie Continue\n",
    "\n",
    "k=4\n",
    "\n",
    "#uniforme\n",
    "a=3\n",
    "b=8\n",
    "from scipy.stats import uniform\n",
    "x=uniform.cdf(k,a,b-a)\n",
    "\n",
    "#normale\n",
    "mu=3/2\n",
    "sig2=4\n",
    "import numpy as np\n",
    "from scipy.stats import norm\n",
    "x=norm.cdf(k,mu,np.sqrt(sig2))\n",
    "\n",
    "#esponenziale\n",
    "lam=3\n",
    "from scipy.stats import expon\n",
    "x=expon.cdf(k,scale=1/lam)\n",
    "\n",
    "#chi2\n",
    "from scipy.stats import chi2\n",
    "x=chi2.ppf(k,n)\n",
    "\n",
    "#student\n",
    "from scipy.stats import t\n",
    "x=t.ppf(k,n)\n",
    "\n",
    "#pdf = densità\n",
    "#cdf = funzione di ripartizione\n",
    "#sf = funzione di sopravvivenza (prende gli stessi parametri di cdf e pdf)\n",
    "#ppf = quantile (invece di mettere k metto q(quantile) per il resto usa gli stessi parametri)\n"
   ]
  },
  {
   "cell_type": "code",
   "execution_count": null,
   "metadata": {},
   "outputs": [],
   "source": [
    "#Grafici\n",
    "\n",
    "#Istogramma\n",
    "import numpy as np\n",
    "import matplotlib.pyplot as plt\n",
    "\n",
    "mod = [\"automobile\",\"a piedi\",\"autobus\",\"scooter\",\"bicicletta\"]\n",
    "freq = np.array([7, 3, 9, 4, 5])\n",
    "\n",
    "#creazione vera e propria\n",
    "fig, ax = plt.subplots(1, 1)\n",
    "plt.bar(mod, freq)\n",
    "\n",
    "#facoltativo\n",
    "ax.set_title(\"Mezzi di trasporto utilizzati\")\n",
    "ax.set_xlabel('modalità')\n",
    "ax.set_ylabel('frequenze')\n",
    "\n",
    "plt.show()\n",
    "\n",
    "#oppure\n",
    "\n",
    "edges = np.array([[60,62],[63,65],[66,68],[69,71],[72,74]])\n",
    "ampiezza = edges[:,1] - edges[:,0]\n",
    "centers = 0.5*(edges[:,0] + edges[:,1])\n",
    "freq = np.array([5, 18, 42, 27, 8])\n",
    "\n",
    "# crea istogramma\n",
    "fig, ax = plt.subplots(1, 1)\n",
    "plt.bar(centers, freq, width=ampiezza)\n",
    "\n",
    "#facoltativo\n",
    "ax.set_title(\"Indagine polveri sottili\")\n",
    "ax.set_xlabel('valore polveri')\n",
    "ax.set_ylabel('frequenza')\n",
    "\n",
    "plt.show()\n",
    "\n",
    "#Istogramma da usare con le randomizzazioni\n",
    "#ax.hist(Y, density=True) \n",
    "\n",
    "#Grafico a Torta\n",
    "#ax.pie(freq, label=arraydinomi, autopct='%1.1%')\n",
    "\n",
    "#Box-Plot\n",
    "#ax.boxplot(array)\n",
    "\n",
    "#QQ-Plot\n",
    "#from scipy.stats import probplot\n",
    "#ax.probplot(array,dist=distribuzione,plot=ax)"
   ]
  },
  {
   "cell_type": "code",
   "execution_count": null,
   "metadata": {},
   "outputs": [],
   "source": [
    "#Esempio di grafico di distribuzione\n",
    "import numpy as np \n",
    "import matplotlib.pyplot as plt\n",
    "from scipy.stats import norm\n",
    "\n",
    "x = np.arange(-10.,11.)\n",
    "y = norm.pdf(x)\n",
    "\n",
    "plt.plot(x,y)\n",
    "\n",
    "#facoltativo\n",
    "plt.xlabel(\"Campioni\")\n",
    "plt.ylabel(\"Distribuzione\")\n",
    "\n",
    "plt.show()"
   ]
  },
  {
   "cell_type": "code",
   "execution_count": null,
   "metadata": {},
   "outputs": [],
   "source": [
    "#Esempio grafico di funzione di ripartizione\n",
    "xx = np.linspace(-10., 11.)\n",
    "F = norm.cdf(xx)\n",
    "\n",
    "plt.plot(xx,F)\n",
    "plt.xlabel(\"Campioni\")\n",
    "plt.ylabel(\"F(t)\")\n",
    "plt.show()"
   ]
  },
  {
   "cell_type": "code",
   "execution_count": null,
   "metadata": {},
   "outputs": [],
   "source": [
    "#Esercizio intervallo di confidenza per la media con varianza nota\n",
    "import numpy as np\n",
    "from scipy.stats import norm\n",
    "import matplotlib.pyplot as plt\n",
    "\n",
    "X = np.array([11., 13.2, 12.3, 10.9, 13., 10.5, 12.3, 13., 13.15])\n",
    "\n",
    "me = np.mean(X) #media\n",
    "n = X.size\n",
    "sig = 1. #varianza nota\n",
    "\n",
    "alpha = 0.05 #intervallo di confidenza al 95% quindi alpha al 5%\n",
    "phi = norm.ppf(1.-alpha/2.) #si usa la distribuzione normale\n",
    "\n",
    "Il = me - sig/np.sqrt(n)*phi #formula intervallo sinistro\n",
    "Ir = me + sig/np.sqrt(n)*phi #formula intervallo destro\n",
    "\n",
    "display(Il,Ir)"
   ]
  },
  {
   "cell_type": "code",
   "execution_count": null,
   "metadata": {},
   "outputs": [],
   "source": [
    "#Esercizio intervallo di confidenza per la media con varianza ignota\n",
    "import numpy as np\n",
    "from scipy.stats import t\n",
    "import matplotlib.pyplot as plt\n",
    "\n",
    "X = np.array([11., 13.2, 12.3, 10.9, 13., 10.5, 12.3, 13., 13.15])\n",
    "\n",
    "me = np.mean(X) #media\n",
    "n = X.size\n",
    "S = np.std(X, ddof=1) #stimatore varianza\n",
    "\n",
    "alpha = 0.05 #intervallo di confidenza al 95% quindi alpha al 5%\n",
    "t = t.ppf(1.-alpha/2.,n-1) #si usa la distribuzione di student\n",
    "\n",
    "Il = me - S/np.sqrt(n)*t #formula intervallo sinistro\n",
    "Ir = me + S/np.sqrt(n)*t #formula intervallo destro\n",
    "\n",
    "display(Il,Ir)"
   ]
  },
  {
   "cell_type": "code",
   "execution_count": null,
   "metadata": {},
   "outputs": [],
   "source": [
    "#Per i Test di Ipotesi basta seguire le formule"
   ]
  },
  {
   "cell_type": "code",
   "execution_count": 53,
   "metadata": {},
   "outputs": [
    {
     "data": {
      "text/plain": [
       "0.39691"
      ]
     },
     "metadata": {},
     "output_type": "display_data"
    },
    {
     "data": {
      "text/plain": [
       "0.60309"
      ]
     },
     "metadata": {},
     "output_type": "display_data"
    },
    {
     "data": {
      "text/plain": [
       "0.4"
      ]
     },
     "metadata": {},
     "output_type": "display_data"
    },
    {
     "data": {
      "text/plain": [
       "0.6"
      ]
     },
     "metadata": {},
     "output_type": "display_data"
    }
   ],
   "source": [
    "#Esempio di come verificare se la randomizzazione segue una binomiale\n",
    "\n",
    "N = 100000\n",
    "X = np.zeros(N)\n",
    "for i in range(N):\n",
    "    xi = np.random.rand()\n",
    "    if xi < p:\n",
    "        X[i] = 1\n",
    "    else:\n",
    "        X[i] = 0\n",
    "\n",
    "# Frequenze osservate\n",
    "N_succ = np.sum(X)\n",
    "N_insucc = N-N_succ\n",
    "\n",
    "# Probabilità empiriche\n",
    "p_succ = N_succ/N\n",
    "p_insucc = N_insucc/N\n",
    "\n",
    "display(p_succ,p_insucc)\n",
    "\n",
    "# Probabilità teoriche\n",
    "display(p,1.-p)"
   ]
  },
  {
   "cell_type": "code",
   "execution_count": 54,
   "metadata": {},
   "outputs": [],
   "source": [
    "#Esempio di come verificare che la randomizzazione segua una multinomiale\n",
    "\n",
    "def rand_multi(p):\n",
    "    F = np.cumsum(p)\n",
    "    xi = np.random.rand()\n",
    "    x = np.nonzero(xi<F)[0][0]+1\n",
    "    return x\n",
    "\n",
    "p = np.array([1/4, 1/2, 1/4])\n",
    "\n",
    "N = 2000\n",
    "X = np.zeros(N)\n",
    "for i in range(N):\n",
    "    X[i] = rand_multi(p)\n",
    "\n",
    "m = p.size\n",
    "F = np.zeros(m)\n",
    "for i in range(m):\n",
    "    F[i] = np.sum(X==i+1)"
   ]
  }
 ],
 "metadata": {
  "kernelspec": {
   "display_name": "Python 3",
   "language": "python",
   "name": "python3"
  },
  "language_info": {
   "codemirror_mode": {
    "name": "ipython",
    "version": 3
   },
   "file_extension": ".py",
   "mimetype": "text/x-python",
   "name": "python",
   "nbconvert_exporter": "python",
   "pygments_lexer": "ipython3",
   "version": "3.8.10"
  }
 },
 "nbformat": 4,
 "nbformat_minor": 2
}
